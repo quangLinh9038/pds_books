{
 "cells": [
  {
   "cell_type": "markdown",
   "metadata": {},
   "source": [
    "# COSC2789-Practical Data Science\n",
    "# Assignment 2: Data Modelling\n",
    "### Due date: Jan 4, 2020\n",
    "### Lecturer: Vo Ngoc Yen Nhi\n",
    "\n",
    "\n",
    "###\n",
    "\n",
    "### Student: Nguyen Quang Linh\n",
    "### ID: s3697110\n",
    "\n",
    "\n",
    "###\n",
    "\n",
    "#### This notebook is the submission for the assignment 2. \n",
    "\n",
    "This notebook is going to explore the data of books as indeX_trained on Goodreads. From this, models can be builed to predict the average rating of these books. \n",
    "\n",
    "#### Acknowlegdements  \n",
    "Books are scraped from a list titles the \"Best Books Ever\" which can be found here https://www.goodreads.com/list/show/1.Best_Books_Ever page. We thank Kaggle Community for providing this dataset and Goodreads for housing the data.\n",
    "\n",
    "\n",
    "# Import Libraries"
   ]
  },
  {
   "cell_type": "code",
   "execution_count": 1,
   "metadata": {},
   "outputs": [],
   "source": [
    "#import necessary libraries\n",
    "import numpy as np\n",
    "import pandas as pd \n",
    "import matplotlib.pyplot as plt \n",
    "import matplotlib.gridspec as gridspec\n",
    "import matplotlib.style as style\n",
    "import seaborn as sns\n",
    "\n",
    "from scipy import stats\n",
    "from sklearn import linear_model\n",
    "from sklearn import preprocessing\n",
    "from sklearn.model_selection import train_test_split\n",
    "import sklearn.metrics as metrics\n",
    "\n",
    "import time\n",
    "import warnings \n",
    "import re\n",
    "import joblib\n",
    "import pickle\n",
    "# seaborn theme\n",
    "sns.set_theme(style=\"darkgrid\")\n",
    "style.use('fivethirtyeight')\n",
    "\n",
    "warnings.filterwarnings(\"ignore\")"
   ]
  },
  {
   "cell_type": "code",
   "execution_count": 2,
   "metadata": {},
   "outputs": [
    {
     "name": "stderr",
     "output_type": "stream",
     "text": [
      "[nltk_data] Downloading package stopwords to\n",
      "[nltk_data]     C:\\Users\\quang\\AppData\\Roaming\\nltk_data...\n",
      "[nltk_data]   Package stopwords is already up-to-date!\n",
      "[nltk_data] Downloading package wordnet to\n",
      "[nltk_data]     C:\\Users\\quang\\AppData\\Roaming\\nltk_data...\n",
      "[nltk_data]   Package wordnet is already up-to-date!\n",
      "[nltk_data] Error loading vader_leX_trainicon: Package\n",
      "[nltk_data]     'vader_leX_trainicon' not found in index\n"
     ]
    }
   ],
   "source": [
    "# natural langue process libraries\n",
    "import nltk\n",
    "nltk.download('stopwords')\n",
    "nltk.download('wordnet')\n",
    "nltk.download('vader_leX_trainicon')\n",
    "from nltk.stem.porter import PorterStemmer\n",
    "from nltk.corpus import stopwords"
   ]
  },
  {
   "cell_type": "code",
   "execution_count": 3,
   "metadata": {},
   "outputs": [],
   "source": [
    "# maX_train column\n",
    "pd.options.display.max_columns = None"
   ]
  },
  {
   "cell_type": "markdown",
   "metadata": {},
   "source": [
    "# Task 1.1: Data Prepatation"
   ]
  },
  {
   "cell_type": "markdown",
   "metadata": {},
   "source": [
    "### Detecting unicode "
   ]
  },
  {
   "cell_type": "code",
   "execution_count": 4,
   "metadata": {},
   "outputs": [
    {
     "name": "stdout",
     "output_type": "stream",
     "text": [
      "Filename:                                    Unicode: \n",
      "data\\sampleSubmission.csv                     ascii\n",
      "data\\X_test.csv                               utf-8\n",
      "data\\X_test_clean.csv                         utf-8\n",
      "data\\X_train.csv                              utf-8\n",
      "data\\X_train_clean.csv                        utf-8\n",
      "data\\y_train.csv                              ascii\n"
     ]
    }
   ],
   "source": [
    "# libraries to detect encoding \n",
    "import chardet\n",
    "import glob\n",
    "\n",
    "# for any csv file, print filename and guessing unicode detection \n",
    "print(\"Filename: \".ljust(45) + \"Unicode: \")\n",
    "for filename in glob.glob('data/*.csv'):\n",
    "    with open(filename, 'rb') as rawdata:\n",
    "        result = chardet.detect(rawdata.read(40000))\n",
    "        \n",
    "        print( filename.ljust(45),  result['encoding'])"
   ]
  },
  {
   "cell_type": "markdown",
   "metadata": {},
   "source": [
    "This function is referred from [this](https://www.kaggle.com/rtatman/character-encodings-tips-tricks) article by Rachael Tatman (2018)."
   ]
  },
  {
   "cell_type": "markdown",
   "metadata": {},
   "source": [
    "### Quick look on training dataset"
   ]
  },
  {
   "cell_type": "code",
   "execution_count": 5,
   "metadata": {},
   "outputs": [
    {
     "data": {
      "text/html": [
       "<div>\n",
       "<style scoped>\n",
       "    .dataframe tbody tr th:only-of-type {\n",
       "        vertical-align: middle;\n",
       "    }\n",
       "\n",
       "    .dataframe tbody tr th {\n",
       "        vertical-align: top;\n",
       "    }\n",
       "\n",
       "    .dataframe thead th {\n",
       "        text-align: right;\n",
       "    }\n",
       "</style>\n",
       "<table border=\"1\" class=\"dataframe\">\n",
       "  <thead>\n",
       "    <tr style=\"text-align: right;\">\n",
       "      <th></th>\n",
       "      <th>id</th>\n",
       "      <th>title</th>\n",
       "      <th>link</th>\n",
       "      <th>series</th>\n",
       "      <th>cover_link</th>\n",
       "      <th>author</th>\n",
       "      <th>author_link</th>\n",
       "      <th>rating_count</th>\n",
       "      <th>review_count</th>\n",
       "      <th>number_of_pages</th>\n",
       "      <th>date_published</th>\n",
       "      <th>publisher</th>\n",
       "      <th>original_title</th>\n",
       "      <th>genre_and_votes</th>\n",
       "      <th>isbn</th>\n",
       "      <th>isbn13</th>\n",
       "      <th>asin</th>\n",
       "      <th>settings</th>\n",
       "      <th>characters</th>\n",
       "      <th>awards</th>\n",
       "      <th>amazon_redirect_link</th>\n",
       "      <th>worldcat_redirect_link</th>\n",
       "      <th>recommended_books</th>\n",
       "      <th>books_in_series</th>\n",
       "      <th>description</th>\n",
       "    </tr>\n",
       "  </thead>\n",
       "  <tbody>\n",
       "    <tr>\n",
       "      <th>0</th>\n",
       "      <td>2533958</td>\n",
       "      <td>Frost/Nixon</td>\n",
       "      <td>https://www.goodreads.com//book/show/2533958.F...</td>\n",
       "      <td>NaN</td>\n",
       "      <td>https://i.gr-assets.com/images/S/compressed.ph...</td>\n",
       "      <td>David Frost</td>\n",
       "      <td>https://www.goodreads.com/author/show/264173.D...</td>\n",
       "      <td>523</td>\n",
       "      <td>51</td>\n",
       "      <td>338.0</td>\n",
       "      <td>December 31st 1975</td>\n",
       "      <td>MacMillan</td>\n",
       "      <td>Frost/Nixon: Behind the Scenes of the Nixon In...</td>\n",
       "      <td>History 42, Nonfiction 33, Politics 28, Biogra...</td>\n",
       "      <td>0230531148</td>\n",
       "      <td>9780230531147</td>\n",
       "      <td>NaN</td>\n",
       "      <td>NaN</td>\n",
       "      <td>Richard Nixon, David Frost</td>\n",
       "      <td>NaN</td>\n",
       "      <td>https://www.goodreads.com//book_link/follow/17...</td>\n",
       "      <td>https://www.goodreads.com//book_link/follow/8?...</td>\n",
       "      <td>13167112, 13167112, 29429295, 2074322, 3025937...</td>\n",
       "      <td>NaN</td>\n",
       "      <td>Including hilarious tales of the people he enc...</td>\n",
       "    </tr>\n",
       "    <tr>\n",
       "      <th>1</th>\n",
       "      <td>16071790</td>\n",
       "      <td>Just What Kind of Mother Are You?</td>\n",
       "      <td>https://www.goodreads.com//book/show/16071790-...</td>\n",
       "      <td>NaN</td>\n",
       "      <td>https://i.gr-assets.com/images/S/compressed.ph...</td>\n",
       "      <td>Paula Daly</td>\n",
       "      <td>https://www.goodreads.com/author/show/6175529....</td>\n",
       "      <td>10092</td>\n",
       "      <td>1236</td>\n",
       "      <td>320.0</td>\n",
       "      <td>April 28th 2013</td>\n",
       "      <td>Doubleday Canada</td>\n",
       "      <td>Just What Kind of Mother Are You?</td>\n",
       "      <td>Mystery 136, Fiction 122, Thriller 90, Suspens...</td>\n",
       "      <td>0385680074</td>\n",
       "      <td>9780385680073</td>\n",
       "      <td>NaN</td>\n",
       "      <td>NaN</td>\n",
       "      <td>NaN</td>\n",
       "      <td>NaN</td>\n",
       "      <td>https://www.goodreads.com//book_link/follow/1?...</td>\n",
       "      <td>https://www.goodreads.com//book_link/follow/8?...</td>\n",
       "      <td>42614702, 42614702, 42182331, 45730306, 379129...</td>\n",
       "      <td>NaN</td>\n",
       "      <td>A searing and sinister thriller for readers wh...</td>\n",
       "    </tr>\n",
       "  </tbody>\n",
       "</table>\n",
       "</div>"
      ],
      "text/plain": [
       "         id                              title  \\\n",
       "0   2533958                        Frost/Nixon   \n",
       "1  16071790  Just What Kind of Mother Are You?   \n",
       "\n",
       "                                                link series  \\\n",
       "0  https://www.goodreads.com//book/show/2533958.F...    NaN   \n",
       "1  https://www.goodreads.com//book/show/16071790-...    NaN   \n",
       "\n",
       "                                          cover_link       author  \\\n",
       "0  https://i.gr-assets.com/images/S/compressed.ph...  David Frost   \n",
       "1  https://i.gr-assets.com/images/S/compressed.ph...   Paula Daly   \n",
       "\n",
       "                                         author_link  rating_count  \\\n",
       "0  https://www.goodreads.com/author/show/264173.D...           523   \n",
       "1  https://www.goodreads.com/author/show/6175529....         10092   \n",
       "\n",
       "   review_count  number_of_pages      date_published         publisher  \\\n",
       "0            51            338.0  December 31st 1975         MacMillan   \n",
       "1          1236            320.0     April 28th 2013  Doubleday Canada   \n",
       "\n",
       "                                      original_title  \\\n",
       "0  Frost/Nixon: Behind the Scenes of the Nixon In...   \n",
       "1                  Just What Kind of Mother Are You?   \n",
       "\n",
       "                                     genre_and_votes        isbn  \\\n",
       "0  History 42, Nonfiction 33, Politics 28, Biogra...  0230531148   \n",
       "1  Mystery 136, Fiction 122, Thriller 90, Suspens...  0385680074   \n",
       "\n",
       "          isbn13 asin settings                  characters awards  \\\n",
       "0  9780230531147  NaN      NaN  Richard Nixon, David Frost    NaN   \n",
       "1  9780385680073  NaN      NaN                         NaN    NaN   \n",
       "\n",
       "                                amazon_redirect_link  \\\n",
       "0  https://www.goodreads.com//book_link/follow/17...   \n",
       "1  https://www.goodreads.com//book_link/follow/1?...   \n",
       "\n",
       "                              worldcat_redirect_link  \\\n",
       "0  https://www.goodreads.com//book_link/follow/8?...   \n",
       "1  https://www.goodreads.com//book_link/follow/8?...   \n",
       "\n",
       "                                   recommended_books books_in_series  \\\n",
       "0  13167112, 13167112, 29429295, 2074322, 3025937...             NaN   \n",
       "1  42614702, 42614702, 42182331, 45730306, 379129...             NaN   \n",
       "\n",
       "                                         description  \n",
       "0  Including hilarious tales of the people he enc...  \n",
       "1  A searing and sinister thriller for readers wh...  "
      ]
     },
     "execution_count": 5,
     "metadata": {},
     "output_type": "execute_result"
    }
   ],
   "source": [
    "#import training data.\n",
    "X_train = pd.read_csv(\"data/X_train.csv\", encoding = 'utf-8')\n",
    "\n",
    "#print data\n",
    "X_train.head(2)"
   ]
  },
  {
   "cell_type": "markdown",
   "metadata": {},
   "source": [
    "### Quick look on testing data"
   ]
  },
  {
   "cell_type": "code",
   "execution_count": 6,
   "metadata": {},
   "outputs": [
    {
     "data": {
      "text/html": [
       "<div>\n",
       "<style scoped>\n",
       "    .dataframe tbody tr th:only-of-type {\n",
       "        vertical-align: middle;\n",
       "    }\n",
       "\n",
       "    .dataframe tbody tr th {\n",
       "        vertical-align: top;\n",
       "    }\n",
       "\n",
       "    .dataframe thead th {\n",
       "        text-align: right;\n",
       "    }\n",
       "</style>\n",
       "<table border=\"1\" class=\"dataframe\">\n",
       "  <thead>\n",
       "    <tr style=\"text-align: right;\">\n",
       "      <th></th>\n",
       "      <th>id</th>\n",
       "      <th>title</th>\n",
       "      <th>link</th>\n",
       "      <th>series</th>\n",
       "      <th>cover_link</th>\n",
       "      <th>author</th>\n",
       "      <th>author_link</th>\n",
       "      <th>rating_count</th>\n",
       "      <th>review_count</th>\n",
       "      <th>number_of_pages</th>\n",
       "      <th>date_published</th>\n",
       "      <th>publisher</th>\n",
       "      <th>original_title</th>\n",
       "      <th>genre_and_votes</th>\n",
       "      <th>isbn</th>\n",
       "      <th>isbn13</th>\n",
       "      <th>asin</th>\n",
       "      <th>settings</th>\n",
       "      <th>characters</th>\n",
       "      <th>awards</th>\n",
       "      <th>amazon_redirect_link</th>\n",
       "      <th>worldcat_redirect_link</th>\n",
       "      <th>recommended_books</th>\n",
       "      <th>books_in_series</th>\n",
       "      <th>description</th>\n",
       "    </tr>\n",
       "  </thead>\n",
       "  <tbody>\n",
       "    <tr>\n",
       "      <th>0</th>\n",
       "      <td>6333213</td>\n",
       "      <td>The Way of the Bow</td>\n",
       "      <td>https://www.goodreads.com//book/show/6333213-t...</td>\n",
       "      <td>NaN</td>\n",
       "      <td>https://i.gr-assets.com/images/S/compressed.ph...</td>\n",
       "      <td>Paulo Coelho</td>\n",
       "      <td>https://www.goodreads.com/author/show/566.Paul...</td>\n",
       "      <td>2179</td>\n",
       "      <td>180</td>\n",
       "      <td>76.0</td>\n",
       "      <td>2003</td>\n",
       "      <td>NaN</td>\n",
       "      <td>The Way of the Bow</td>\n",
       "      <td>Fiction 39, Philosophy 15, Inspirational 6, Se...</td>\n",
       "      <td>0557010071</td>\n",
       "      <td>9.780557e+12</td>\n",
       "      <td>NaN</td>\n",
       "      <td>NaN</td>\n",
       "      <td>NaN</td>\n",
       "      <td>NaN</td>\n",
       "      <td>https://www.goodreads.com//book_link/follow/17...</td>\n",
       "      <td>https://www.goodreads.com//book_link/follow/8?...</td>\n",
       "      <td>52049749, 52049749, 9242583, 50058600, 1194740...</td>\n",
       "      <td>NaN</td>\n",
       "      <td>âThe Way of the Bowâ relates the story of ...</td>\n",
       "    </tr>\n",
       "    <tr>\n",
       "      <th>1</th>\n",
       "      <td>493553</td>\n",
       "      <td>The Silver Child</td>\n",
       "      <td>https://www.goodreads.com//book/show/493553.Th...</td>\n",
       "      <td>(Silver Sequence #1)</td>\n",
       "      <td>https://i.gr-assets.com/images/S/compressed.ph...</td>\n",
       "      <td>Cliff McNish</td>\n",
       "      <td>https://www.goodreads.com/author/show/27813.Cl...</td>\n",
       "      <td>874</td>\n",
       "      <td>84</td>\n",
       "      <td>192.0</td>\n",
       "      <td>August 1st 2003</td>\n",
       "      <td>First Avenue Editions</td>\n",
       "      <td>The Silver Child</td>\n",
       "      <td>Fantasy 30, Young Adult 15, Science Fiction 14...</td>\n",
       "      <td>082256503X</td>\n",
       "      <td>9.780823e+12</td>\n",
       "      <td>NaN</td>\n",
       "      <td>NaN</td>\n",
       "      <td>NaN</td>\n",
       "      <td>NaN</td>\n",
       "      <td>https://www.goodreads.com//book_link/follow/17...</td>\n",
       "      <td>https://www.goodreads.com//book_link/follow/8?...</td>\n",
       "      <td>13542616, 13542616, 13274082, 16072988, 58085,...</td>\n",
       "      <td>36448526, 36448541</td>\n",
       "      <td>Six children leave the comfort of their homes....</td>\n",
       "    </tr>\n",
       "  </tbody>\n",
       "</table>\n",
       "</div>"
      ],
      "text/plain": [
       "        id               title  \\\n",
       "0  6333213  The Way of the Bow   \n",
       "1   493553    The Silver Child   \n",
       "\n",
       "                                                link                series  \\\n",
       "0  https://www.goodreads.com//book/show/6333213-t...                   NaN   \n",
       "1  https://www.goodreads.com//book/show/493553.Th...  (Silver Sequence #1)   \n",
       "\n",
       "                                          cover_link        author  \\\n",
       "0  https://i.gr-assets.com/images/S/compressed.ph...  Paulo Coelho   \n",
       "1  https://i.gr-assets.com/images/S/compressed.ph...  Cliff McNish   \n",
       "\n",
       "                                         author_link  rating_count  \\\n",
       "0  https://www.goodreads.com/author/show/566.Paul...          2179   \n",
       "1  https://www.goodreads.com/author/show/27813.Cl...           874   \n",
       "\n",
       "   review_count  number_of_pages   date_published              publisher  \\\n",
       "0           180             76.0             2003                    NaN   \n",
       "1            84            192.0  August 1st 2003  First Avenue Editions   \n",
       "\n",
       "       original_title                                    genre_and_votes  \\\n",
       "0  The Way of the Bow  Fiction 39, Philosophy 15, Inspirational 6, Se...   \n",
       "1    The Silver Child  Fantasy 30, Young Adult 15, Science Fiction 14...   \n",
       "\n",
       "         isbn        isbn13 asin settings characters awards  \\\n",
       "0  0557010071  9.780557e+12  NaN      NaN        NaN    NaN   \n",
       "1  082256503X  9.780823e+12  NaN      NaN        NaN    NaN   \n",
       "\n",
       "                                amazon_redirect_link  \\\n",
       "0  https://www.goodreads.com//book_link/follow/17...   \n",
       "1  https://www.goodreads.com//book_link/follow/17...   \n",
       "\n",
       "                              worldcat_redirect_link  \\\n",
       "0  https://www.goodreads.com//book_link/follow/8?...   \n",
       "1  https://www.goodreads.com//book_link/follow/8?...   \n",
       "\n",
       "                                   recommended_books     books_in_series  \\\n",
       "0  52049749, 52049749, 9242583, 50058600, 1194740...                 NaN   \n",
       "1  13542616, 13542616, 13274082, 16072988, 58085,...  36448526, 36448541   \n",
       "\n",
       "                                         description  \n",
       "0  âThe Way of the Bowâ relates the story of ...  \n",
       "1  Six children leave the comfort of their homes....  "
      ]
     },
     "execution_count": 6,
     "metadata": {},
     "output_type": "execute_result"
    }
   ],
   "source": [
    "# import testing data.\n",
    "X_test = pd.read_csv(\"data/X_test.csv\", encoding = \"utf-8\")\n",
    "X_test.head(2)"
   ]
  },
  {
   "cell_type": "markdown",
   "metadata": {},
   "source": [
    "### Quick look on target feature column "
   ]
  },
  {
   "cell_type": "code",
   "execution_count": 7,
   "metadata": {},
   "outputs": [
    {
     "data": {
      "text/html": [
       "<div>\n",
       "<style scoped>\n",
       "    .dataframe tbody tr th:only-of-type {\n",
       "        vertical-align: middle;\n",
       "    }\n",
       "\n",
       "    .dataframe tbody tr th {\n",
       "        vertical-align: top;\n",
       "    }\n",
       "\n",
       "    .dataframe thead th {\n",
       "        text-align: right;\n",
       "    }\n",
       "</style>\n",
       "<table border=\"1\" class=\"dataframe\">\n",
       "  <thead>\n",
       "    <tr style=\"text-align: right;\">\n",
       "      <th></th>\n",
       "      <th>id</th>\n",
       "      <th>average_rating</th>\n",
       "    </tr>\n",
       "  </thead>\n",
       "  <tbody>\n",
       "    <tr>\n",
       "      <th>0</th>\n",
       "      <td>2533958</td>\n",
       "      <td>3.62</td>\n",
       "    </tr>\n",
       "    <tr>\n",
       "      <th>1</th>\n",
       "      <td>16071790</td>\n",
       "      <td>3.80</td>\n",
       "    </tr>\n",
       "    <tr>\n",
       "      <th>2</th>\n",
       "      <td>13825165</td>\n",
       "      <td>3.55</td>\n",
       "    </tr>\n",
       "    <tr>\n",
       "      <th>3</th>\n",
       "      <td>18061</td>\n",
       "      <td>4.24</td>\n",
       "    </tr>\n",
       "    <tr>\n",
       "      <th>4</th>\n",
       "      <td>3766428</td>\n",
       "      <td>4.33</td>\n",
       "    </tr>\n",
       "  </tbody>\n",
       "</table>\n",
       "</div>"
      ],
      "text/plain": [
       "         id  average_rating\n",
       "0   2533958            3.62\n",
       "1  16071790            3.80\n",
       "2  13825165            3.55\n",
       "3     18061            4.24\n",
       "4   3766428            4.33"
      ]
     },
     "execution_count": 7,
     "metadata": {},
     "output_type": "execute_result"
    }
   ],
   "source": [
    "# import label column (average_rating)\n",
    "y_train = pd.read_csv(\"data/y_train.csv\",encoding = \"ascii\")\n",
    "y_train.head()"
   ]
  },
  {
   "cell_type": "markdown",
   "metadata": {},
   "source": [
    "# Describe the Datasets"
   ]
  },
  {
   "cell_type": "code",
   "execution_count": 8,
   "metadata": {},
   "outputs": [
    {
     "name": "stdout",
     "output_type": "stream",
     "text": [
      "Train set  has 41759 rows and 25 columns\n",
      "Test set  has 10440 rows and 25 columns\n",
      "Target feature set has 41759 rows\n"
     ]
    }
   ],
   "source": [
    "print (f\"Train set  has {X_train.shape[0]} rows and {X_train.shape[1]} columns\")\n",
    "print (f\"Test set  has {X_test.shape[0]} rows and {X_test.shape[1]} columns\")\n",
    "print (f\"Target feature set has {y_train.shape[0]} rows\")"
   ]
  },
  {
   "cell_type": "markdown",
   "metadata": {},
   "source": [
    "- It is obvious that two dataset train and set has the same numbers of columns \n",
    "\n",
    "- Target rows are equal to training data rows. "
   ]
  },
  {
   "cell_type": "markdown",
   "metadata": {},
   "source": [
    "## X_train Dataset"
   ]
  },
  {
   "cell_type": "code",
   "execution_count": 9,
   "metadata": {},
   "outputs": [
    {
     "name": "stdout",
     "output_type": "stream",
     "text": [
      "<class 'pandas.core.frame.DataFrame'>\n",
      "RangeIndex: 41759 entries, 0 to 41758\n",
      "Data columns (total 25 columns):\n",
      " #   Column                  Non-Null Count  Dtype  \n",
      "---  ------                  --------------  -----  \n",
      " 0   id                      41759 non-null  int64  \n",
      " 1   title                   41759 non-null  object \n",
      " 2   link                    41759 non-null  object \n",
      " 3   series                  18647 non-null  object \n",
      " 4   cover_link              41273 non-null  object \n",
      " 5   author                  41759 non-null  object \n",
      " 6   author_link             41759 non-null  object \n",
      " 7   rating_count            41759 non-null  int64  \n",
      " 8   review_count            41759 non-null  int64  \n",
      " 9   number_of_pages         39886 non-null  float64\n",
      " 10  date_published          41071 non-null  object \n",
      " 11  publisher               38866 non-null  object \n",
      " 12  original_title          31463 non-null  object \n",
      " 13  genre_and_votes         39521 non-null  object \n",
      " 14  isbn                    32284 non-null  object \n",
      " 15  isbn13                  31660 non-null  object \n",
      " 16  asin                    4154 non-null   object \n",
      " 17  settings                9286 non-null   object \n",
      " 18  characters              10977 non-null  object \n",
      " 19  awards                  8503 non-null   object \n",
      " 20  amazon_redirect_link    41759 non-null  object \n",
      " 21  worldcat_redirect_link  38556 non-null  object \n",
      " 22  recommended_books       38608 non-null  object \n",
      " 23  books_in_series         17663 non-null  object \n",
      " 24  description             39688 non-null  object \n",
      "dtypes: float64(1), int64(3), object(21)\n",
      "memory usage: 8.0+ MB\n"
     ]
    }
   ],
   "source": [
    "# training dataset info\n",
    "X_train.info()"
   ]
  },
  {
   "cell_type": "markdown",
   "metadata": {},
   "source": [
    "## Brief Descriptions: \n",
    "\n",
    "- There are four numerical data columns including int64 and float64 datatypes\n",
    "\n",
    "- The rest is all object datatype including string values"
   ]
  },
  {
   "cell_type": "code",
   "execution_count": 10,
   "metadata": {},
   "outputs": [
    {
     "data": {
      "text/html": [
       "<div>\n",
       "<style scoped>\n",
       "    .dataframe tbody tr th:only-of-type {\n",
       "        vertical-align: middle;\n",
       "    }\n",
       "\n",
       "    .dataframe tbody tr th {\n",
       "        vertical-align: top;\n",
       "    }\n",
       "\n",
       "    .dataframe thead th {\n",
       "        text-align: right;\n",
       "    }\n",
       "</style>\n",
       "<table border=\"1\" class=\"dataframe\">\n",
       "  <thead>\n",
       "    <tr style=\"text-align: right;\">\n",
       "      <th></th>\n",
       "      <th>count</th>\n",
       "      <th>unique</th>\n",
       "      <th>top</th>\n",
       "      <th>freq</th>\n",
       "    </tr>\n",
       "  </thead>\n",
       "  <tbody>\n",
       "    <tr>\n",
       "      <th>title</th>\n",
       "      <td>41759</td>\n",
       "      <td>40047</td>\n",
       "      <td>Legacy</td>\n",
       "      <td>11</td>\n",
       "    </tr>\n",
       "    <tr>\n",
       "      <th>link</th>\n",
       "      <td>41759</td>\n",
       "      <td>41759</td>\n",
       "      <td>https://www.goodreads.com//book/show/26026066-...</td>\n",
       "      <td>1</td>\n",
       "    </tr>\n",
       "    <tr>\n",
       "      <th>series</th>\n",
       "      <td>18647</td>\n",
       "      <td>18197</td>\n",
       "      <td>(Sherlock Holmes)</td>\n",
       "      <td>12</td>\n",
       "    </tr>\n",
       "    <tr>\n",
       "      <th>cover_link</th>\n",
       "      <td>41273</td>\n",
       "      <td>41273</td>\n",
       "      <td>https://i.gr-assets.com/images/S/compressed.ph...</td>\n",
       "      <td>1</td>\n",
       "    </tr>\n",
       "    <tr>\n",
       "      <th>author</th>\n",
       "      <td>41759</td>\n",
       "      <td>23482</td>\n",
       "      <td>Nora Roberts</td>\n",
       "      <td>65</td>\n",
       "    </tr>\n",
       "    <tr>\n",
       "      <th>author_link</th>\n",
       "      <td>41759</td>\n",
       "      <td>19803</td>\n",
       "      <td>https://www.goodreads.com/author/show/3389.Ste...</td>\n",
       "      <td>82</td>\n",
       "    </tr>\n",
       "    <tr>\n",
       "      <th>date_published</th>\n",
       "      <td>41071</td>\n",
       "      <td>8299</td>\n",
       "      <td>2009</td>\n",
       "      <td>371</td>\n",
       "    </tr>\n",
       "    <tr>\n",
       "      <th>publisher</th>\n",
       "      <td>38866</td>\n",
       "      <td>9514</td>\n",
       "      <td>Vintage</td>\n",
       "      <td>457</td>\n",
       "    </tr>\n",
       "    <tr>\n",
       "      <th>original_title</th>\n",
       "      <td>31463</td>\n",
       "      <td>30516</td>\n",
       "      <td>Legacy</td>\n",
       "      <td>8</td>\n",
       "    </tr>\n",
       "    <tr>\n",
       "      <th>genre_and_votes</th>\n",
       "      <td>39521</td>\n",
       "      <td>37957</td>\n",
       "      <td>Fiction 1user</td>\n",
       "      <td>70</td>\n",
       "    </tr>\n",
       "    <tr>\n",
       "      <th>isbn</th>\n",
       "      <td>32284</td>\n",
       "      <td>32284</td>\n",
       "      <td>0544716949</td>\n",
       "      <td>1</td>\n",
       "    </tr>\n",
       "    <tr>\n",
       "      <th>isbn13</th>\n",
       "      <td>31660</td>\n",
       "      <td>31660</td>\n",
       "      <td>9780140317206</td>\n",
       "      <td>1</td>\n",
       "    </tr>\n",
       "    <tr>\n",
       "      <th>asin</th>\n",
       "      <td>4154</td>\n",
       "      <td>4154</td>\n",
       "      <td>B006Q2V2J4</td>\n",
       "      <td>1</td>\n",
       "    </tr>\n",
       "    <tr>\n",
       "      <th>settings</th>\n",
       "      <td>9286</td>\n",
       "      <td>4443</td>\n",
       "      <td>United States of America</td>\n",
       "      <td>514</td>\n",
       "    </tr>\n",
       "    <tr>\n",
       "      <th>characters</th>\n",
       "      <td>10977</td>\n",
       "      <td>9967</td>\n",
       "      <td>Eve Dallas, Roarke</td>\n",
       "      <td>23</td>\n",
       "    </tr>\n",
       "    <tr>\n",
       "      <th>awards</th>\n",
       "      <td>8503</td>\n",
       "      <td>7428</td>\n",
       "      <td>LovelyBooks Leserpreis Nominee for Allgemeine ...</td>\n",
       "      <td>12</td>\n",
       "    </tr>\n",
       "    <tr>\n",
       "      <th>amazon_redirect_link</th>\n",
       "      <td>41759</td>\n",
       "      <td>41759</td>\n",
       "      <td>https://www.goodreads.com//book_link/follow/17...</td>\n",
       "      <td>1</td>\n",
       "    </tr>\n",
       "    <tr>\n",
       "      <th>worldcat_redirect_link</th>\n",
       "      <td>38556</td>\n",
       "      <td>38556</td>\n",
       "      <td>https://www.goodreads.com//book_link/follow/8?...</td>\n",
       "      <td>1</td>\n",
       "    </tr>\n",
       "    <tr>\n",
       "      <th>recommended_books</th>\n",
       "      <td>38608</td>\n",
       "      <td>38496</td>\n",
       "      <td>871181, 871181, 581003, 412668, 1557364, 12473...</td>\n",
       "      <td>29</td>\n",
       "    </tr>\n",
       "    <tr>\n",
       "      <th>books_in_series</th>\n",
       "      <td>17663</td>\n",
       "      <td>16336</td>\n",
       "      <td>479309, 268601, 238126, 201175, 74036, 132778,...</td>\n",
       "      <td>46</td>\n",
       "    </tr>\n",
       "    <tr>\n",
       "      <th>description</th>\n",
       "      <td>39688</td>\n",
       "      <td>39399</td>\n",
       "      <td></td>\n",
       "      <td>60</td>\n",
       "    </tr>\n",
       "  </tbody>\n",
       "</table>\n",
       "</div>"
      ],
      "text/plain": [
       "                        count unique  \\\n",
       "title                   41759  40047   \n",
       "link                    41759  41759   \n",
       "series                  18647  18197   \n",
       "cover_link              41273  41273   \n",
       "author                  41759  23482   \n",
       "author_link             41759  19803   \n",
       "date_published          41071   8299   \n",
       "publisher               38866   9514   \n",
       "original_title          31463  30516   \n",
       "genre_and_votes         39521  37957   \n",
       "isbn                    32284  32284   \n",
       "isbn13                  31660  31660   \n",
       "asin                     4154   4154   \n",
       "settings                 9286   4443   \n",
       "characters              10977   9967   \n",
       "awards                   8503   7428   \n",
       "amazon_redirect_link    41759  41759   \n",
       "worldcat_redirect_link  38556  38556   \n",
       "recommended_books       38608  38496   \n",
       "books_in_series         17663  16336   \n",
       "description             39688  39399   \n",
       "\n",
       "                                                                      top freq  \n",
       "title                                                              Legacy   11  \n",
       "link                    https://www.goodreads.com//book/show/26026066-...    1  \n",
       "series                                                  (Sherlock Holmes)   12  \n",
       "cover_link              https://i.gr-assets.com/images/S/compressed.ph...    1  \n",
       "author                                                       Nora Roberts   65  \n",
       "author_link             https://www.goodreads.com/author/show/3389.Ste...   82  \n",
       "date_published                                                       2009  371  \n",
       "publisher                                                         Vintage  457  \n",
       "original_title                                                     Legacy    8  \n",
       "genre_and_votes                                             Fiction 1user   70  \n",
       "isbn                                                           0544716949    1  \n",
       "isbn13                                                      9780140317206    1  \n",
       "asin                                                           B006Q2V2J4    1  \n",
       "settings                                         United States of America  514  \n",
       "characters                                             Eve Dallas, Roarke   23  \n",
       "awards                  LovelyBooks Leserpreis Nominee for Allgemeine ...   12  \n",
       "amazon_redirect_link    https://www.goodreads.com//book_link/follow/17...    1  \n",
       "worldcat_redirect_link  https://www.goodreads.com//book_link/follow/8?...    1  \n",
       "recommended_books       871181, 871181, 581003, 412668, 1557364, 12473...   29  \n",
       "books_in_series         479309, 268601, 238126, 201175, 74036, 132778,...   46  \n",
       "description                                                                 60  "
      ]
     },
     "execution_count": 10,
     "metadata": {},
     "output_type": "execute_result"
    }
   ],
   "source": [
    "# describe the columsn with object datatype\n",
    "X_train.describe(include='object').T"
   ]
  },
  {
   "cell_type": "markdown",
   "metadata": {},
   "source": [
    "- It can be seen that there are large amounts of unique values for each object datatypes. "
   ]
  },
  {
   "cell_type": "code",
   "execution_count": 11,
   "metadata": {},
   "outputs": [
    {
     "data": {
      "text/html": [
       "<div>\n",
       "<style scoped>\n",
       "    .dataframe tbody tr th:only-of-type {\n",
       "        vertical-align: middle;\n",
       "    }\n",
       "\n",
       "    .dataframe tbody tr th {\n",
       "        vertical-align: top;\n",
       "    }\n",
       "\n",
       "    .dataframe thead th {\n",
       "        text-align: right;\n",
       "    }\n",
       "</style>\n",
       "<table border=\"1\" class=\"dataframe\">\n",
       "  <thead>\n",
       "    <tr style=\"text-align: right;\">\n",
       "      <th></th>\n",
       "      <th>count</th>\n",
       "      <th>mean</th>\n",
       "      <th>std</th>\n",
       "      <th>min</th>\n",
       "      <th>25%</th>\n",
       "      <th>50%</th>\n",
       "      <th>75%</th>\n",
       "      <th>max</th>\n",
       "    </tr>\n",
       "  </thead>\n",
       "  <tbody>\n",
       "    <tr>\n",
       "      <th>id</th>\n",
       "      <td>41759.0</td>\n",
       "      <td>1.012620e+07</td>\n",
       "      <td>1.162310e+07</td>\n",
       "      <td>1.0</td>\n",
       "      <td>363987.5</td>\n",
       "      <td>6365996.0</td>\n",
       "      <td>17373246.0</td>\n",
       "      <td>54442989.0</td>\n",
       "    </tr>\n",
       "    <tr>\n",
       "      <th>rating_count</th>\n",
       "      <td>41759.0</td>\n",
       "      <td>1.893641e+04</td>\n",
       "      <td>1.204193e+05</td>\n",
       "      <td>0.0</td>\n",
       "      <td>346.0</td>\n",
       "      <td>2295.0</td>\n",
       "      <td>9271.0</td>\n",
       "      <td>6801077.0</td>\n",
       "    </tr>\n",
       "    <tr>\n",
       "      <th>review_count</th>\n",
       "      <td>41759.0</td>\n",
       "      <td>1.011812e+03</td>\n",
       "      <td>4.129329e+03</td>\n",
       "      <td>0.0</td>\n",
       "      <td>32.0</td>\n",
       "      <td>164.0</td>\n",
       "      <td>626.5</td>\n",
       "      <td>169511.0</td>\n",
       "    </tr>\n",
       "    <tr>\n",
       "      <th>number_of_pages</th>\n",
       "      <td>39886.0</td>\n",
       "      <td>3.293661e+02</td>\n",
       "      <td>2.509911e+02</td>\n",
       "      <td>0.0</td>\n",
       "      <td>211.0</td>\n",
       "      <td>304.0</td>\n",
       "      <td>393.0</td>\n",
       "      <td>11095.0</td>\n",
       "    </tr>\n",
       "  </tbody>\n",
       "</table>\n",
       "</div>"
      ],
      "text/plain": [
       "                   count          mean           std  min       25%  \\\n",
       "id               41759.0  1.012620e+07  1.162310e+07  1.0  363987.5   \n",
       "rating_count     41759.0  1.893641e+04  1.204193e+05  0.0     346.0   \n",
       "review_count     41759.0  1.011812e+03  4.129329e+03  0.0      32.0   \n",
       "number_of_pages  39886.0  3.293661e+02  2.509911e+02  0.0     211.0   \n",
       "\n",
       "                       50%         75%         max  \n",
       "id               6365996.0  17373246.0  54442989.0  \n",
       "rating_count        2295.0      9271.0   6801077.0  \n",
       "review_count         164.0       626.5    169511.0  \n",
       "number_of_pages      304.0       393.0     11095.0  "
      ]
     },
     "execution_count": 11,
     "metadata": {},
     "output_type": "execute_result"
    }
   ],
   "source": [
    "# describe all numerical data columns \n",
    "X_train.describe().T"
   ]
  },
  {
   "cell_type": "markdown",
   "metadata": {},
   "source": [
    "There are some quite jumps from 25% to maX_train in these numerical columns."
   ]
  },
  {
   "cell_type": "markdown",
   "metadata": {},
   "source": [
    "# X_test Dataset"
   ]
  },
  {
   "cell_type": "markdown",
   "metadata": {},
   "source": [
    "#### With the same flows as training data "
   ]
  },
  {
   "cell_type": "code",
   "execution_count": 12,
   "metadata": {},
   "outputs": [
    {
     "name": "stdout",
     "output_type": "stream",
     "text": [
      "<class 'pandas.core.frame.DataFrame'>\n",
      "RangeIndex: 10440 entries, 0 to 10439\n",
      "Data columns (total 25 columns):\n",
      " #   Column                  Non-Null Count  Dtype  \n",
      "---  ------                  --------------  -----  \n",
      " 0   id                      10440 non-null  int64  \n",
      " 1   title                   10440 non-null  object \n",
      " 2   link                    10440 non-null  object \n",
      " 3   series                  4672 non-null   object \n",
      " 4   cover_link              10319 non-null  object \n",
      " 5   author                  10440 non-null  object \n",
      " 6   author_link             10440 non-null  object \n",
      " 7   rating_count            10440 non-null  int64  \n",
      " 8   review_count            10440 non-null  int64  \n",
      " 9   number_of_pages         9983 non-null   float64\n",
      " 10  date_published          10268 non-null  object \n",
      " 11  publisher               9697 non-null   object \n",
      " 12  original_title          7787 non-null   object \n",
      " 13  genre_and_votes         9838 non-null   object \n",
      " 14  isbn                    8032 non-null   object \n",
      " 15  isbn13                  7847 non-null   float64\n",
      " 16  asin                    1082 non-null   object \n",
      " 17  settings                2229 non-null   object \n",
      " 18  characters              2718 non-null   object \n",
      " 19  awards                  2123 non-null   object \n",
      " 20  amazon_redirect_link    10440 non-null  object \n",
      " 21  worldcat_redirect_link  9658 non-null   object \n",
      " 22  recommended_books       9597 non-null   object \n",
      " 23  books_in_series         4415 non-null   object \n",
      " 24  description             9936 non-null   object \n",
      "dtypes: float64(2), int64(3), object(20)\n",
      "memory usage: 2.0+ MB\n"
     ]
    }
   ],
   "source": [
    "X_test.info()"
   ]
  },
  {
   "cell_type": "markdown",
   "metadata": {},
   "source": [
    "- In training dataset, 'isbn13' is object values. But testing dataset shows that it is float64 datatypes.\n",
    "- It must be converted into object to prepare the dataset.\n"
   ]
  },
  {
   "cell_type": "code",
   "execution_count": 13,
   "metadata": {},
   "outputs": [],
   "source": [
    "# cast 'isbn13' into object values\n",
    "isbn13_float = X_test.isbn13\n",
    "isbn13_float = X_test.isbn13.astype('object')"
   ]
  },
  {
   "cell_type": "code",
   "execution_count": 14,
   "metadata": {},
   "outputs": [
    {
     "name": "stdout",
     "output_type": "stream",
     "text": [
      "<class 'pandas.core.frame.DataFrame'>\n",
      "RangeIndex: 10440 entries, 0 to 10439\n",
      "Data columns (total 25 columns):\n",
      " #   Column                  Non-Null Count  Dtype  \n",
      "---  ------                  --------------  -----  \n",
      " 0   id                      10440 non-null  int64  \n",
      " 1   title                   10440 non-null  object \n",
      " 2   link                    10440 non-null  object \n",
      " 3   series                  4672 non-null   object \n",
      " 4   cover_link              10319 non-null  object \n",
      " 5   author                  10440 non-null  object \n",
      " 6   author_link             10440 non-null  object \n",
      " 7   rating_count            10440 non-null  int64  \n",
      " 8   review_count            10440 non-null  int64  \n",
      " 9   number_of_pages         9983 non-null   float64\n",
      " 10  date_published          10268 non-null  object \n",
      " 11  publisher               9697 non-null   object \n",
      " 12  original_title          7787 non-null   object \n",
      " 13  genre_and_votes         9838 non-null   object \n",
      " 14  isbn                    8032 non-null   object \n",
      " 15  isbn13                  7847 non-null   float64\n",
      " 16  asin                    1082 non-null   object \n",
      " 17  settings                2229 non-null   object \n",
      " 18  characters              2718 non-null   object \n",
      " 19  awards                  2123 non-null   object \n",
      " 20  amazon_redirect_link    10440 non-null  object \n",
      " 21  worldcat_redirect_link  9658 non-null   object \n",
      " 22  recommended_books       9597 non-null   object \n",
      " 23  books_in_series         4415 non-null   object \n",
      " 24  description             9936 non-null   object \n",
      "dtypes: float64(2), int64(3), object(20)\n",
      "memory usage: 2.0+ MB\n"
     ]
    }
   ],
   "source": [
    "# review X_test info\n",
    "X_test.info()"
   ]
  },
  {
   "cell_type": "code",
   "execution_count": 15,
   "metadata": {},
   "outputs": [
    {
     "data": {
      "text/html": [
       "<div>\n",
       "<style scoped>\n",
       "    .dataframe tbody tr th:only-of-type {\n",
       "        vertical-align: middle;\n",
       "    }\n",
       "\n",
       "    .dataframe tbody tr th {\n",
       "        vertical-align: top;\n",
       "    }\n",
       "\n",
       "    .dataframe thead th {\n",
       "        text-align: right;\n",
       "    }\n",
       "</style>\n",
       "<table border=\"1\" class=\"dataframe\">\n",
       "  <thead>\n",
       "    <tr style=\"text-align: right;\">\n",
       "      <th></th>\n",
       "      <th>count</th>\n",
       "      <th>unique</th>\n",
       "      <th>top</th>\n",
       "      <th>freq</th>\n",
       "    </tr>\n",
       "  </thead>\n",
       "  <tbody>\n",
       "    <tr>\n",
       "      <th>title</th>\n",
       "      <td>10440</td>\n",
       "      <td>10295</td>\n",
       "      <td>Selected Poems</td>\n",
       "      <td>4</td>\n",
       "    </tr>\n",
       "    <tr>\n",
       "      <th>link</th>\n",
       "      <td>10440</td>\n",
       "      <td>10440</td>\n",
       "      <td>https://www.goodreads.com//book/show/37811512-...</td>\n",
       "      <td>1</td>\n",
       "    </tr>\n",
       "    <tr>\n",
       "      <th>series</th>\n",
       "      <td>4672</td>\n",
       "      <td>4627</td>\n",
       "      <td>(Star Wars Legends)</td>\n",
       "      <td>5</td>\n",
       "    </tr>\n",
       "    <tr>\n",
       "      <th>cover_link</th>\n",
       "      <td>10319</td>\n",
       "      <td>10319</td>\n",
       "      <td>https://i.gr-assets.com/images/S/compressed.ph...</td>\n",
       "      <td>1</td>\n",
       "    </tr>\n",
       "    <tr>\n",
       "      <th>author</th>\n",
       "      <td>10440</td>\n",
       "      <td>7880</td>\n",
       "      <td>Nora Roberts</td>\n",
       "      <td>22</td>\n",
       "    </tr>\n",
       "    <tr>\n",
       "      <th>author_link</th>\n",
       "      <td>10440</td>\n",
       "      <td>7157</td>\n",
       "      <td>https://www.goodreads.com/author/show/625.Nora...</td>\n",
       "      <td>25</td>\n",
       "    </tr>\n",
       "    <tr>\n",
       "      <th>date_published</th>\n",
       "      <td>10268</td>\n",
       "      <td>3958</td>\n",
       "      <td>2009</td>\n",
       "      <td>91</td>\n",
       "    </tr>\n",
       "    <tr>\n",
       "      <th>publisher</th>\n",
       "      <td>9697</td>\n",
       "      <td>3648</td>\n",
       "      <td>Vintage</td>\n",
       "      <td>115</td>\n",
       "    </tr>\n",
       "    <tr>\n",
       "      <th>original_title</th>\n",
       "      <td>7787</td>\n",
       "      <td>7713</td>\n",
       "      <td>Legacy</td>\n",
       "      <td>3</td>\n",
       "    </tr>\n",
       "    <tr>\n",
       "      <th>genre_and_votes</th>\n",
       "      <td>9838</td>\n",
       "      <td>9605</td>\n",
       "      <td>Fiction 1user</td>\n",
       "      <td>19</td>\n",
       "    </tr>\n",
       "    <tr>\n",
       "      <th>isbn</th>\n",
       "      <td>8032</td>\n",
       "      <td>8032</td>\n",
       "      <td>0545387728</td>\n",
       "      <td>1</td>\n",
       "    </tr>\n",
       "    <tr>\n",
       "      <th>asin</th>\n",
       "      <td>1082</td>\n",
       "      <td>1082</td>\n",
       "      <td>B000QCTOEK</td>\n",
       "      <td>1</td>\n",
       "    </tr>\n",
       "    <tr>\n",
       "      <th>settings</th>\n",
       "      <td>2229</td>\n",
       "      <td>1339</td>\n",
       "      <td>United States of America</td>\n",
       "      <td>120</td>\n",
       "    </tr>\n",
       "    <tr>\n",
       "      <th>characters</th>\n",
       "      <td>2718</td>\n",
       "      <td>2627</td>\n",
       "      <td>Calvin, Hobbes</td>\n",
       "      <td>9</td>\n",
       "    </tr>\n",
       "    <tr>\n",
       "      <th>awards</th>\n",
       "      <td>2123</td>\n",
       "      <td>2023</td>\n",
       "      <td>Goodreads Choice Award Nominee for Romance (2013)</td>\n",
       "      <td>5</td>\n",
       "    </tr>\n",
       "    <tr>\n",
       "      <th>amazon_redirect_link</th>\n",
       "      <td>10440</td>\n",
       "      <td>10440</td>\n",
       "      <td>https://www.goodreads.com//book_link/follow/17...</td>\n",
       "      <td>1</td>\n",
       "    </tr>\n",
       "    <tr>\n",
       "      <th>worldcat_redirect_link</th>\n",
       "      <td>9658</td>\n",
       "      <td>9658</td>\n",
       "      <td>https://www.goodreads.com//book_link/follow/8?...</td>\n",
       "      <td>1</td>\n",
       "    </tr>\n",
       "    <tr>\n",
       "      <th>recommended_books</th>\n",
       "      <td>9597</td>\n",
       "      <td>9585</td>\n",
       "      <td>871181, 871181, 581003, 412668, 1557364, 12473...</td>\n",
       "      <td>7</td>\n",
       "    </tr>\n",
       "    <tr>\n",
       "      <th>books_in_series</th>\n",
       "      <td>4415</td>\n",
       "      <td>4240</td>\n",
       "      <td>106588, 106584, 106554, 106552, 106582, 157088...</td>\n",
       "      <td>11</td>\n",
       "    </tr>\n",
       "    <tr>\n",
       "      <th>description</th>\n",
       "      <td>9936</td>\n",
       "      <td>9900</td>\n",
       "      <td></td>\n",
       "      <td>14</td>\n",
       "    </tr>\n",
       "  </tbody>\n",
       "</table>\n",
       "</div>"
      ],
      "text/plain": [
       "                        count unique  \\\n",
       "title                   10440  10295   \n",
       "link                    10440  10440   \n",
       "series                   4672   4627   \n",
       "cover_link              10319  10319   \n",
       "author                  10440   7880   \n",
       "author_link             10440   7157   \n",
       "date_published          10268   3958   \n",
       "publisher                9697   3648   \n",
       "original_title           7787   7713   \n",
       "genre_and_votes          9838   9605   \n",
       "isbn                     8032   8032   \n",
       "asin                     1082   1082   \n",
       "settings                 2229   1339   \n",
       "characters               2718   2627   \n",
       "awards                   2123   2023   \n",
       "amazon_redirect_link    10440  10440   \n",
       "worldcat_redirect_link   9658   9658   \n",
       "recommended_books        9597   9585   \n",
       "books_in_series          4415   4240   \n",
       "description              9936   9900   \n",
       "\n",
       "                                                                      top freq  \n",
       "title                                                      Selected Poems    4  \n",
       "link                    https://www.goodreads.com//book/show/37811512-...    1  \n",
       "series                                                (Star Wars Legends)    5  \n",
       "cover_link              https://i.gr-assets.com/images/S/compressed.ph...    1  \n",
       "author                                                       Nora Roberts   22  \n",
       "author_link             https://www.goodreads.com/author/show/625.Nora...   25  \n",
       "date_published                                                       2009   91  \n",
       "publisher                                                         Vintage  115  \n",
       "original_title                                                     Legacy    3  \n",
       "genre_and_votes                                             Fiction 1user   19  \n",
       "isbn                                                           0545387728    1  \n",
       "asin                                                           B000QCTOEK    1  \n",
       "settings                                         United States of America  120  \n",
       "characters                                                 Calvin, Hobbes    9  \n",
       "awards                  Goodreads Choice Award Nominee for Romance (2013)    5  \n",
       "amazon_redirect_link    https://www.goodreads.com//book_link/follow/17...    1  \n",
       "worldcat_redirect_link  https://www.goodreads.com//book_link/follow/8?...    1  \n",
       "recommended_books       871181, 871181, 581003, 412668, 1557364, 12473...    7  \n",
       "books_in_series         106588, 106584, 106554, 106552, 106582, 157088...   11  \n",
       "description                                                                 14  "
      ]
     },
     "execution_count": 15,
     "metadata": {},
     "output_type": "execute_result"
    }
   ],
   "source": [
    "X_test.describe(include='object').T"
   ]
  },
  {
   "cell_type": "code",
   "execution_count": 16,
   "metadata": {},
   "outputs": [
    {
     "data": {
      "text/html": [
       "<div>\n",
       "<style scoped>\n",
       "    .dataframe tbody tr th:only-of-type {\n",
       "        vertical-align: middle;\n",
       "    }\n",
       "\n",
       "    .dataframe tbody tr th {\n",
       "        vertical-align: top;\n",
       "    }\n",
       "\n",
       "    .dataframe thead th {\n",
       "        text-align: right;\n",
       "    }\n",
       "</style>\n",
       "<table border=\"1\" class=\"dataframe\">\n",
       "  <thead>\n",
       "    <tr style=\"text-align: right;\">\n",
       "      <th></th>\n",
       "      <th>id</th>\n",
       "      <th>rating_count</th>\n",
       "      <th>review_count</th>\n",
       "      <th>number_of_pages</th>\n",
       "      <th>isbn13</th>\n",
       "    </tr>\n",
       "  </thead>\n",
       "  <tbody>\n",
       "    <tr>\n",
       "      <th>count</th>\n",
       "      <td>1.044000e+04</td>\n",
       "      <td>1.044000e+04</td>\n",
       "      <td>10440.000000</td>\n",
       "      <td>9983.000000</td>\n",
       "      <td>7.847000e+03</td>\n",
       "    </tr>\n",
       "    <tr>\n",
       "      <th>mean</th>\n",
       "      <td>1.026734e+07</td>\n",
       "      <td>1.862243e+04</td>\n",
       "      <td>1017.657375</td>\n",
       "      <td>327.251227</td>\n",
       "      <td>9.773283e+12</td>\n",
       "    </tr>\n",
       "    <tr>\n",
       "      <th>std</th>\n",
       "      <td>1.172926e+07</td>\n",
       "      <td>9.869185e+04</td>\n",
       "      <td>3742.071556</td>\n",
       "      <td>259.859422</td>\n",
       "      <td>2.722149e+11</td>\n",
       "    </tr>\n",
       "    <tr>\n",
       "      <th>min</th>\n",
       "      <td>6.000000e+00</td>\n",
       "      <td>0.000000e+00</td>\n",
       "      <td>0.000000</td>\n",
       "      <td>0.000000</td>\n",
       "      <td>9.780616e+09</td>\n",
       "    </tr>\n",
       "    <tr>\n",
       "      <th>25%</th>\n",
       "      <td>3.583035e+05</td>\n",
       "      <td>3.210000e+02</td>\n",
       "      <td>30.000000</td>\n",
       "      <td>209.000000</td>\n",
       "      <td>9.780385e+12</td>\n",
       "    </tr>\n",
       "    <tr>\n",
       "      <th>50%</th>\n",
       "      <td>6.441912e+06</td>\n",
       "      <td>2.285000e+03</td>\n",
       "      <td>159.000000</td>\n",
       "      <td>304.000000</td>\n",
       "      <td>9.780747e+12</td>\n",
       "    </tr>\n",
       "    <tr>\n",
       "      <th>75%</th>\n",
       "      <td>1.741248e+07</td>\n",
       "      <td>9.400250e+03</td>\n",
       "      <td>607.250000</td>\n",
       "      <td>390.000000</td>\n",
       "      <td>9.781479e+12</td>\n",
       "    </tr>\n",
       "    <tr>\n",
       "      <th>max</th>\n",
       "      <td>5.398436e+07</td>\n",
       "      <td>2.905122e+06</td>\n",
       "      <td>102547.000000</td>\n",
       "      <td>14777.000000</td>\n",
       "      <td>9.978069e+12</td>\n",
       "    </tr>\n",
       "  </tbody>\n",
       "</table>\n",
       "</div>"
      ],
      "text/plain": [
       "                 id  rating_count   review_count  number_of_pages  \\\n",
       "count  1.044000e+04  1.044000e+04   10440.000000      9983.000000   \n",
       "mean   1.026734e+07  1.862243e+04    1017.657375       327.251227   \n",
       "std    1.172926e+07  9.869185e+04    3742.071556       259.859422   \n",
       "min    6.000000e+00  0.000000e+00       0.000000         0.000000   \n",
       "25%    3.583035e+05  3.210000e+02      30.000000       209.000000   \n",
       "50%    6.441912e+06  2.285000e+03     159.000000       304.000000   \n",
       "75%    1.741248e+07  9.400250e+03     607.250000       390.000000   \n",
       "max    5.398436e+07  2.905122e+06  102547.000000     14777.000000   \n",
       "\n",
       "             isbn13  \n",
       "count  7.847000e+03  \n",
       "mean   9.773283e+12  \n",
       "std    2.722149e+11  \n",
       "min    9.780616e+09  \n",
       "25%    9.780385e+12  \n",
       "50%    9.780747e+12  \n",
       "75%    9.781479e+12  \n",
       "max    9.978069e+12  "
      ]
     },
     "execution_count": 16,
     "metadata": {},
     "output_type": "execute_result"
    }
   ],
   "source": [
    "X_test.describe()"
   ]
  },
  {
   "cell_type": "markdown",
   "metadata": {},
   "source": [
    "# Y_train Dataset"
   ]
  },
  {
   "cell_type": "code",
   "execution_count": 17,
   "metadata": {},
   "outputs": [
    {
     "name": "stdout",
     "output_type": "stream",
     "text": [
      "<class 'pandas.core.frame.DataFrame'>\n",
      "RangeIndex: 41759 entries, 0 to 41758\n",
      "Data columns (total 2 columns):\n",
      " #   Column          Non-Null Count  Dtype  \n",
      "---  ------          --------------  -----  \n",
      " 0   id              41759 non-null  int64  \n",
      " 1   average_rating  41759 non-null  float64\n",
      "dtypes: float64(1), int64(1)\n",
      "memory usage: 652.6 KB\n"
     ]
    }
   ],
   "source": [
    "y_train.info()"
   ]
  },
  {
   "cell_type": "markdown",
   "metadata": {},
   "source": [
    "### I will drop 'id' column in this dataset in order to make Y as target label with new dataset named Y_new\n"
   ]
  },
  {
   "cell_type": "code",
   "execution_count": 18,
   "metadata": {},
   "outputs": [
    {
     "data": {
      "text/html": [
       "<div>\n",
       "<style scoped>\n",
       "    .dataframe tbody tr th:only-of-type {\n",
       "        vertical-align: middle;\n",
       "    }\n",
       "\n",
       "    .dataframe tbody tr th {\n",
       "        vertical-align: top;\n",
       "    }\n",
       "\n",
       "    .dataframe thead th {\n",
       "        text-align: right;\n",
       "    }\n",
       "</style>\n",
       "<table border=\"1\" class=\"dataframe\">\n",
       "  <thead>\n",
       "    <tr style=\"text-align: right;\">\n",
       "      <th></th>\n",
       "      <th>average_rating</th>\n",
       "    </tr>\n",
       "  </thead>\n",
       "  <tbody>\n",
       "    <tr>\n",
       "      <th>0</th>\n",
       "      <td>3.62</td>\n",
       "    </tr>\n",
       "    <tr>\n",
       "      <th>1</th>\n",
       "      <td>3.80</td>\n",
       "    </tr>\n",
       "    <tr>\n",
       "      <th>2</th>\n",
       "      <td>3.55</td>\n",
       "    </tr>\n",
       "    <tr>\n",
       "      <th>3</th>\n",
       "      <td>4.24</td>\n",
       "    </tr>\n",
       "    <tr>\n",
       "      <th>4</th>\n",
       "      <td>4.33</td>\n",
       "    </tr>\n",
       "    <tr>\n",
       "      <th>...</th>\n",
       "      <td>...</td>\n",
       "    </tr>\n",
       "    <tr>\n",
       "      <th>41754</th>\n",
       "      <td>4.31</td>\n",
       "    </tr>\n",
       "    <tr>\n",
       "      <th>41755</th>\n",
       "      <td>4.10</td>\n",
       "    </tr>\n",
       "    <tr>\n",
       "      <th>41756</th>\n",
       "      <td>4.31</td>\n",
       "    </tr>\n",
       "    <tr>\n",
       "      <th>41757</th>\n",
       "      <td>4.45</td>\n",
       "    </tr>\n",
       "    <tr>\n",
       "      <th>41758</th>\n",
       "      <td>3.96</td>\n",
       "    </tr>\n",
       "  </tbody>\n",
       "</table>\n",
       "<p>41759 rows × 1 columns</p>\n",
       "</div>"
      ],
      "text/plain": [
       "       average_rating\n",
       "0                3.62\n",
       "1                3.80\n",
       "2                3.55\n",
       "3                4.24\n",
       "4                4.33\n",
       "...               ...\n",
       "41754            4.31\n",
       "41755            4.10\n",
       "41756            4.31\n",
       "41757            4.45\n",
       "41758            3.96\n",
       "\n",
       "[41759 rows x 1 columns]"
      ]
     },
     "execution_count": 18,
     "metadata": {},
     "output_type": "execute_result"
    }
   ],
   "source": [
    "# drop 'id' to use target variable 'average_rating'\n",
    "y_target = y_train.drop('id', axis=1)\n",
    "\n",
    "y_target"
   ]
  },
  {
   "cell_type": "code",
   "execution_count": 19,
   "metadata": {},
   "outputs": [
    {
     "data": {
      "text/html": [
       "<div>\n",
       "<style scoped>\n",
       "    .dataframe tbody tr th:only-of-type {\n",
       "        vertical-align: middle;\n",
       "    }\n",
       "\n",
       "    .dataframe tbody tr th {\n",
       "        vertical-align: top;\n",
       "    }\n",
       "\n",
       "    .dataframe thead th {\n",
       "        text-align: right;\n",
       "    }\n",
       "</style>\n",
       "<table border=\"1\" class=\"dataframe\">\n",
       "  <thead>\n",
       "    <tr style=\"text-align: right;\">\n",
       "      <th></th>\n",
       "      <th>average_rating</th>\n",
       "    </tr>\n",
       "  </thead>\n",
       "  <tbody>\n",
       "    <tr>\n",
       "      <th>count</th>\n",
       "      <td>41759.000000</td>\n",
       "    </tr>\n",
       "    <tr>\n",
       "      <th>mean</th>\n",
       "      <td>4.019979</td>\n",
       "    </tr>\n",
       "    <tr>\n",
       "      <th>std</th>\n",
       "      <td>0.367900</td>\n",
       "    </tr>\n",
       "    <tr>\n",
       "      <th>min</th>\n",
       "      <td>0.000000</td>\n",
       "    </tr>\n",
       "    <tr>\n",
       "      <th>25%</th>\n",
       "      <td>3.820000</td>\n",
       "    </tr>\n",
       "    <tr>\n",
       "      <th>50%</th>\n",
       "      <td>4.030000</td>\n",
       "    </tr>\n",
       "    <tr>\n",
       "      <th>75%</th>\n",
       "      <td>4.230000</td>\n",
       "    </tr>\n",
       "    <tr>\n",
       "      <th>max</th>\n",
       "      <td>5.000000</td>\n",
       "    </tr>\n",
       "  </tbody>\n",
       "</table>\n",
       "</div>"
      ],
      "text/plain": [
       "       average_rating\n",
       "count    41759.000000\n",
       "mean         4.019979\n",
       "std          0.367900\n",
       "min          0.000000\n",
       "25%          3.820000\n",
       "50%          4.030000\n",
       "75%          4.230000\n",
       "max          5.000000"
      ]
     },
     "execution_count": 19,
     "metadata": {},
     "output_type": "execute_result"
    }
   ],
   "source": [
    "y_target.describe()"
   ]
  },
  {
   "cell_type": "markdown",
   "metadata": {},
   "source": [
    "# Checking Missing Values"
   ]
  },
  {
   "cell_type": "code",
   "execution_count": 20,
   "metadata": {},
   "outputs": [],
   "source": [
    "## a fucntion to return total percentage of the missing values\n",
    "\n",
    "## reference here\n",
    "def missing_percentage(df):\n",
    "    total = df.isnull().sum().sort_values(ascending = False)\n",
    "    percent = round(total / len(df)*100,2)\n",
    "    return pd.concat([total, percent], axis=1, keys=['Total','Percent'])"
   ]
  },
  {
   "cell_type": "markdown",
   "metadata": {},
   "source": [
    "### Missing values on train "
   ]
  },
  {
   "cell_type": "code",
   "execution_count": 21,
   "metadata": {},
   "outputs": [
    {
     "data": {
      "text/html": [
       "<div>\n",
       "<style scoped>\n",
       "    .dataframe tbody tr th:only-of-type {\n",
       "        vertical-align: middle;\n",
       "    }\n",
       "\n",
       "    .dataframe tbody tr th {\n",
       "        vertical-align: top;\n",
       "    }\n",
       "\n",
       "    .dataframe thead th {\n",
       "        text-align: right;\n",
       "    }\n",
       "</style>\n",
       "<table border=\"1\" class=\"dataframe\">\n",
       "  <thead>\n",
       "    <tr style=\"text-align: right;\">\n",
       "      <th></th>\n",
       "      <th>Total</th>\n",
       "      <th>Percent</th>\n",
       "    </tr>\n",
       "  </thead>\n",
       "  <tbody>\n",
       "    <tr>\n",
       "      <th>asin</th>\n",
       "      <td>37605</td>\n",
       "      <td>90.05</td>\n",
       "    </tr>\n",
       "    <tr>\n",
       "      <th>awards</th>\n",
       "      <td>33256</td>\n",
       "      <td>79.64</td>\n",
       "    </tr>\n",
       "    <tr>\n",
       "      <th>settings</th>\n",
       "      <td>32473</td>\n",
       "      <td>77.76</td>\n",
       "    </tr>\n",
       "    <tr>\n",
       "      <th>characters</th>\n",
       "      <td>30782</td>\n",
       "      <td>73.71</td>\n",
       "    </tr>\n",
       "    <tr>\n",
       "      <th>books_in_series</th>\n",
       "      <td>24096</td>\n",
       "      <td>57.70</td>\n",
       "    </tr>\n",
       "    <tr>\n",
       "      <th>series</th>\n",
       "      <td>23112</td>\n",
       "      <td>55.35</td>\n",
       "    </tr>\n",
       "    <tr>\n",
       "      <th>original_title</th>\n",
       "      <td>10296</td>\n",
       "      <td>24.66</td>\n",
       "    </tr>\n",
       "    <tr>\n",
       "      <th>isbn13</th>\n",
       "      <td>10099</td>\n",
       "      <td>24.18</td>\n",
       "    </tr>\n",
       "    <tr>\n",
       "      <th>isbn</th>\n",
       "      <td>9475</td>\n",
       "      <td>22.69</td>\n",
       "    </tr>\n",
       "    <tr>\n",
       "      <th>worldcat_redirect_link</th>\n",
       "      <td>3203</td>\n",
       "      <td>7.67</td>\n",
       "    </tr>\n",
       "    <tr>\n",
       "      <th>recommended_books</th>\n",
       "      <td>3151</td>\n",
       "      <td>7.55</td>\n",
       "    </tr>\n",
       "    <tr>\n",
       "      <th>publisher</th>\n",
       "      <td>2893</td>\n",
       "      <td>6.93</td>\n",
       "    </tr>\n",
       "    <tr>\n",
       "      <th>genre_and_votes</th>\n",
       "      <td>2238</td>\n",
       "      <td>5.36</td>\n",
       "    </tr>\n",
       "    <tr>\n",
       "      <th>description</th>\n",
       "      <td>2071</td>\n",
       "      <td>4.96</td>\n",
       "    </tr>\n",
       "    <tr>\n",
       "      <th>number_of_pages</th>\n",
       "      <td>1873</td>\n",
       "      <td>4.49</td>\n",
       "    </tr>\n",
       "    <tr>\n",
       "      <th>date_published</th>\n",
       "      <td>688</td>\n",
       "      <td>1.65</td>\n",
       "    </tr>\n",
       "    <tr>\n",
       "      <th>cover_link</th>\n",
       "      <td>486</td>\n",
       "      <td>1.16</td>\n",
       "    </tr>\n",
       "    <tr>\n",
       "      <th>review_count</th>\n",
       "      <td>0</td>\n",
       "      <td>0.00</td>\n",
       "    </tr>\n",
       "    <tr>\n",
       "      <th>rating_count</th>\n",
       "      <td>0</td>\n",
       "      <td>0.00</td>\n",
       "    </tr>\n",
       "    <tr>\n",
       "      <th>author_link</th>\n",
       "      <td>0</td>\n",
       "      <td>0.00</td>\n",
       "    </tr>\n",
       "    <tr>\n",
       "      <th>author</th>\n",
       "      <td>0</td>\n",
       "      <td>0.00</td>\n",
       "    </tr>\n",
       "    <tr>\n",
       "      <th>amazon_redirect_link</th>\n",
       "      <td>0</td>\n",
       "      <td>0.00</td>\n",
       "    </tr>\n",
       "    <tr>\n",
       "      <th>link</th>\n",
       "      <td>0</td>\n",
       "      <td>0.00</td>\n",
       "    </tr>\n",
       "    <tr>\n",
       "      <th>title</th>\n",
       "      <td>0</td>\n",
       "      <td>0.00</td>\n",
       "    </tr>\n",
       "    <tr>\n",
       "      <th>id</th>\n",
       "      <td>0</td>\n",
       "      <td>0.00</td>\n",
       "    </tr>\n",
       "  </tbody>\n",
       "</table>\n",
       "</div>"
      ],
      "text/plain": [
       "                        Total  Percent\n",
       "asin                    37605    90.05\n",
       "awards                  33256    79.64\n",
       "settings                32473    77.76\n",
       "characters              30782    73.71\n",
       "books_in_series         24096    57.70\n",
       "series                  23112    55.35\n",
       "original_title          10296    24.66\n",
       "isbn13                  10099    24.18\n",
       "isbn                     9475    22.69\n",
       "worldcat_redirect_link   3203     7.67\n",
       "recommended_books        3151     7.55\n",
       "publisher                2893     6.93\n",
       "genre_and_votes          2238     5.36\n",
       "description              2071     4.96\n",
       "number_of_pages          1873     4.49\n",
       "date_published            688     1.65\n",
       "cover_link                486     1.16\n",
       "review_count                0     0.00\n",
       "rating_count                0     0.00\n",
       "author_link                 0     0.00\n",
       "author                      0     0.00\n",
       "amazon_redirect_link        0     0.00\n",
       "link                        0     0.00\n",
       "title                       0     0.00\n",
       "id                          0     0.00"
      ]
     },
     "execution_count": 21,
     "metadata": {},
     "output_type": "execute_result"
    }
   ],
   "source": [
    "missing_percentage(X_train)"
   ]
  },
  {
   "cell_type": "markdown",
   "metadata": {},
   "source": [
    "### Missing values on test "
   ]
  },
  {
   "cell_type": "code",
   "execution_count": 22,
   "metadata": {},
   "outputs": [
    {
     "data": {
      "text/html": [
       "<div>\n",
       "<style scoped>\n",
       "    .dataframe tbody tr th:only-of-type {\n",
       "        vertical-align: middle;\n",
       "    }\n",
       "\n",
       "    .dataframe tbody tr th {\n",
       "        vertical-align: top;\n",
       "    }\n",
       "\n",
       "    .dataframe thead th {\n",
       "        text-align: right;\n",
       "    }\n",
       "</style>\n",
       "<table border=\"1\" class=\"dataframe\">\n",
       "  <thead>\n",
       "    <tr style=\"text-align: right;\">\n",
       "      <th></th>\n",
       "      <th>Total</th>\n",
       "      <th>Percent</th>\n",
       "    </tr>\n",
       "  </thead>\n",
       "  <tbody>\n",
       "    <tr>\n",
       "      <th>asin</th>\n",
       "      <td>9358</td>\n",
       "      <td>89.64</td>\n",
       "    </tr>\n",
       "    <tr>\n",
       "      <th>awards</th>\n",
       "      <td>8317</td>\n",
       "      <td>79.66</td>\n",
       "    </tr>\n",
       "    <tr>\n",
       "      <th>settings</th>\n",
       "      <td>8211</td>\n",
       "      <td>78.65</td>\n",
       "    </tr>\n",
       "    <tr>\n",
       "      <th>characters</th>\n",
       "      <td>7722</td>\n",
       "      <td>73.97</td>\n",
       "    </tr>\n",
       "    <tr>\n",
       "      <th>books_in_series</th>\n",
       "      <td>6025</td>\n",
       "      <td>57.71</td>\n",
       "    </tr>\n",
       "    <tr>\n",
       "      <th>series</th>\n",
       "      <td>5768</td>\n",
       "      <td>55.25</td>\n",
       "    </tr>\n",
       "    <tr>\n",
       "      <th>original_title</th>\n",
       "      <td>2653</td>\n",
       "      <td>25.41</td>\n",
       "    </tr>\n",
       "    <tr>\n",
       "      <th>isbn13</th>\n",
       "      <td>2593</td>\n",
       "      <td>24.84</td>\n",
       "    </tr>\n",
       "    <tr>\n",
       "      <th>isbn</th>\n",
       "      <td>2408</td>\n",
       "      <td>23.07</td>\n",
       "    </tr>\n",
       "    <tr>\n",
       "      <th>recommended_books</th>\n",
       "      <td>843</td>\n",
       "      <td>8.07</td>\n",
       "    </tr>\n",
       "    <tr>\n",
       "      <th>worldcat_redirect_link</th>\n",
       "      <td>782</td>\n",
       "      <td>7.49</td>\n",
       "    </tr>\n",
       "    <tr>\n",
       "      <th>publisher</th>\n",
       "      <td>743</td>\n",
       "      <td>7.12</td>\n",
       "    </tr>\n",
       "    <tr>\n",
       "      <th>genre_and_votes</th>\n",
       "      <td>602</td>\n",
       "      <td>5.77</td>\n",
       "    </tr>\n",
       "    <tr>\n",
       "      <th>description</th>\n",
       "      <td>504</td>\n",
       "      <td>4.83</td>\n",
       "    </tr>\n",
       "    <tr>\n",
       "      <th>number_of_pages</th>\n",
       "      <td>457</td>\n",
       "      <td>4.38</td>\n",
       "    </tr>\n",
       "    <tr>\n",
       "      <th>date_published</th>\n",
       "      <td>172</td>\n",
       "      <td>1.65</td>\n",
       "    </tr>\n",
       "    <tr>\n",
       "      <th>cover_link</th>\n",
       "      <td>121</td>\n",
       "      <td>1.16</td>\n",
       "    </tr>\n",
       "    <tr>\n",
       "      <th>review_count</th>\n",
       "      <td>0</td>\n",
       "      <td>0.00</td>\n",
       "    </tr>\n",
       "    <tr>\n",
       "      <th>rating_count</th>\n",
       "      <td>0</td>\n",
       "      <td>0.00</td>\n",
       "    </tr>\n",
       "    <tr>\n",
       "      <th>author_link</th>\n",
       "      <td>0</td>\n",
       "      <td>0.00</td>\n",
       "    </tr>\n",
       "    <tr>\n",
       "      <th>author</th>\n",
       "      <td>0</td>\n",
       "      <td>0.00</td>\n",
       "    </tr>\n",
       "    <tr>\n",
       "      <th>amazon_redirect_link</th>\n",
       "      <td>0</td>\n",
       "      <td>0.00</td>\n",
       "    </tr>\n",
       "    <tr>\n",
       "      <th>link</th>\n",
       "      <td>0</td>\n",
       "      <td>0.00</td>\n",
       "    </tr>\n",
       "    <tr>\n",
       "      <th>title</th>\n",
       "      <td>0</td>\n",
       "      <td>0.00</td>\n",
       "    </tr>\n",
       "    <tr>\n",
       "      <th>id</th>\n",
       "      <td>0</td>\n",
       "      <td>0.00</td>\n",
       "    </tr>\n",
       "  </tbody>\n",
       "</table>\n",
       "</div>"
      ],
      "text/plain": [
       "                        Total  Percent\n",
       "asin                     9358    89.64\n",
       "awards                   8317    79.66\n",
       "settings                 8211    78.65\n",
       "characters               7722    73.97\n",
       "books_in_series          6025    57.71\n",
       "series                   5768    55.25\n",
       "original_title           2653    25.41\n",
       "isbn13                   2593    24.84\n",
       "isbn                     2408    23.07\n",
       "recommended_books         843     8.07\n",
       "worldcat_redirect_link    782     7.49\n",
       "publisher                 743     7.12\n",
       "genre_and_votes           602     5.77\n",
       "description               504     4.83\n",
       "number_of_pages           457     4.38\n",
       "date_published            172     1.65\n",
       "cover_link                121     1.16\n",
       "review_count                0     0.00\n",
       "rating_count                0     0.00\n",
       "author_link                 0     0.00\n",
       "author                      0     0.00\n",
       "amazon_redirect_link        0     0.00\n",
       "link                        0     0.00\n",
       "title                       0     0.00\n",
       "id                          0     0.00"
      ]
     },
     "execution_count": 22,
     "metadata": {},
     "output_type": "execute_result"
    }
   ],
   "source": [
    "missing_percentage(X_test)"
   ]
  },
  {
   "cell_type": "code",
   "execution_count": 23,
   "metadata": {},
   "outputs": [
    {
     "data": {
      "text/html": [
       "<div>\n",
       "<style scoped>\n",
       "    .dataframe tbody tr th:only-of-type {\n",
       "        vertical-align: middle;\n",
       "    }\n",
       "\n",
       "    .dataframe tbody tr th {\n",
       "        vertical-align: top;\n",
       "    }\n",
       "\n",
       "    .dataframe thead th {\n",
       "        text-align: right;\n",
       "    }\n",
       "</style>\n",
       "<table border=\"1\" class=\"dataframe\">\n",
       "  <thead>\n",
       "    <tr style=\"text-align: right;\">\n",
       "      <th></th>\n",
       "      <th>Total</th>\n",
       "      <th>Percent</th>\n",
       "    </tr>\n",
       "  </thead>\n",
       "  <tbody>\n",
       "    <tr>\n",
       "      <th>average_rating</th>\n",
       "      <td>0</td>\n",
       "      <td>0.0</td>\n",
       "    </tr>\n",
       "  </tbody>\n",
       "</table>\n",
       "</div>"
      ],
      "text/plain": [
       "                Total  Percent\n",
       "average_rating      0      0.0"
      ]
     },
     "execution_count": 23,
     "metadata": {},
     "output_type": "execute_result"
    }
   ],
   "source": [
    "missing_percentage(y_target)"
   ]
  },
  {
   "cell_type": "markdown",
   "metadata": {},
   "source": [
    "# Imputing Missing Values"
   ]
  },
  {
   "cell_type": "markdown",
   "metadata": {},
   "source": [
    "There are missing values for both numerical and object datatypes. Thus, I do imputing by 2 different datatypes."
   ]
  },
  {
   "cell_type": "code",
   "execution_count": 24,
   "metadata": {},
   "outputs": [],
   "source": [
    "# imputing missing object data\n",
    "missing_val_cate = ['asin',\n",
    "                    'awards',\n",
    "                    'settings',\n",
    "                    \"characters\",\n",
    "                    'books_in_series',\n",
    "                    'series',\n",
    "                    'original_title',\n",
    "                    'isbn13',\n",
    "                    'isbn',\n",
    "                    'recommended_books',\n",
    "                    'worldcat_redirect_link',\n",
    "                    'publisher',\n",
    "                    'genre_and_votes',\n",
    "                    'description',\n",
    "                    'date_published',\n",
    "                    'cover_link'\n",
    "                   ]\n",
    "\n",
    "# fill missing values by'None'\n",
    "def imputing_na(df):\n",
    "    for i in missing_val_cate:\n",
    "        df[i] = df[i].fillna('None')"
   ]
  },
  {
   "cell_type": "code",
   "execution_count": 25,
   "metadata": {},
   "outputs": [],
   "source": [
    "#creat a copy of X_train dataset\n",
    "X_train_new = X_train.copy()"
   ]
  },
  {
   "cell_type": "code",
   "execution_count": 26,
   "metadata": {},
   "outputs": [],
   "source": [
    "#imputing missing values on new copy\n",
    "imputing_na(X_train_new)"
   ]
  },
  {
   "cell_type": "code",
   "execution_count": 27,
   "metadata": {},
   "outputs": [],
   "source": [
    "X_test_new = X_test.copy()\n",
    "\n",
    "imputing_na(X_test_new)"
   ]
  },
  {
   "cell_type": "code",
   "execution_count": 28,
   "metadata": {},
   "outputs": [],
   "source": [
    "# imputing missing numerical data \n",
    "\n",
    "# Only 'number_of_pages' has missing values\n",
    "X_train_new['number_of_pages'] = X_train_new['number_of_pages'].fillna(0)"
   ]
  },
  {
   "cell_type": "code",
   "execution_count": 29,
   "metadata": {},
   "outputs": [],
   "source": [
    "X_test_new['number_of_pages'] = X_test_new['number_of_pages'].fillna(0)"
   ]
  },
  {
   "cell_type": "code",
   "execution_count": 30,
   "metadata": {},
   "outputs": [
    {
     "data": {
      "text/html": [
       "<div>\n",
       "<style scoped>\n",
       "    .dataframe tbody tr th:only-of-type {\n",
       "        vertical-align: middle;\n",
       "    }\n",
       "\n",
       "    .dataframe tbody tr th {\n",
       "        vertical-align: top;\n",
       "    }\n",
       "\n",
       "    .dataframe thead th {\n",
       "        text-align: right;\n",
       "    }\n",
       "</style>\n",
       "<table border=\"1\" class=\"dataframe\">\n",
       "  <thead>\n",
       "    <tr style=\"text-align: right;\">\n",
       "      <th></th>\n",
       "      <th>Total</th>\n",
       "      <th>Percent</th>\n",
       "    </tr>\n",
       "  </thead>\n",
       "  <tbody>\n",
       "    <tr>\n",
       "      <th>description</th>\n",
       "      <td>0</td>\n",
       "      <td>0.0</td>\n",
       "    </tr>\n",
       "    <tr>\n",
       "      <th>publisher</th>\n",
       "      <td>0</td>\n",
       "      <td>0.0</td>\n",
       "    </tr>\n",
       "    <tr>\n",
       "      <th>title</th>\n",
       "      <td>0</td>\n",
       "      <td>0.0</td>\n",
       "    </tr>\n",
       "    <tr>\n",
       "      <th>link</th>\n",
       "      <td>0</td>\n",
       "      <td>0.0</td>\n",
       "    </tr>\n",
       "    <tr>\n",
       "      <th>series</th>\n",
       "      <td>0</td>\n",
       "      <td>0.0</td>\n",
       "    </tr>\n",
       "    <tr>\n",
       "      <th>cover_link</th>\n",
       "      <td>0</td>\n",
       "      <td>0.0</td>\n",
       "    </tr>\n",
       "    <tr>\n",
       "      <th>author</th>\n",
       "      <td>0</td>\n",
       "      <td>0.0</td>\n",
       "    </tr>\n",
       "    <tr>\n",
       "      <th>author_link</th>\n",
       "      <td>0</td>\n",
       "      <td>0.0</td>\n",
       "    </tr>\n",
       "    <tr>\n",
       "      <th>rating_count</th>\n",
       "      <td>0</td>\n",
       "      <td>0.0</td>\n",
       "    </tr>\n",
       "    <tr>\n",
       "      <th>review_count</th>\n",
       "      <td>0</td>\n",
       "      <td>0.0</td>\n",
       "    </tr>\n",
       "    <tr>\n",
       "      <th>number_of_pages</th>\n",
       "      <td>0</td>\n",
       "      <td>0.0</td>\n",
       "    </tr>\n",
       "    <tr>\n",
       "      <th>date_published</th>\n",
       "      <td>0</td>\n",
       "      <td>0.0</td>\n",
       "    </tr>\n",
       "    <tr>\n",
       "      <th>original_title</th>\n",
       "      <td>0</td>\n",
       "      <td>0.0</td>\n",
       "    </tr>\n",
       "    <tr>\n",
       "      <th>books_in_series</th>\n",
       "      <td>0</td>\n",
       "      <td>0.0</td>\n",
       "    </tr>\n",
       "    <tr>\n",
       "      <th>genre_and_votes</th>\n",
       "      <td>0</td>\n",
       "      <td>0.0</td>\n",
       "    </tr>\n",
       "    <tr>\n",
       "      <th>isbn</th>\n",
       "      <td>0</td>\n",
       "      <td>0.0</td>\n",
       "    </tr>\n",
       "    <tr>\n",
       "      <th>isbn13</th>\n",
       "      <td>0</td>\n",
       "      <td>0.0</td>\n",
       "    </tr>\n",
       "    <tr>\n",
       "      <th>asin</th>\n",
       "      <td>0</td>\n",
       "      <td>0.0</td>\n",
       "    </tr>\n",
       "    <tr>\n",
       "      <th>settings</th>\n",
       "      <td>0</td>\n",
       "      <td>0.0</td>\n",
       "    </tr>\n",
       "    <tr>\n",
       "      <th>characters</th>\n",
       "      <td>0</td>\n",
       "      <td>0.0</td>\n",
       "    </tr>\n",
       "    <tr>\n",
       "      <th>awards</th>\n",
       "      <td>0</td>\n",
       "      <td>0.0</td>\n",
       "    </tr>\n",
       "    <tr>\n",
       "      <th>amazon_redirect_link</th>\n",
       "      <td>0</td>\n",
       "      <td>0.0</td>\n",
       "    </tr>\n",
       "    <tr>\n",
       "      <th>worldcat_redirect_link</th>\n",
       "      <td>0</td>\n",
       "      <td>0.0</td>\n",
       "    </tr>\n",
       "    <tr>\n",
       "      <th>recommended_books</th>\n",
       "      <td>0</td>\n",
       "      <td>0.0</td>\n",
       "    </tr>\n",
       "    <tr>\n",
       "      <th>id</th>\n",
       "      <td>0</td>\n",
       "      <td>0.0</td>\n",
       "    </tr>\n",
       "  </tbody>\n",
       "</table>\n",
       "</div>"
      ],
      "text/plain": [
       "                        Total  Percent\n",
       "description                 0      0.0\n",
       "publisher                   0      0.0\n",
       "title                       0      0.0\n",
       "link                        0      0.0\n",
       "series                      0      0.0\n",
       "cover_link                  0      0.0\n",
       "author                      0      0.0\n",
       "author_link                 0      0.0\n",
       "rating_count                0      0.0\n",
       "review_count                0      0.0\n",
       "number_of_pages             0      0.0\n",
       "date_published              0      0.0\n",
       "original_title              0      0.0\n",
       "books_in_series             0      0.0\n",
       "genre_and_votes             0      0.0\n",
       "isbn                        0      0.0\n",
       "isbn13                      0      0.0\n",
       "asin                        0      0.0\n",
       "settings                    0      0.0\n",
       "characters                  0      0.0\n",
       "awards                      0      0.0\n",
       "amazon_redirect_link        0      0.0\n",
       "worldcat_redirect_link      0      0.0\n",
       "recommended_books           0      0.0\n",
       "id                          0      0.0"
      ]
     },
     "execution_count": 30,
     "metadata": {},
     "output_type": "execute_result"
    }
   ],
   "source": [
    "missing_percentage(X_train_new)"
   ]
  },
  {
   "cell_type": "code",
   "execution_count": 31,
   "metadata": {},
   "outputs": [
    {
     "data": {
      "text/html": [
       "<div>\n",
       "<style scoped>\n",
       "    .dataframe tbody tr th:only-of-type {\n",
       "        vertical-align: middle;\n",
       "    }\n",
       "\n",
       "    .dataframe tbody tr th {\n",
       "        vertical-align: top;\n",
       "    }\n",
       "\n",
       "    .dataframe thead th {\n",
       "        text-align: right;\n",
       "    }\n",
       "</style>\n",
       "<table border=\"1\" class=\"dataframe\">\n",
       "  <thead>\n",
       "    <tr style=\"text-align: right;\">\n",
       "      <th></th>\n",
       "      <th>Total</th>\n",
       "      <th>Percent</th>\n",
       "    </tr>\n",
       "  </thead>\n",
       "  <tbody>\n",
       "    <tr>\n",
       "      <th>description</th>\n",
       "      <td>0</td>\n",
       "      <td>0.0</td>\n",
       "    </tr>\n",
       "    <tr>\n",
       "      <th>publisher</th>\n",
       "      <td>0</td>\n",
       "      <td>0.0</td>\n",
       "    </tr>\n",
       "    <tr>\n",
       "      <th>title</th>\n",
       "      <td>0</td>\n",
       "      <td>0.0</td>\n",
       "    </tr>\n",
       "    <tr>\n",
       "      <th>link</th>\n",
       "      <td>0</td>\n",
       "      <td>0.0</td>\n",
       "    </tr>\n",
       "    <tr>\n",
       "      <th>series</th>\n",
       "      <td>0</td>\n",
       "      <td>0.0</td>\n",
       "    </tr>\n",
       "    <tr>\n",
       "      <th>cover_link</th>\n",
       "      <td>0</td>\n",
       "      <td>0.0</td>\n",
       "    </tr>\n",
       "    <tr>\n",
       "      <th>author</th>\n",
       "      <td>0</td>\n",
       "      <td>0.0</td>\n",
       "    </tr>\n",
       "    <tr>\n",
       "      <th>author_link</th>\n",
       "      <td>0</td>\n",
       "      <td>0.0</td>\n",
       "    </tr>\n",
       "    <tr>\n",
       "      <th>rating_count</th>\n",
       "      <td>0</td>\n",
       "      <td>0.0</td>\n",
       "    </tr>\n",
       "    <tr>\n",
       "      <th>review_count</th>\n",
       "      <td>0</td>\n",
       "      <td>0.0</td>\n",
       "    </tr>\n",
       "    <tr>\n",
       "      <th>number_of_pages</th>\n",
       "      <td>0</td>\n",
       "      <td>0.0</td>\n",
       "    </tr>\n",
       "    <tr>\n",
       "      <th>date_published</th>\n",
       "      <td>0</td>\n",
       "      <td>0.0</td>\n",
       "    </tr>\n",
       "    <tr>\n",
       "      <th>original_title</th>\n",
       "      <td>0</td>\n",
       "      <td>0.0</td>\n",
       "    </tr>\n",
       "    <tr>\n",
       "      <th>books_in_series</th>\n",
       "      <td>0</td>\n",
       "      <td>0.0</td>\n",
       "    </tr>\n",
       "    <tr>\n",
       "      <th>genre_and_votes</th>\n",
       "      <td>0</td>\n",
       "      <td>0.0</td>\n",
       "    </tr>\n",
       "    <tr>\n",
       "      <th>isbn</th>\n",
       "      <td>0</td>\n",
       "      <td>0.0</td>\n",
       "    </tr>\n",
       "    <tr>\n",
       "      <th>isbn13</th>\n",
       "      <td>0</td>\n",
       "      <td>0.0</td>\n",
       "    </tr>\n",
       "    <tr>\n",
       "      <th>asin</th>\n",
       "      <td>0</td>\n",
       "      <td>0.0</td>\n",
       "    </tr>\n",
       "    <tr>\n",
       "      <th>settings</th>\n",
       "      <td>0</td>\n",
       "      <td>0.0</td>\n",
       "    </tr>\n",
       "    <tr>\n",
       "      <th>characters</th>\n",
       "      <td>0</td>\n",
       "      <td>0.0</td>\n",
       "    </tr>\n",
       "    <tr>\n",
       "      <th>awards</th>\n",
       "      <td>0</td>\n",
       "      <td>0.0</td>\n",
       "    </tr>\n",
       "    <tr>\n",
       "      <th>amazon_redirect_link</th>\n",
       "      <td>0</td>\n",
       "      <td>0.0</td>\n",
       "    </tr>\n",
       "    <tr>\n",
       "      <th>worldcat_redirect_link</th>\n",
       "      <td>0</td>\n",
       "      <td>0.0</td>\n",
       "    </tr>\n",
       "    <tr>\n",
       "      <th>recommended_books</th>\n",
       "      <td>0</td>\n",
       "      <td>0.0</td>\n",
       "    </tr>\n",
       "    <tr>\n",
       "      <th>id</th>\n",
       "      <td>0</td>\n",
       "      <td>0.0</td>\n",
       "    </tr>\n",
       "  </tbody>\n",
       "</table>\n",
       "</div>"
      ],
      "text/plain": [
       "                        Total  Percent\n",
       "description                 0      0.0\n",
       "publisher                   0      0.0\n",
       "title                       0      0.0\n",
       "link                        0      0.0\n",
       "series                      0      0.0\n",
       "cover_link                  0      0.0\n",
       "author                      0      0.0\n",
       "author_link                 0      0.0\n",
       "rating_count                0      0.0\n",
       "review_count                0      0.0\n",
       "number_of_pages             0      0.0\n",
       "date_published              0      0.0\n",
       "original_title              0      0.0\n",
       "books_in_series             0      0.0\n",
       "genre_and_votes             0      0.0\n",
       "isbn                        0      0.0\n",
       "isbn13                      0      0.0\n",
       "asin                        0      0.0\n",
       "settings                    0      0.0\n",
       "characters                  0      0.0\n",
       "awards                      0      0.0\n",
       "amazon_redirect_link        0      0.0\n",
       "worldcat_redirect_link      0      0.0\n",
       "recommended_books           0      0.0\n",
       "id                          0      0.0"
      ]
     },
     "execution_count": 31,
     "metadata": {},
     "output_type": "execute_result"
    }
   ],
   "source": [
    "missing_percentage(X_test_new)"
   ]
  },
  {
   "cell_type": "markdown",
   "metadata": {},
   "source": [
    "## Review unique values"
   ]
  },
  {
   "cell_type": "code",
   "execution_count": 32,
   "metadata": {},
   "outputs": [
    {
     "data": {
      "text/plain": [
       "id                        1.000000\n",
       "title                     0.959003\n",
       "link                      1.000000\n",
       "series                    0.435786\n",
       "cover_link                0.988386\n",
       "author                    0.562322\n",
       "author_link               0.474221\n",
       "rating_count              0.400489\n",
       "review_count              0.119950\n",
       "number_of_pages           0.030892\n",
       "date_published            0.198760\n",
       "publisher                 0.227855\n",
       "original_title            0.730789\n",
       "genre_and_votes           0.908978\n",
       "isbn                      0.773127\n",
       "isbn13                    0.758184\n",
       "asin                      0.099500\n",
       "settings                  0.106420\n",
       "characters                0.238703\n",
       "awards                    0.177902\n",
       "amazon_redirect_link      1.000000\n",
       "worldcat_redirect_link    0.923322\n",
       "recommended_books         0.921885\n",
       "books_in_series           0.391221\n",
       "description               0.943509\n",
       "dtype: float64"
      ]
     },
     "execution_count": 32,
     "metadata": {},
     "output_type": "execute_result"
    }
   ],
   "source": [
    "X_train_new.nunique()/X_train_new.shape[0]"
   ]
  },
  {
   "cell_type": "code",
   "execution_count": 33,
   "metadata": {},
   "outputs": [
    {
     "data": {
      "text/plain": [
       "id                        1.000000\n",
       "title                     0.986111\n",
       "link                      1.000000\n",
       "series                    0.443295\n",
       "cover_link                0.988506\n",
       "author                    0.754789\n",
       "author_link               0.685536\n",
       "rating_count              0.613602\n",
       "review_count              0.232950\n",
       "number_of_pages           0.087356\n",
       "date_published            0.379215\n",
       "publisher                 0.349521\n",
       "original_title            0.738889\n",
       "genre_and_votes           0.920115\n",
       "isbn                      0.769444\n",
       "isbn13                    0.751724\n",
       "asin                      0.103736\n",
       "settings                  0.128352\n",
       "characters                0.251724\n",
       "awards                    0.193870\n",
       "amazon_redirect_link      1.000000\n",
       "worldcat_redirect_link    0.925192\n",
       "recommended_books         0.918199\n",
       "books_in_series           0.406226\n",
       "description               0.948372\n",
       "dtype: float64"
      ]
     },
     "execution_count": 33,
     "metadata": {},
     "output_type": "execute_result"
    }
   ],
   "source": [
    "X_test_new.nunique()/X_test_new.shape[0]"
   ]
  },
  {
   "cell_type": "markdown",
   "metadata": {},
   "source": [
    "# Assumptions:     \n",
    "\n",
    "These columns are identified code of books. This will not give valuable eXplorations because of having many unique values. It will affect on models negatively.\n",
    "\n",
    "- isbn: International Standard Book Number\n",
    "- isbn13: 13-digit ISBN\n",
    "- asin: Amazon Standard Identification Number. This column has greatly missing values as well (about 90%).\n",
    "\n",
    "In addition, several \"link\" columns are dropped due to pointless insights:\n",
    "\n",
    "- link\n",
    "- amazon_redirect_link\n",
    "- worldcat_redirect_link\n",
    "- author_link\n",
    "- cover_link\n",
    "\n",
    "Book's information: \n",
    "\n",
    "These features are shown with many unique values and having few meanings to books.\n",
    "\n",
    "- title: has many unique values along with 'original_title'\n",
    "- settings: the main background of time and location of books\n",
    "- characters: name of characters in books\n",
    "\n",
    "Due to the aim of predicting the average rating of book, similar and recommended books are not relevant in this context:\n",
    "\n",
    "- recommended_books: ID of books which are suggested\n",
    "- books_in_series: books have similar series \n",
    "\n",
    "Both training dataset and training dataset has the same unique values then I will merge to clean consistently. "
   ]
  },
  {
   "cell_type": "code",
   "execution_count": 34,
   "metadata": {},
   "outputs": [],
   "source": [
    "# combine train and test dataset\n",
    "all_data = pd.concat((X_train_new,X_test_new)).reset_index(drop=True) "
   ]
  },
  {
   "cell_type": "code",
   "execution_count": 35,
   "metadata": {},
   "outputs": [
    {
     "data": {
      "text/plain": [
       "52199"
      ]
     },
     "execution_count": 35,
     "metadata": {},
     "output_type": "execute_result"
    }
   ],
   "source": [
    "len(all_data)"
   ]
  },
  {
   "cell_type": "code",
   "execution_count": 36,
   "metadata": {},
   "outputs": [
    {
     "data": {
      "text/html": [
       "<div>\n",
       "<style scoped>\n",
       "    .dataframe tbody tr th:only-of-type {\n",
       "        vertical-align: middle;\n",
       "    }\n",
       "\n",
       "    .dataframe tbody tr th {\n",
       "        vertical-align: top;\n",
       "    }\n",
       "\n",
       "    .dataframe thead th {\n",
       "        text-align: right;\n",
       "    }\n",
       "</style>\n",
       "<table border=\"1\" class=\"dataframe\">\n",
       "  <thead>\n",
       "    <tr style=\"text-align: right;\">\n",
       "      <th></th>\n",
       "      <th>id</th>\n",
       "      <th>series</th>\n",
       "      <th>author</th>\n",
       "      <th>rating_count</th>\n",
       "      <th>review_count</th>\n",
       "      <th>number_of_pages</th>\n",
       "      <th>date_published</th>\n",
       "      <th>publisher</th>\n",
       "      <th>genre_and_votes</th>\n",
       "      <th>awards</th>\n",
       "      <th>description</th>\n",
       "    </tr>\n",
       "  </thead>\n",
       "  <tbody>\n",
       "    <tr>\n",
       "      <th>0</th>\n",
       "      <td>2533958</td>\n",
       "      <td>None</td>\n",
       "      <td>David Frost</td>\n",
       "      <td>523</td>\n",
       "      <td>51</td>\n",
       "      <td>338.0</td>\n",
       "      <td>December 31st 1975</td>\n",
       "      <td>MacMillan</td>\n",
       "      <td>History 42, Nonfiction 33, Politics 28, Biogra...</td>\n",
       "      <td>None</td>\n",
       "      <td>Including hilarious tales of the people he enc...</td>\n",
       "    </tr>\n",
       "    <tr>\n",
       "      <th>1</th>\n",
       "      <td>16071790</td>\n",
       "      <td>None</td>\n",
       "      <td>Paula Daly</td>\n",
       "      <td>10092</td>\n",
       "      <td>1236</td>\n",
       "      <td>320.0</td>\n",
       "      <td>April 28th 2013</td>\n",
       "      <td>Doubleday Canada</td>\n",
       "      <td>Mystery 136, Fiction 122, Thriller 90, Suspens...</td>\n",
       "      <td>None</td>\n",
       "      <td>A searing and sinister thriller for readers wh...</td>\n",
       "    </tr>\n",
       "    <tr>\n",
       "      <th>2</th>\n",
       "      <td>13825165</td>\n",
       "      <td>(Clairmont #1)</td>\n",
       "      <td>S. Jane Scheyder</td>\n",
       "      <td>769</td>\n",
       "      <td>90</td>\n",
       "      <td>318.0</td>\n",
       "      <td>November 17th 2010</td>\n",
       "      <td>Andres &amp; Blanton</td>\n",
       "      <td>Romance 52, Womens Fiction-Chick Lit 21, Chris...</td>\n",
       "      <td>None</td>\n",
       "      <td>Leaving her broken heart behind in Seattle, Ma...</td>\n",
       "    </tr>\n",
       "    <tr>\n",
       "      <th>3</th>\n",
       "      <td>18061</td>\n",
       "      <td>(Uncle Fred #1)</td>\n",
       "      <td>P.G. Wodehouse</td>\n",
       "      <td>4200</td>\n",
       "      <td>328</td>\n",
       "      <td>288.0</td>\n",
       "      <td>1939</td>\n",
       "      <td>Everyman</td>\n",
       "      <td>Fiction 153, Humor 133, Humor-Comedy 31, Class...</td>\n",
       "      <td>None</td>\n",
       "      <td>Pongo Twistleton is in a state of financial em...</td>\n",
       "    </tr>\n",
       "    <tr>\n",
       "      <th>4</th>\n",
       "      <td>3766428</td>\n",
       "      <td>(Golden Age of the Solar Clipper #4)</td>\n",
       "      <td>Nathan Lowell</td>\n",
       "      <td>4212</td>\n",
       "      <td>184</td>\n",
       "      <td>308.0</td>\n",
       "      <td>2008</td>\n",
       "      <td>Podiobooks</td>\n",
       "      <td>Science Fiction 120, Space-Space Opera 37, Fic...</td>\n",
       "      <td>Parsec Award Nominee for Best Speculative Fict...</td>\n",
       "      <td>In his first assignment as an officer, Ishmael...</td>\n",
       "    </tr>\n",
       "  </tbody>\n",
       "</table>\n",
       "</div>"
      ],
      "text/plain": [
       "         id                                series            author  \\\n",
       "0   2533958                                  None       David Frost   \n",
       "1  16071790                                  None        Paula Daly   \n",
       "2  13825165                        (Clairmont #1)  S. Jane Scheyder   \n",
       "3     18061                       (Uncle Fred #1)    P.G. Wodehouse   \n",
       "4   3766428  (Golden Age of the Solar Clipper #4)     Nathan Lowell   \n",
       "\n",
       "   rating_count  review_count  number_of_pages      date_published  \\\n",
       "0           523            51            338.0  December 31st 1975   \n",
       "1         10092          1236            320.0     April 28th 2013   \n",
       "2           769            90            318.0  November 17th 2010   \n",
       "3          4200           328            288.0                1939   \n",
       "4          4212           184            308.0                2008   \n",
       "\n",
       "          publisher                                    genre_and_votes  \\\n",
       "0         MacMillan  History 42, Nonfiction 33, Politics 28, Biogra...   \n",
       "1  Doubleday Canada  Mystery 136, Fiction 122, Thriller 90, Suspens...   \n",
       "2  Andres & Blanton  Romance 52, Womens Fiction-Chick Lit 21, Chris...   \n",
       "3          Everyman  Fiction 153, Humor 133, Humor-Comedy 31, Class...   \n",
       "4        Podiobooks  Science Fiction 120, Space-Space Opera 37, Fic...   \n",
       "\n",
       "                                              awards  \\\n",
       "0                                               None   \n",
       "1                                               None   \n",
       "2                                               None   \n",
       "3                                               None   \n",
       "4  Parsec Award Nominee for Best Speculative Fict...   \n",
       "\n",
       "                                         description  \n",
       "0  Including hilarious tales of the people he enc...  \n",
       "1  A searing and sinister thriller for readers wh...  \n",
       "2  Leaving her broken heart behind in Seattle, Ma...  \n",
       "3  Pongo Twistleton is in a state of financial em...  \n",
       "4  In his first assignment as an officer, Ishmael...  "
      ]
     },
     "execution_count": 36,
     "metadata": {},
     "output_type": "execute_result"
    }
   ],
   "source": [
    "all_data = all_data.drop(['title','original_title','settings','characters','isbn','isbn13','asin','link','amazon_redirect_link','worldcat_redirect_link','author_link','cover_link','recommended_books','books_in_series'],1,inplace=False)\n",
    "all_data.head()"
   ]
  },
  {
   "cell_type": "markdown",
   "metadata": {},
   "source": [
    "# Fixing possible errors"
   ]
  },
  {
   "cell_type": "markdown",
   "metadata": {},
   "source": [
    "### Cleaning functions"
   ]
  },
  {
   "cell_type": "code",
   "execution_count": 37,
   "metadata": {},
   "outputs": [],
   "source": [
    "# remove all characters in ASCII table in out of order 128\n",
    "def remove_non_ascii(col): \n",
    "    \"\"\"\n",
    "    Parameters: column\n",
    "    Return: formated column without non_ascii\n",
    "    \"\"\"\n",
    "    return ''.join(i for i in col if ord(i)<128) "
   ]
  },
  {
   "cell_type": "code",
   "execution_count": 38,
   "metadata": {},
   "outputs": [],
   "source": [
    "# clean regular expression\n",
    "def clean_re(data, col):\n",
    "    \"\"\"\n",
    "    Parameter: DataFrame, column\n",
    "    Return: DataFrame with fomarted column\n",
    "    \"\"\"\n",
    "    data[col] = data[col].str.replace(r'\\W',\" \")\n",
    "\n",
    "# remove whitespaces\n",
    "def clean_whitespaces(data,col):\n",
    "    data[col] = [x.strip(' ') for x in data[col]]\n",
    "\n",
    "# lowercasing column values\n",
    "def lowercase(data,col):\n",
    "    data[col] = data[col].str.lower()"
   ]
  },
  {
   "cell_type": "markdown",
   "metadata": {},
   "source": [
    "### Handling 'series' feature"
   ]
  },
  {
   "cell_type": "markdown",
   "metadata": {},
   "source": [
    "This feature is displayed as \"name#number\" format. But we just use the name."
   ]
  },
  {
   "cell_type": "code",
   "execution_count": 39,
   "metadata": {},
   "outputs": [],
   "source": [
    "def cleanTextInSeries(text):\n",
    "    \"\"\"\n",
    "    Parameters: String\n",
    "    Return: formated string\n",
    "    \"\"\"\n",
    "    return text.strip('()').split('#')[0].strip()"
   ]
  },
  {
   "cell_type": "code",
   "execution_count": 40,
   "metadata": {},
   "outputs": [],
   "source": [
    "def clean_series(data):\n",
    "    data_copy=data.copy()\n",
    "    data_copy['series'] = data_copy['series'].apply(cleanTextInSeries)\n",
    "    return data_copy"
   ]
  },
  {
   "cell_type": "code",
   "execution_count": 41,
   "metadata": {},
   "outputs": [
    {
     "data": {
      "text/plain": [
       "0                                   None\n",
       "1                                   None\n",
       "2                              Clairmont\n",
       "3                             Uncle Fred\n",
       "4        Golden Age of the Solar Clipper\n",
       "                      ...               \n",
       "52194                               None\n",
       "52195                 Ø§ÙØ¹Ø¨ÙØ±ÙØ§Øª\n",
       "52196                               None\n",
       "52197                               None\n",
       "52198                               None\n",
       "Name: series, Length: 52199, dtype: object"
      ]
     },
     "execution_count": 41,
     "metadata": {},
     "output_type": "execute_result"
    }
   ],
   "source": [
    "all_data = clean_series(all_data)\n",
    "all_data['series']"
   ]
  },
  {
   "cell_type": "code",
   "execution_count": 42,
   "metadata": {},
   "outputs": [
    {
     "data": {
      "text/plain": [
       "'Ø§Ù\\x84Ø¹Ø¨Ù\\x82Ø±Ù\\x8aØ§Øª'"
      ]
     },
     "execution_count": 42,
     "metadata": {},
     "output_type": "execute_result"
    }
   ],
   "source": [
    "all_data['series'] = all_data['series'].values.tolist()\n",
    "all_data['series'][52195]"
   ]
  },
  {
   "cell_type": "code",
   "execution_count": 43,
   "metadata": {},
   "outputs": [
    {
     "data": {
      "text/plain": [
       "'العبقريات'"
      ]
     },
     "execution_count": 43,
     "metadata": {},
     "output_type": "execute_result"
    }
   ],
   "source": [
    "all_data['series']=[X_train.encode('latin_1').decode('utf-8',errors='ignore') for X_train in all_data['series']]\n",
    "all_data['series'][52195]"
   ]
  },
  {
   "cell_type": "code",
   "execution_count": 44,
   "metadata": {},
   "outputs": [],
   "source": [
    "# clean steps \n",
    "\n",
    "#lowercasing text \n",
    "lowercase(all_data,'series')\n",
    "\n",
    "#clean regular expression\n",
    "clean_re(all_data,'series')\n",
    "\n",
    "#clean whitspaces\n",
    "clean_whitespaces(all_data,'series')"
   ]
  },
  {
   "cell_type": "code",
   "execution_count": 45,
   "metadata": {},
   "outputs": [
    {
     "data": {
      "text/plain": [
       "0                                   none\n",
       "1                                   none\n",
       "2                              clairmont\n",
       "3                             uncle fred\n",
       "4        golden age of the solar clipper\n",
       "                      ...               \n",
       "52194                               none\n",
       "52195                          العبقريات\n",
       "52196                               none\n",
       "52197                               none\n",
       "52198                               none\n",
       "Name: series, Length: 52199, dtype: object"
      ]
     },
     "execution_count": 45,
     "metadata": {},
     "output_type": "execute_result"
    }
   ],
   "source": [
    "all_data['series']"
   ]
  },
  {
   "cell_type": "markdown",
   "metadata": {},
   "source": [
    "### Handling 'author' feature"
   ]
  },
  {
   "cell_type": "code",
   "execution_count": 46,
   "metadata": {},
   "outputs": [
    {
     "data": {
      "text/plain": [
       "0                                 David Frost\n",
       "1                                  Paula Daly\n",
       "2                            S. Jane Scheyder\n",
       "3                              P.G. Wodehouse\n",
       "4                               Nathan Lowell\n",
       "                         ...                 \n",
       "52194                              John Green\n",
       "52195        Ø¹Ø¨Ø§Ø³ Ù\n",
       "Ø­Ù\n",
       "ÙØ¯ Ø§ÙØ¹ÙØ§Ø¯\n",
       "52196                            Anna Seghers\n",
       "52197    David Yonggi Cho, R. Whitney Manzano\n",
       "52198                           Brian Katcher\n",
       "Name: author, Length: 52199, dtype: object"
      ]
     },
     "execution_count": 46,
     "metadata": {},
     "output_type": "execute_result"
    }
   ],
   "source": [
    "#print list of authors\n",
    "all_data['author'] = all_data['author'].values.tolist()\n",
    "all_data['author']"
   ]
  },
  {
   "cell_type": "code",
   "execution_count": 47,
   "metadata": {},
   "outputs": [],
   "source": [
    "#encode 'author' columns\n",
    "all_data['author'] = [x.encode('latin_1').decode('utf_8') for x in all_data['author']]"
   ]
  },
  {
   "cell_type": "code",
   "execution_count": 48,
   "metadata": {},
   "outputs": [
    {
     "data": {
      "text/plain": [
       "'عمر عباس'"
      ]
     },
     "execution_count": 48,
     "metadata": {},
     "output_type": "execute_result"
    }
   ],
   "source": [
    "all_data['author'][27]"
   ]
  },
  {
   "cell_type": "code",
   "execution_count": 49,
   "metadata": {},
   "outputs": [
    {
     "data": {
      "text/plain": [
       "0                                 David Frost\n",
       "1                                  Paula Daly\n",
       "2                            S. Jane Scheyder\n",
       "3                              P.G. Wodehouse\n",
       "4                               Nathan Lowell\n",
       "                         ...                 \n",
       "52194                              John Green\n",
       "52195                       عباس محمود العقاد\n",
       "52196                            Anna Seghers\n",
       "52197    David Yonggi Cho, R. Whitney Manzano\n",
       "52198                           Brian Katcher\n",
       "Name: author, Length: 52199, dtype: object"
      ]
     },
     "execution_count": 49,
     "metadata": {},
     "output_type": "execute_result"
    }
   ],
   "source": [
    "all_data['author']"
   ]
  },
  {
   "cell_type": "code",
   "execution_count": 50,
   "metadata": {},
   "outputs": [
    {
     "data": {
      "text/plain": [
       "27737"
      ]
     },
     "execution_count": 50,
     "metadata": {},
     "output_type": "execute_result"
    }
   ],
   "source": [
    "# after author cleaning \n",
    "# review unique values \n",
    "all_data['author'].nunique()"
   ]
  },
  {
   "cell_type": "markdown",
   "metadata": {},
   "source": [
    "After cleaning, 'author' still is observed with many unique values. Then it will be dropped. "
   ]
  },
  {
   "cell_type": "code",
   "execution_count": 51,
   "metadata": {},
   "outputs": [],
   "source": [
    "#drop 'author' column\n",
    "all_data = all_data.drop('author',1,inplace=False)"
   ]
  },
  {
   "cell_type": "code",
   "execution_count": 52,
   "metadata": {},
   "outputs": [
    {
     "data": {
      "text/html": [
       "<div>\n",
       "<style scoped>\n",
       "    .dataframe tbody tr th:only-of-type {\n",
       "        vertical-align: middle;\n",
       "    }\n",
       "\n",
       "    .dataframe tbody tr th {\n",
       "        vertical-align: top;\n",
       "    }\n",
       "\n",
       "    .dataframe thead th {\n",
       "        text-align: right;\n",
       "    }\n",
       "</style>\n",
       "<table border=\"1\" class=\"dataframe\">\n",
       "  <thead>\n",
       "    <tr style=\"text-align: right;\">\n",
       "      <th></th>\n",
       "      <th>id</th>\n",
       "      <th>series</th>\n",
       "      <th>rating_count</th>\n",
       "      <th>review_count</th>\n",
       "      <th>number_of_pages</th>\n",
       "      <th>date_published</th>\n",
       "      <th>publisher</th>\n",
       "      <th>genre_and_votes</th>\n",
       "      <th>awards</th>\n",
       "      <th>description</th>\n",
       "    </tr>\n",
       "  </thead>\n",
       "  <tbody>\n",
       "    <tr>\n",
       "      <th>0</th>\n",
       "      <td>2533958</td>\n",
       "      <td>none</td>\n",
       "      <td>523</td>\n",
       "      <td>51</td>\n",
       "      <td>338.0</td>\n",
       "      <td>December 31st 1975</td>\n",
       "      <td>MacMillan</td>\n",
       "      <td>History 42, Nonfiction 33, Politics 28, Biogra...</td>\n",
       "      <td>None</td>\n",
       "      <td>Including hilarious tales of the people he enc...</td>\n",
       "    </tr>\n",
       "    <tr>\n",
       "      <th>1</th>\n",
       "      <td>16071790</td>\n",
       "      <td>none</td>\n",
       "      <td>10092</td>\n",
       "      <td>1236</td>\n",
       "      <td>320.0</td>\n",
       "      <td>April 28th 2013</td>\n",
       "      <td>Doubleday Canada</td>\n",
       "      <td>Mystery 136, Fiction 122, Thriller 90, Suspens...</td>\n",
       "      <td>None</td>\n",
       "      <td>A searing and sinister thriller for readers wh...</td>\n",
       "    </tr>\n",
       "    <tr>\n",
       "      <th>2</th>\n",
       "      <td>13825165</td>\n",
       "      <td>clairmont</td>\n",
       "      <td>769</td>\n",
       "      <td>90</td>\n",
       "      <td>318.0</td>\n",
       "      <td>November 17th 2010</td>\n",
       "      <td>Andres &amp; Blanton</td>\n",
       "      <td>Romance 52, Womens Fiction-Chick Lit 21, Chris...</td>\n",
       "      <td>None</td>\n",
       "      <td>Leaving her broken heart behind in Seattle, Ma...</td>\n",
       "    </tr>\n",
       "    <tr>\n",
       "      <th>3</th>\n",
       "      <td>18061</td>\n",
       "      <td>uncle fred</td>\n",
       "      <td>4200</td>\n",
       "      <td>328</td>\n",
       "      <td>288.0</td>\n",
       "      <td>1939</td>\n",
       "      <td>Everyman</td>\n",
       "      <td>Fiction 153, Humor 133, Humor-Comedy 31, Class...</td>\n",
       "      <td>None</td>\n",
       "      <td>Pongo Twistleton is in a state of financial em...</td>\n",
       "    </tr>\n",
       "    <tr>\n",
       "      <th>4</th>\n",
       "      <td>3766428</td>\n",
       "      <td>golden age of the solar clipper</td>\n",
       "      <td>4212</td>\n",
       "      <td>184</td>\n",
       "      <td>308.0</td>\n",
       "      <td>2008</td>\n",
       "      <td>Podiobooks</td>\n",
       "      <td>Science Fiction 120, Space-Space Opera 37, Fic...</td>\n",
       "      <td>Parsec Award Nominee for Best Speculative Fict...</td>\n",
       "      <td>In his first assignment as an officer, Ishmael...</td>\n",
       "    </tr>\n",
       "  </tbody>\n",
       "</table>\n",
       "</div>"
      ],
      "text/plain": [
       "         id                           series  rating_count  review_count  \\\n",
       "0   2533958                             none           523            51   \n",
       "1  16071790                             none         10092          1236   \n",
       "2  13825165                        clairmont           769            90   \n",
       "3     18061                       uncle fred          4200           328   \n",
       "4   3766428  golden age of the solar clipper          4212           184   \n",
       "\n",
       "   number_of_pages      date_published         publisher  \\\n",
       "0            338.0  December 31st 1975         MacMillan   \n",
       "1            320.0     April 28th 2013  Doubleday Canada   \n",
       "2            318.0  November 17th 2010  Andres & Blanton   \n",
       "3            288.0                1939          Everyman   \n",
       "4            308.0                2008        Podiobooks   \n",
       "\n",
       "                                     genre_and_votes  \\\n",
       "0  History 42, Nonfiction 33, Politics 28, Biogra...   \n",
       "1  Mystery 136, Fiction 122, Thriller 90, Suspens...   \n",
       "2  Romance 52, Womens Fiction-Chick Lit 21, Chris...   \n",
       "3  Fiction 153, Humor 133, Humor-Comedy 31, Class...   \n",
       "4  Science Fiction 120, Space-Space Opera 37, Fic...   \n",
       "\n",
       "                                              awards  \\\n",
       "0                                               None   \n",
       "1                                               None   \n",
       "2                                               None   \n",
       "3                                               None   \n",
       "4  Parsec Award Nominee for Best Speculative Fict...   \n",
       "\n",
       "                                         description  \n",
       "0  Including hilarious tales of the people he enc...  \n",
       "1  A searing and sinister thriller for readers wh...  \n",
       "2  Leaving her broken heart behind in Seattle, Ma...  \n",
       "3  Pongo Twistleton is in a state of financial em...  \n",
       "4  In his first assignment as an officer, Ishmael...  "
      ]
     },
     "execution_count": 52,
     "metadata": {},
     "output_type": "execute_result"
    }
   ],
   "source": [
    "all_data.head()"
   ]
  },
  {
   "cell_type": "markdown",
   "metadata": {},
   "source": [
    "### Handling 'Date_published\""
   ]
  },
  {
   "cell_type": "code",
   "execution_count": 53,
   "metadata": {},
   "outputs": [
    {
     "data": {
      "text/plain": [
       "9121"
      ]
     },
     "execution_count": 53,
     "metadata": {},
     "output_type": "execute_result"
    }
   ],
   "source": [
    "all_data['date_published'].nunique()"
   ]
  },
  {
   "cell_type": "markdown",
   "metadata": {},
   "source": [
    "Because this column has large number of unique values. \n",
    "\n",
    "Therefore, I will group values by year. "
   ]
  },
  {
   "cell_type": "code",
   "execution_count": 54,
   "metadata": {},
   "outputs": [],
   "source": [
    "# clean text date to keep year only\n",
    "def cleanTextDate(text):\n",
    "    if text != text: # Check nan-value\n",
    "        return text\n",
    "    temp = re.findall(r\"[\\w']+\", text)[-1]\n",
    "    if temp.isnumeric():\n",
    "        return float(temp)"
   ]
  },
  {
   "cell_type": "code",
   "execution_count": 55,
   "metadata": {},
   "outputs": [],
   "source": [
    "# apply above function to date column \n",
    "# cast \"date_published\" to float type\n",
    "def formatDate(data): \n",
    "    data_copy=data.copy()\n",
    "    data_copy['date_published']=data_copy['date_published'].apply(cleanTextDate)\n",
    "    data_copy['date_published']=data_copy['date_published'].astype('float')\n",
    "    data_copy.rename(columns={'date_published':'year_published'}, inplace=True)\n",
    "    return data_copy"
   ]
  },
  {
   "cell_type": "code",
   "execution_count": 56,
   "metadata": {},
   "outputs": [
    {
     "data": {
      "text/plain": [
       "0        December 31st 1975\n",
       "1           April 28th 2013\n",
       "2        November 17th 2010\n",
       "3                      1939\n",
       "4                      2008\n",
       "                ...        \n",
       "52194     November 7th 2013\n",
       "52195                  1945\n",
       "52196                  1944\n",
       "52197        March 1st 1979\n",
       "52198      January 1st 2008\n",
       "Name: date_published, Length: 52199, dtype: object"
      ]
     },
     "execution_count": 56,
     "metadata": {},
     "output_type": "execute_result"
    }
   ],
   "source": [
    "all_data['date_published']"
   ]
  },
  {
   "cell_type": "code",
   "execution_count": 57,
   "metadata": {},
   "outputs": [],
   "source": [
    "#apply function to format date_published\n",
    "all_data=formatDate(all_data)"
   ]
  },
  {
   "cell_type": "code",
   "execution_count": 58,
   "metadata": {},
   "outputs": [
    {
     "data": {
      "text/plain": [
       "0    1975.0\n",
       "1    2013.0\n",
       "2    2010.0\n",
       "3    1939.0\n",
       "4    2008.0\n",
       "Name: year_published, dtype: float64"
      ]
     },
     "execution_count": 58,
     "metadata": {},
     "output_type": "execute_result"
    }
   ],
   "source": [
    "all_data['year_published'].head()"
   ]
  },
  {
   "cell_type": "code",
   "execution_count": 59,
   "metadata": {},
   "outputs": [
    {
     "data": {
      "text/html": [
       "<div>\n",
       "<style scoped>\n",
       "    .dataframe tbody tr th:only-of-type {\n",
       "        vertical-align: middle;\n",
       "    }\n",
       "\n",
       "    .dataframe tbody tr th {\n",
       "        vertical-align: top;\n",
       "    }\n",
       "\n",
       "    .dataframe thead th {\n",
       "        text-align: right;\n",
       "    }\n",
       "</style>\n",
       "<table border=\"1\" class=\"dataframe\">\n",
       "  <thead>\n",
       "    <tr style=\"text-align: right;\">\n",
       "      <th></th>\n",
       "      <th>id</th>\n",
       "      <th>series</th>\n",
       "      <th>rating_count</th>\n",
       "      <th>review_count</th>\n",
       "      <th>number_of_pages</th>\n",
       "      <th>year_published</th>\n",
       "      <th>publisher</th>\n",
       "      <th>genre_and_votes</th>\n",
       "      <th>awards</th>\n",
       "      <th>description</th>\n",
       "    </tr>\n",
       "  </thead>\n",
       "  <tbody>\n",
       "    <tr>\n",
       "      <th>0</th>\n",
       "      <td>2533958</td>\n",
       "      <td>none</td>\n",
       "      <td>523</td>\n",
       "      <td>51</td>\n",
       "      <td>338.0</td>\n",
       "      <td>1975.0</td>\n",
       "      <td>MacMillan</td>\n",
       "      <td>History 42, Nonfiction 33, Politics 28, Biogra...</td>\n",
       "      <td>None</td>\n",
       "      <td>Including hilarious tales of the people he enc...</td>\n",
       "    </tr>\n",
       "    <tr>\n",
       "      <th>1</th>\n",
       "      <td>16071790</td>\n",
       "      <td>none</td>\n",
       "      <td>10092</td>\n",
       "      <td>1236</td>\n",
       "      <td>320.0</td>\n",
       "      <td>2013.0</td>\n",
       "      <td>Doubleday Canada</td>\n",
       "      <td>Mystery 136, Fiction 122, Thriller 90, Suspens...</td>\n",
       "      <td>None</td>\n",
       "      <td>A searing and sinister thriller for readers wh...</td>\n",
       "    </tr>\n",
       "  </tbody>\n",
       "</table>\n",
       "</div>"
      ],
      "text/plain": [
       "         id series  rating_count  review_count  number_of_pages  \\\n",
       "0   2533958   none           523            51            338.0   \n",
       "1  16071790   none         10092          1236            320.0   \n",
       "\n",
       "   year_published         publisher  \\\n",
       "0          1975.0         MacMillan   \n",
       "1          2013.0  Doubleday Canada   \n",
       "\n",
       "                                     genre_and_votes awards  \\\n",
       "0  History 42, Nonfiction 33, Politics 28, Biogra...   None   \n",
       "1  Mystery 136, Fiction 122, Thriller 90, Suspens...   None   \n",
       "\n",
       "                                         description  \n",
       "0  Including hilarious tales of the people he enc...  \n",
       "1  A searing and sinister thriller for readers wh...  "
      ]
     },
     "execution_count": 59,
     "metadata": {},
     "output_type": "execute_result"
    }
   ],
   "source": [
    "all_data.head(2)"
   ]
  },
  {
   "cell_type": "code",
   "execution_count": 60,
   "metadata": {},
   "outputs": [
    {
     "data": {
      "text/plain": [
       "860"
      ]
     },
     "execution_count": 60,
     "metadata": {},
     "output_type": "execute_result"
    }
   ],
   "source": [
    "#recheck nan values after formarting\n",
    "all_data['year_published'].isna().sum()"
   ]
  },
  {
   "cell_type": "code",
   "execution_count": 61,
   "metadata": {},
   "outputs": [],
   "source": [
    "all_data['year_published'] = all_data['year_published'].fillna(0)"
   ]
  },
  {
   "cell_type": "code",
   "execution_count": 62,
   "metadata": {},
   "outputs": [
    {
     "data": {
      "text/plain": [
       "0"
      ]
     },
     "execution_count": 62,
     "metadata": {},
     "output_type": "execute_result"
    }
   ],
   "source": [
    "all_data['year_published'].isna().sum()"
   ]
  },
  {
   "cell_type": "markdown",
   "metadata": {},
   "source": [
    "### Handling 'publisher\" feature "
   ]
  },
  {
   "cell_type": "code",
   "execution_count": 63,
   "metadata": {},
   "outputs": [
    {
     "data": {
      "text/plain": [
       "'Ù\\x86Ù\\x87Ø¶Ø© Ù\\x85ØµØ±'"
      ]
     },
     "execution_count": 63,
     "metadata": {},
     "output_type": "execute_result"
    }
   ],
   "source": [
    "all_data['publisher'] = all_data['publisher'].values.tolist()\n",
    "all_data['publisher'][52195]"
   ]
  },
  {
   "cell_type": "code",
   "execution_count": 64,
   "metadata": {},
   "outputs": [],
   "source": [
    "all_data['publisher'] = [x.encode('latin_1').decode('utf_8',errors='ignore') for x in all_data['publisher']]\n"
   ]
  },
  {
   "cell_type": "code",
   "execution_count": 65,
   "metadata": {},
   "outputs": [
    {
     "data": {
      "text/plain": [
       "'نهضة مصر'"
      ]
     },
     "execution_count": 65,
     "metadata": {},
     "output_type": "execute_result"
    }
   ],
   "source": [
    "all_data['publisher'][52195]"
   ]
  },
  {
   "cell_type": "code",
   "execution_count": 66,
   "metadata": {},
   "outputs": [
    {
     "data": {
      "text/plain": [
       "11059"
      ]
     },
     "execution_count": 66,
     "metadata": {},
     "output_type": "execute_result"
    }
   ],
   "source": [
    "all_data['publisher'].nunique()"
   ]
  },
  {
   "cell_type": "code",
   "execution_count": 67,
   "metadata": {},
   "outputs": [
    {
     "data": {
      "text/html": [
       "<div>\n",
       "<style scoped>\n",
       "    .dataframe tbody tr th:only-of-type {\n",
       "        vertical-align: middle;\n",
       "    }\n",
       "\n",
       "    .dataframe tbody tr th {\n",
       "        vertical-align: top;\n",
       "    }\n",
       "\n",
       "    .dataframe thead th {\n",
       "        text-align: right;\n",
       "    }\n",
       "</style>\n",
       "<table border=\"1\" class=\"dataframe\">\n",
       "  <thead>\n",
       "    <tr style=\"text-align: right;\">\n",
       "      <th></th>\n",
       "      <th>id</th>\n",
       "      <th>series</th>\n",
       "      <th>rating_count</th>\n",
       "      <th>review_count</th>\n",
       "      <th>number_of_pages</th>\n",
       "      <th>year_published</th>\n",
       "      <th>publisher</th>\n",
       "      <th>genre_and_votes</th>\n",
       "      <th>awards</th>\n",
       "      <th>description</th>\n",
       "    </tr>\n",
       "  </thead>\n",
       "  <tbody>\n",
       "    <tr>\n",
       "      <th>52195</th>\n",
       "      <td>4339191</td>\n",
       "      <td>العبقريات</td>\n",
       "      <td>2149</td>\n",
       "      <td>223</td>\n",
       "      <td>152.0</td>\n",
       "      <td>1945.0</td>\n",
       "      <td>نهضة مصر</td>\n",
       "      <td>Biography 25, History 20, Religion 16, Nonfict...</td>\n",
       "      <td>None</td>\n",
       "      <td>ÙØ¹Ø±Ø¶ Ø§ÙÙØ§ØªØ¨ ÙÙ ÙØ°Ø§ Ø§ÙØ¹Ù",
       "Ù Ø...</td>\n",
       "    </tr>\n",
       "  </tbody>\n",
       "</table>\n",
       "</div>"
      ],
      "text/plain": [
       "            id     series  rating_count  review_count  number_of_pages  \\\n",
       "52195  4339191  العبقريات          2149           223            152.0   \n",
       "\n",
       "       year_published publisher  \\\n",
       "52195          1945.0  نهضة مصر   \n",
       "\n",
       "                                         genre_and_votes awards  \\\n",
       "52195  Biography 25, History 20, Religion 16, Nonfict...   None   \n",
       "\n",
       "                                             description  \n",
       "52195  ÙØ¹Ø±Ø¶ Ø§ÙÙØ§ØªØ¨ ÙÙ ÙØ°Ø§ Ø§ÙØ¹Ù\n",
       "Ù Ø...  "
      ]
     },
     "execution_count": 67,
     "metadata": {},
     "output_type": "execute_result"
    }
   ],
   "source": [
    "all_data.loc[[52195]]"
   ]
  },
  {
   "cell_type": "code",
   "execution_count": 68,
   "metadata": {},
   "outputs": [],
   "source": [
    "# clean possible errors\n",
    "lowercase(all_data,'publisher')\n",
    "clean_re(all_data,'publisher')\n",
    "clean_whitespaces(all_data,'publisher')"
   ]
  },
  {
   "cell_type": "code",
   "execution_count": 69,
   "metadata": {},
   "outputs": [
    {
     "data": {
      "text/plain": [
       "0                                macmillan\n",
       "1                         doubleday canada\n",
       "2                         andres   blanton\n",
       "3                                 everyman\n",
       "4                               podiobooks\n",
       "                       ...                \n",
       "52194                              penguin\n",
       "52195                             نهضة مصر\n",
       "52196                               aufbau\n",
       "52197                         bridge logos\n",
       "52198    delacorte books for young readers\n",
       "Name: publisher, Length: 52199, dtype: object"
      ]
     },
     "execution_count": 69,
     "metadata": {},
     "output_type": "execute_result"
    }
   ],
   "source": [
    "all_data['publisher']"
   ]
  },
  {
   "cell_type": "markdown",
   "metadata": {},
   "source": [
    "### Handling 'genre_and_votes\" feature"
   ]
  },
  {
   "cell_type": "code",
   "execution_count": 70,
   "metadata": {},
   "outputs": [
    {
     "data": {
      "text/plain": [
       "array(['History 42, Nonfiction 33, Politics 28, Biography 11, North American Hi...-American History 8',\n",
       "       'Mystery 136, Fiction 122, Thriller 90, Suspense 46, Mystery-Crime 43, Thriller-Mystery Thriller 42',\n",
       "       'Romance 52, Womens Fiction-Chick Lit 21, Christian Fiction 17, Christian 14, Contemporary 12, Fiction 10',\n",
       "       ...,\n",
       "       'Fiction 95, European Literature-German Literature 49, Cultural-Germany 28',\n",
       "       'Christian 10, Religion-Christianity 3, Prayer 3, Religion-Faith 3, Nonfiction 3, Religion 2',\n",
       "       'Young Adult 60, Romance 27, Young Adult-Teen 17, Realistic Fiction 15, Contemporary 12, Fiction 11'],\n",
       "      dtype=object)"
      ]
     },
     "execution_count": 70,
     "metadata": {},
     "output_type": "execute_result"
    }
   ],
   "source": [
    "# review 'genre_and_votes' column\n",
    "all_data['genre_and_votes'].unique()"
   ]
  },
  {
   "cell_type": "code",
   "execution_count": 71,
   "metadata": {},
   "outputs": [],
   "source": [
    "# create the list of genre and votes\n",
    "genre_list = all_data['genre_and_votes'].values.tolist()"
   ]
  },
  {
   "cell_type": "code",
   "execution_count": 72,
   "metadata": {},
   "outputs": [],
   "source": [
    "# new empty list\n",
    "genres = []\n",
    "\n",
    "# print genres only and remove voting number\n",
    "for i in genre_list:\n",
    "  if (i == i):\n",
    "    genres += re.findall(r\"[a-zA-Z- ]+\", i)"
   ]
  },
  {
   "cell_type": "code",
   "execution_count": 73,
   "metadata": {},
   "outputs": [
    {
     "name": "stdout",
     "output_type": "stream",
     "text": [
      "1365\n"
     ]
    }
   ],
   "source": [
    "# counting actual unique values in new genre list\n",
    "unique = set(genres)\n",
    "print(len(unique))"
   ]
  },
  {
   "cell_type": "markdown",
   "metadata": {},
   "source": [
    "There is a large number of unique values in 'genre_and_votes'. It would be unable to seperate into each column for each genre.\n",
    "\n",
    "I will only take out the genre having the most vote in each row. "
   ]
  },
  {
   "cell_type": "code",
   "execution_count": 74,
   "metadata": {},
   "outputs": [],
   "source": [
    "def cleanGenreText(text):\n",
    "    return re.findall(r\"[a-zA-Z- ]+\", text)[0]"
   ]
  },
  {
   "cell_type": "code",
   "execution_count": 75,
   "metadata": {},
   "outputs": [],
   "source": [
    "def cleanGenre(data):\n",
    "  data_copy = data.copy()\n",
    "  data_copy['genre_and_votes'] = data_copy['genre_and_votes'].apply(cleanGenreText)\n",
    "  data_copy.rename(columns={'genre_and_votes':'genre'}, inplace=True)\n",
    "  return data_copy"
   ]
  },
  {
   "cell_type": "code",
   "execution_count": 76,
   "metadata": {},
   "outputs": [
    {
     "data": {
      "text/plain": [
       "0    History 42, Nonfiction 33, Politics 28, Biogra...\n",
       "1    Mystery 136, Fiction 122, Thriller 90, Suspens...\n",
       "Name: genre_and_votes, dtype: object"
      ]
     },
     "execution_count": 76,
     "metadata": {},
     "output_type": "execute_result"
    }
   ],
   "source": [
    "all_data['genre_and_votes'].head(2)"
   ]
  },
  {
   "cell_type": "code",
   "execution_count": 77,
   "metadata": {},
   "outputs": [],
   "source": [
    "all_data = cleanGenre(all_data)"
   ]
  },
  {
   "cell_type": "code",
   "execution_count": 78,
   "metadata": {},
   "outputs": [],
   "source": [
    "# clean possible errors\n",
    "lowercase(all_data,'genre')\n",
    "clean_re(all_data,'genre')\n",
    "clean_whitespaces(all_data,'genre')"
   ]
  },
  {
   "cell_type": "code",
   "execution_count": 79,
   "metadata": {},
   "outputs": [
    {
     "data": {
      "text/plain": [
       "0                history\n",
       "1                mystery\n",
       "2                romance\n",
       "3                fiction\n",
       "4        science fiction\n",
       "              ...       \n",
       "52194            fiction\n",
       "52195          biography\n",
       "52196            fiction\n",
       "52197          christian\n",
       "52198        young adult\n",
       "Name: genre, Length: 52199, dtype: object"
      ]
     },
     "execution_count": 79,
     "metadata": {},
     "output_type": "execute_result"
    }
   ],
   "source": [
    "all_data['genre']"
   ]
  },
  {
   "cell_type": "markdown",
   "metadata": {},
   "source": [
    "### Handling 'awards' feature"
   ]
  },
  {
   "cell_type": "code",
   "execution_count": 80,
   "metadata": {},
   "outputs": [
    {
     "data": {
      "text/plain": [
       "0                                                     None\n",
       "1                                                     None\n",
       "2                                                     None\n",
       "3                                                     None\n",
       "4        Parsec Award Nominee for Best Speculative Fict...\n",
       "                               ...                        \n",
       "52194                                                 None\n",
       "52195                                                 None\n",
       "52196    PEN Translation Prize Nominee for Margot Betta...\n",
       "52197                                                 None\n",
       "52198    North Carolina Young Adult Book Award for High...\n",
       "Name: awards, Length: 52199, dtype: object"
      ]
     },
     "execution_count": 80,
     "metadata": {},
     "output_type": "execute_result"
    }
   ],
   "source": [
    "#print list of awards\n",
    "all_data['awards'] = all_data['awards'].values.tolist()\n",
    "all_data['awards']"
   ]
  },
  {
   "cell_type": "code",
   "execution_count": 81,
   "metadata": {},
   "outputs": [],
   "source": [
    "#encoding awards column\n",
    "all_data['awards'] = [x.encode('latin_1').decode('utf_8',errors='ignore') for x in all_data['awards']]"
   ]
  },
  {
   "cell_type": "code",
   "execution_count": 82,
   "metadata": {},
   "outputs": [],
   "source": [
    "#clean possible errors\n",
    "\n",
    "# #lowercasing\n",
    "lowercase(all_data, 'awards')\n",
    "\n",
    "# #strip away whitespaces\n",
    "clean_whitespaces(all_data, 'awards')"
   ]
  },
  {
   "cell_type": "markdown",
   "metadata": {},
   "source": [
    "#### Check unique values in awards"
   ]
  },
  {
   "cell_type": "code",
   "execution_count": 83,
   "metadata": {},
   "outputs": [],
   "source": [
    "# create an empty list\n",
    "award_list = []\n",
    "# list of award counting\n",
    "aw_count = []\n",
    "\n",
    "for i in all_data['awards']: #for each row in award column\n",
    "\n",
    "    if i==i:\n",
    "        array = i.split(',') #spli tinto a list\n",
    "        aw_count.append(len(array))\n",
    "        for a in array:\n",
    "            award_list.append(a.split('(')[0].split('for')[0].strip())\n",
    "        else:\n",
    "            aw_count.append(0)"
   ]
  },
  {
   "cell_type": "code",
   "execution_count": 84,
   "metadata": {},
   "outputs": [
    {
     "data": {
      "text/plain": [
       "2445"
      ]
     },
     "execution_count": 84,
     "metadata": {},
     "output_type": "execute_result"
    }
   ],
   "source": [
    "#unique values in award column\n",
    "len(set(award_list))"
   ]
  },
  {
   "cell_type": "markdown",
   "metadata": {},
   "source": [
    "There are too many unique values in 'award so it is impossible to split into each feature. \n",
    "\n",
    "I will count the number of award which the book took from. "
   ]
  },
  {
   "cell_type": "code",
   "execution_count": 85,
   "metadata": {},
   "outputs": [],
   "source": [
    "# split tetx (string) into a list and return length \n",
    "def cleanTextAward(text):\n",
    "    if text =='none':       #if missing values, return '0'\n",
    "        return 0\n",
    "    return len(text.split(\",\"))"
   ]
  },
  {
   "cell_type": "code",
   "execution_count": 86,
   "metadata": {},
   "outputs": [],
   "source": [
    "#count the number of received award for each book \n",
    "def countAward(data):\n",
    "    data_copy=data.copy()\n",
    "    data_copy['awards'] = data_copy['awards'].apply(cleanTextAward)\n",
    "    return data_copy"
   ]
  },
  {
   "cell_type": "code",
   "execution_count": 87,
   "metadata": {},
   "outputs": [
    {
     "data": {
      "text/plain": [
       "'michael l. printz award (2018), rhode island teen book award nominee (2019), lincoln award nominee (2019), goodreads choice award nominee for young adult fiction (2017), hea noorteraamat (2018)'"
      ]
     },
     "execution_count": 87,
     "metadata": {},
     "output_type": "execute_result"
    }
   ],
   "source": [
    "all_data['awards'][94]"
   ]
  },
  {
   "cell_type": "code",
   "execution_count": 88,
   "metadata": {},
   "outputs": [],
   "source": [
    "all_data = countAward(all_data)"
   ]
  },
  {
   "cell_type": "code",
   "execution_count": 89,
   "metadata": {},
   "outputs": [
    {
     "data": {
      "text/plain": [
       "5"
      ]
     },
     "execution_count": 89,
     "metadata": {},
     "output_type": "execute_result"
    }
   ],
   "source": [
    "all_data['awards'][94]"
   ]
  },
  {
   "cell_type": "code",
   "execution_count": 90,
   "metadata": {},
   "outputs": [
    {
     "data": {
      "text/html": [
       "<div>\n",
       "<style scoped>\n",
       "    .dataframe tbody tr th:only-of-type {\n",
       "        vertical-align: middle;\n",
       "    }\n",
       "\n",
       "    .dataframe tbody tr th {\n",
       "        vertical-align: top;\n",
       "    }\n",
       "\n",
       "    .dataframe thead th {\n",
       "        text-align: right;\n",
       "    }\n",
       "</style>\n",
       "<table border=\"1\" class=\"dataframe\">\n",
       "  <thead>\n",
       "    <tr style=\"text-align: right;\">\n",
       "      <th></th>\n",
       "      <th>id</th>\n",
       "      <th>series</th>\n",
       "      <th>rating_count</th>\n",
       "      <th>review_count</th>\n",
       "      <th>number_of_pages</th>\n",
       "      <th>year_published</th>\n",
       "      <th>publisher</th>\n",
       "      <th>genre</th>\n",
       "      <th>awards</th>\n",
       "      <th>description</th>\n",
       "    </tr>\n",
       "  </thead>\n",
       "  <tbody>\n",
       "    <tr>\n",
       "      <th>0</th>\n",
       "      <td>2533958</td>\n",
       "      <td>none</td>\n",
       "      <td>523</td>\n",
       "      <td>51</td>\n",
       "      <td>338.0</td>\n",
       "      <td>1975.0</td>\n",
       "      <td>macmillan</td>\n",
       "      <td>history</td>\n",
       "      <td>0</td>\n",
       "      <td>Including hilarious tales of the people he enc...</td>\n",
       "    </tr>\n",
       "    <tr>\n",
       "      <th>1</th>\n",
       "      <td>16071790</td>\n",
       "      <td>none</td>\n",
       "      <td>10092</td>\n",
       "      <td>1236</td>\n",
       "      <td>320.0</td>\n",
       "      <td>2013.0</td>\n",
       "      <td>doubleday canada</td>\n",
       "      <td>mystery</td>\n",
       "      <td>0</td>\n",
       "      <td>A searing and sinister thriller for readers wh...</td>\n",
       "    </tr>\n",
       "    <tr>\n",
       "      <th>2</th>\n",
       "      <td>13825165</td>\n",
       "      <td>clairmont</td>\n",
       "      <td>769</td>\n",
       "      <td>90</td>\n",
       "      <td>318.0</td>\n",
       "      <td>2010.0</td>\n",
       "      <td>andres   blanton</td>\n",
       "      <td>romance</td>\n",
       "      <td>0</td>\n",
       "      <td>Leaving her broken heart behind in Seattle, Ma...</td>\n",
       "    </tr>\n",
       "    <tr>\n",
       "      <th>3</th>\n",
       "      <td>18061</td>\n",
       "      <td>uncle fred</td>\n",
       "      <td>4200</td>\n",
       "      <td>328</td>\n",
       "      <td>288.0</td>\n",
       "      <td>1939.0</td>\n",
       "      <td>everyman</td>\n",
       "      <td>fiction</td>\n",
       "      <td>0</td>\n",
       "      <td>Pongo Twistleton is in a state of financial em...</td>\n",
       "    </tr>\n",
       "    <tr>\n",
       "      <th>4</th>\n",
       "      <td>3766428</td>\n",
       "      <td>golden age of the solar clipper</td>\n",
       "      <td>4212</td>\n",
       "      <td>184</td>\n",
       "      <td>308.0</td>\n",
       "      <td>2008.0</td>\n",
       "      <td>podiobooks</td>\n",
       "      <td>science fiction</td>\n",
       "      <td>2</td>\n",
       "      <td>In his first assignment as an officer, Ishmael...</td>\n",
       "    </tr>\n",
       "  </tbody>\n",
       "</table>\n",
       "</div>"
      ],
      "text/plain": [
       "         id                           series  rating_count  review_count  \\\n",
       "0   2533958                             none           523            51   \n",
       "1  16071790                             none         10092          1236   \n",
       "2  13825165                        clairmont           769            90   \n",
       "3     18061                       uncle fred          4200           328   \n",
       "4   3766428  golden age of the solar clipper          4212           184   \n",
       "\n",
       "   number_of_pages  year_published         publisher            genre  awards  \\\n",
       "0            338.0          1975.0         macmillan          history       0   \n",
       "1            320.0          2013.0  doubleday canada          mystery       0   \n",
       "2            318.0          2010.0  andres   blanton          romance       0   \n",
       "3            288.0          1939.0          everyman          fiction       0   \n",
       "4            308.0          2008.0        podiobooks  science fiction       2   \n",
       "\n",
       "                                         description  \n",
       "0  Including hilarious tales of the people he enc...  \n",
       "1  A searing and sinister thriller for readers wh...  \n",
       "2  Leaving her broken heart behind in Seattle, Ma...  \n",
       "3  Pongo Twistleton is in a state of financial em...  \n",
       "4  In his first assignment as an officer, Ishmael...  "
      ]
     },
     "execution_count": 90,
     "metadata": {},
     "output_type": "execute_result"
    }
   ],
   "source": [
    "all_data.head()"
   ]
  },
  {
   "cell_type": "markdown",
   "metadata": {},
   "source": [
    "### Handling 'description' feature"
   ]
  },
  {
   "cell_type": "code",
   "execution_count": 91,
   "metadata": {},
   "outputs": [
    {
     "data": {
      "text/plain": [
       "'Ù\\x8aØ¹Ø±Ø¶ Ø§Ù\\x84Ù\\x83Ø§ØªØ¨ Ù\\x81Ù\\x8a Ù\\x87Ø°Ø§ Ø§Ù\\x84Ø¹Ù\\x85Ù\\x84 Ø§Ù\\x84Ø¹Ø¨Ù\\x82Ø±Ù\\x8aØ© Ø§Ù\\x84Ù\\x81Ø°Ø© Ù\\x84ØªÙ\\x84Ù\\x83 Ø§Ù\\x84Ø´Ø®ØµÙ\\x8aØ© Ø§Ù\\x84ØªÙ\\x8a Ø£Ø«Ø±Øª Ø§Ù\\x84Ø\\xadÙ\\x8aØ§Ø© Ø§Ù\\x84Ø¥Ø³Ù\\x84Ø§Ù\\x85Ù\\x8aØ© Ø¨Ù\\x85Ù\\x86Ø§Ù\\x82Ø¨Ù\\x87Ø§ Ø§Ù\\x84Ù\\x85ØªØ¹Ø¯Ø¯Ø©Ø\\x8c Ù\\x85Ù\\x88Ø¶Ø\\xadÙ\\x8bØ§ Ù\\x86Ø´Ø£ØªÙ\\x87 Ù\\x88Ø¥Ø³Ù\\x84Ø§Ù\\x85Ù\\x87 Ù\\x88Ø\\xadÙ\\x8aØ§ØªÙ\\x87 Ø¨Ù\\x8aÙ\\x86 Ø§Ù\\x84Ø¨Ø§Ø¯Ù\\x8aØ© Ù\\x88Ø§Ù\\x84Ø\\xadØ±Ø¨Ø\\x8c Ù\\x88Ù\\x86Ø³Ø¨Ù\\x87 Ø§Ù\\x84Ù\\x82Ø¨Ù\\x84Ù\\x8a Ù\\x88Ù\\x85Ø³Ù\\x8aØ±ØªÙ\\x87 Ù\\x85Ø¹ Ø§Ù\\x84Ø±Ø³Ù\\x88Ù\\x84 Ù\\x88Ø¯Ù\\x88Ø±Ù\\x87 Ù\\x81Ù\\x8a Ø\\xadØ±Ù\\x88Ø¨ Ø§Ù\\x84Ø±Ø¯Ø© Ù\\x88Ø§Ù\\x84Ù\\x81ØªÙ\\x88Ø\\xadØ§Øª Ø§Ù\\x84Ø¥Ø³Ù\\x84Ø§Ù\\x85Ù\\x8aØ© Ù\\x88Ø¹Ø²Ù\\x84Ù\\x87Ø\\x8c Ù\\x85Ø\\xadØ¯Ø¯Ù\\x8bØ§ Ø¹Ù\\x86Ø§ØµØ± Ø¹Ø¨Ù\\x82Ø±Ù\\x8aØªÙ\\x87 Ø§Ù\\x84Ø\\xadØ±Ø¨Ù\\x8aØ© Ù\\x88Ù\\x85Ù\\x81ØªØ§Ø\\xad Ø´Ø®ØµÙ\\x8aØªÙ\\x87 Ù\\x88Ù\\x86Ù\\x87Ø§Ù\\x8aØªÙ\\x87'"
      ]
     },
     "execution_count": 91,
     "metadata": {},
     "output_type": "execute_result"
    }
   ],
   "source": [
    "all_data['description'][52195]"
   ]
  },
  {
   "cell_type": "code",
   "execution_count": 92,
   "metadata": {},
   "outputs": [],
   "source": [
    "#encoding awards column\n",
    "all_data['description'] = [x.encode('latin_1').decode('utf_8',errors='ignore') for x in all_data['description']]"
   ]
  },
  {
   "cell_type": "code",
   "execution_count": 93,
   "metadata": {},
   "outputs": [
    {
     "data": {
      "text/plain": [
       "'يعرض الكاتب في هذا العمل العبقرية الفذة لتلك الشخصية التي أثرت الحياة الإسلامية بمناقبها المتعددة، موضحًا نشأته وإسلامه وحياته بين البادية والحرب، ونسبه القبلي ومسيرته مع الرسول ودوره في حروب الردة والفتوحات الإسلامية وعزله، محددًا عناصر عبقريته الحربية ومفتاح شخصيته ونهايته'"
      ]
     },
     "execution_count": 93,
     "metadata": {},
     "output_type": "execute_result"
    }
   ],
   "source": [
    "all_data['description'][52195]"
   ]
  },
  {
   "cell_type": "code",
   "execution_count": 94,
   "metadata": {},
   "outputs": [],
   "source": [
    "lowercase(all_data,'description')\n",
    "\n",
    "clean_re(all_data,'description')\n",
    "\n",
    "clean_whitespaces(all_data,'description')"
   ]
  },
  {
   "cell_type": "code",
   "execution_count": 95,
   "metadata": {},
   "outputs": [],
   "source": [
    "# def is_ascii(data):\n",
    "#     for Str in data:\n",
    "#         if Str.isascii()==False: print(Str)"
   ]
  },
  {
   "cell_type": "code",
   "execution_count": 96,
   "metadata": {},
   "outputs": [
    {
     "data": {
      "text/plain": [
       "0        including hilarious tales of the people he enc...\n",
       "1        a searing and sinister thriller for readers wh...\n",
       "2        leaving her broken heart behind in seattle  ma...\n",
       "3        pongo twistleton is in a state of financial em...\n",
       "4        in his first assignment as an officer  ishmael...\n",
       "                               ...                        \n",
       "52194    john green   the collection includes five nove...\n",
       "52195    يعرض الكاتب في هذا العمل العبقرية الفذة لتلك ا...\n",
       "52196    marseille im sommer 1940  am rande europas ver...\n",
       "52197    paul yonggi cho  pastor of the world s largest...\n",
       "52198    seventeen year old leon sanders has a mug that...\n",
       "Name: description, Length: 52199, dtype: object"
      ]
     },
     "execution_count": 96,
     "metadata": {},
     "output_type": "execute_result"
    }
   ],
   "source": [
    "all_data['description']"
   ]
  },
  {
   "cell_type": "markdown",
   "metadata": {},
   "source": [
    "## Split all_data back into train and test for data exploration "
   ]
  },
  {
   "cell_type": "code",
   "execution_count": 97,
   "metadata": {},
   "outputs": [],
   "source": [
    "from sklearn.model_selection import train_test_split\n",
    "\n",
    "X_train, X_test = train_test_split(all_data, test_size = .2, random_state = 0)"
   ]
  },
  {
   "cell_type": "code",
   "execution_count": 98,
   "metadata": {},
   "outputs": [
    {
     "data": {
      "text/plain": [
       "41759"
      ]
     },
     "execution_count": 98,
     "metadata": {},
     "output_type": "execute_result"
    }
   ],
   "source": [
    "len(X_train)"
   ]
  },
  {
   "cell_type": "code",
   "execution_count": 99,
   "metadata": {},
   "outputs": [
    {
     "data": {
      "text/html": [
       "<div>\n",
       "<style scoped>\n",
       "    .dataframe tbody tr th:only-of-type {\n",
       "        vertical-align: middle;\n",
       "    }\n",
       "\n",
       "    .dataframe tbody tr th {\n",
       "        vertical-align: top;\n",
       "    }\n",
       "\n",
       "    .dataframe thead th {\n",
       "        text-align: right;\n",
       "    }\n",
       "</style>\n",
       "<table border=\"1\" class=\"dataframe\">\n",
       "  <thead>\n",
       "    <tr style=\"text-align: right;\">\n",
       "      <th></th>\n",
       "      <th>id</th>\n",
       "      <th>series</th>\n",
       "      <th>rating_count</th>\n",
       "      <th>review_count</th>\n",
       "      <th>number_of_pages</th>\n",
       "      <th>year_published</th>\n",
       "      <th>publisher</th>\n",
       "      <th>genre</th>\n",
       "      <th>awards</th>\n",
       "      <th>description</th>\n",
       "    </tr>\n",
       "  </thead>\n",
       "  <tbody>\n",
       "    <tr>\n",
       "      <th>32756</th>\n",
       "      <td>77427</td>\n",
       "      <td>aubrey   maturin</td>\n",
       "      <td>15128</td>\n",
       "      <td>640</td>\n",
       "      <td>379.0</td>\n",
       "      <td>1973.0</td>\n",
       "      <td>w w  norton</td>\n",
       "      <td>historical historical fiction</td>\n",
       "      <td>0</td>\n",
       "      <td>amid sights and smells of the indian subcontin...</td>\n",
       "    </tr>\n",
       "    <tr>\n",
       "      <th>17106</th>\n",
       "      <td>550821</td>\n",
       "      <td>none</td>\n",
       "      <td>5175</td>\n",
       "      <td>291</td>\n",
       "      <td>384.0</td>\n",
       "      <td>1993.0</td>\n",
       "      <td>ballantine books</td>\n",
       "      <td>fiction</td>\n",
       "      <td>1</td>\n",
       "      <td>comic and tragic  unique and outlandish  crazy...</td>\n",
       "    </tr>\n",
       "  </tbody>\n",
       "</table>\n",
       "</div>"
      ],
      "text/plain": [
       "           id            series  rating_count  review_count  number_of_pages  \\\n",
       "32756   77427  aubrey   maturin         15128           640            379.0   \n",
       "17106  550821              none          5175           291            384.0   \n",
       "\n",
       "       year_published         publisher                          genre  \\\n",
       "32756          1973.0       w w  norton  historical historical fiction   \n",
       "17106          1993.0  ballantine books                        fiction   \n",
       "\n",
       "       awards                                        description  \n",
       "32756       0  amid sights and smells of the indian subcontin...  \n",
       "17106       1  comic and tragic  unique and outlandish  crazy...  "
      ]
     },
     "execution_count": 99,
     "metadata": {},
     "output_type": "execute_result"
    }
   ],
   "source": [
    "X_train.head(2)"
   ]
  },
  {
   "cell_type": "code",
   "execution_count": 100,
   "metadata": {},
   "outputs": [
    {
     "data": {
      "text/plain": [
       "10440"
      ]
     },
     "execution_count": 100,
     "metadata": {},
     "output_type": "execute_result"
    }
   ],
   "source": [
    "len(X_test)"
   ]
  },
  {
   "cell_type": "code",
   "execution_count": 101,
   "metadata": {},
   "outputs": [],
   "source": [
    "#print out cleaned train dataset\n",
    "X_train.to_csv(\"data/X_train_clean.csv\")"
   ]
  },
  {
   "cell_type": "code",
   "execution_count": 102,
   "metadata": {},
   "outputs": [],
   "source": [
    "# testing dataset cleaned\n",
    "X_test.to_csv(\"data/X_test_clean.csv\")"
   ]
  },
  {
   "cell_type": "markdown",
   "metadata": {},
   "source": [
    "# Task 1.2: Data Exploration"
   ]
  },
  {
   "cell_type": "markdown",
   "metadata": {},
   "source": [
    "I am going to emphasize on **average_rating** scrapped to Y as target feature for the models. Thererfore, I am going to visualize it by 3 plot charts. "
   ]
  },
  {
   "cell_type": "code",
   "execution_count": 103,
   "metadata": {},
   "outputs": [
    {
     "data": {
      "image/png": "[encoded data removed]",
      "text/plain": [
       "<Figure size 864x576 with 3 Axes>"
      ]
     },
     "metadata": {},
     "output_type": "display_data"
    }
   ],
   "source": [
    "def plotting_3_chart(df, feature):\n",
    "    ## Creating a customized chart. and giving in figsize and everything. \n",
    "    fig = plt.figure(constrained_layout=True, figsize=(12,8))\n",
    "    ## creating a grid of 3 cols and 3 rows. \n",
    "    grid = gridspec.GridSpec(ncols=3, nrows=3, figure=fig)\n",
    "    #gs = fig3.add_gridspec(3, 3)\n",
    "\n",
    "    ## Customizing the histogram grid. \n",
    "    ax1 = fig.add_subplot(grid[0, :2])\n",
    "    ## Set the title. \n",
    "    ax1.set_title('Average Rating Histogram')\n",
    "    ## plot the histogram. \n",
    "    sns.distplot(df.loc[:,feature], norm_hist=True, ax = ax1)\n",
    "\n",
    "    # customizing the QQ_plot. \n",
    "    ax2 = fig.add_subplot(grid[1, :2])\n",
    "    ## Set the title. \n",
    "    ax2.set_title('QQ_plot')\n",
    "    ## Plotting the QQ_Plot. \n",
    "    stats.probplot(df.loc[:,feature], plot = ax2)\n",
    "\n",
    "    ## Customizing the Box Plot. \n",
    "    ax3 = fig.add_subplot(grid[:, 2])\n",
    "    ## Set title. \n",
    "    ax3.set_title('Box Plot')\n",
    "    ## Plotting the box plot. \n",
    "    sns.boxplot(df.loc[:,feature], orient='v', ax = ax3 );\n",
    "    \n",
    "    \n",
    "    \n",
    "plotting_3_chart(y_target,'average_rating')"
   ]
  },
  {
   "cell_type": "markdown",
   "metadata": {},
   "source": [
    "From these 3 charts, it can be observed several things about target variable 'average_rating' \n",
    " - The target variable **average_rating** is noramlly distributed.\n",
    " - Eventually, the target variable has some outliers."
   ]
  },
  {
   "cell_type": "code",
   "execution_count": 104,
   "metadata": {},
   "outputs": [
    {
     "name": "stdout",
     "output_type": "stream",
     "text": [
      "Avg Rating Skewness: -1.836198722141747\n"
     ]
    }
   ],
   "source": [
    "#skewness\n",
    "print(\"Avg Rating Skewness: \" + str(y_train['average_rating'].skew()))"
   ]
  },
  {
   "cell_type": "markdown",
   "metadata": {},
   "source": [
    "## Visualizing numerical data"
   ]
  },
  {
   "cell_type": "markdown",
   "metadata": {},
   "source": [
    "This part will only display data visualization in training dataset."
   ]
  },
  {
   "cell_type": "markdown",
   "metadata": {},
   "source": [
    "#### Histogram function"
   ]
  },
  {
   "cell_type": "code",
   "execution_count": 105,
   "metadata": {},
   "outputs": [],
   "source": [
    "def histogram(df, feature):\n",
    "    \n",
    "     ## Creating a customized chart. and giving in figsize and everything. \n",
    "    fig = plt.figure(constrained_layout=True, figsize=(20,12))\n",
    "    ## creating a grid of 3 cols and 3 rows. \n",
    "    grid = gridspec.GridSpec(ncols=3, nrows=3, figure=fig)\n",
    "    #gs = fig3.add_gridspec(3, 3)\n",
    "    ## Customizing the histogram grid. \n",
    "    ax1 = fig.add_subplot(grid[0, :2])\n",
    "    ## Set the title. \n",
    "    ax1.set_title(str(feature)+' Histogram ')\n",
    "    ax1.legend(facecolor='white', fontsize=11)\n",
    "    ## plot the histogram. \n",
    "    sns.distplot(df.loc[:,feature], norm_hist=True, ax = ax1)"
   ]
  },
  {
   "cell_type": "markdown",
   "metadata": {},
   "source": [
    "#### Scatterplot function"
   ]
  },
  {
   "cell_type": "code",
   "execution_count": 106,
   "metadata": {},
   "outputs": [],
   "source": [
    "def customized_scatterplot(y, x):\n",
    "        ## Sizing the plot. \n",
    "    style.use('fivethirtyeight')\n",
    "    plt.subplots(figsize = (12,8))\n",
    "    plt.legend(facecolor='white', fontsize=11)\n",
    "    ## Plotting target variable with predictor variable(OverallQual)\n",
    "    sns.scatterplot(y = y, x = x);"
   ]
  },
  {
   "cell_type": "markdown",
   "metadata": {},
   "source": [
    "## Review Count"
   ]
  },
  {
   "cell_type": "code",
   "execution_count": 107,
   "metadata": {},
   "outputs": [
    {
     "name": "stderr",
     "output_type": "stream",
     "text": [
      "No handles with labels found to put in legend.\n"
     ]
    },
    {
     "data": {
      "image/png": "[encoded data removed]",
      "text/plain": [
       "<Figure size 1440x864 with 1 Axes>"
      ]
     },
     "metadata": {},
     "output_type": "display_data"
    }
   ],
   "source": [
    "histogram(X_train, 'review_count')"
   ]
  },
  {
   "cell_type": "code",
   "execution_count": 108,
   "metadata": {},
   "outputs": [
    {
     "name": "stdout",
     "output_type": "stream",
     "text": [
      "Review Count Skewness: 13.42431792970402\n"
     ]
    }
   ],
   "source": [
    "print(\"Review Count Skewness: \" + str(X_train['review_count'].skew()))"
   ]
  },
  {
   "cell_type": "markdown",
   "metadata": {},
   "source": [
    "## Rating Count"
   ]
  },
  {
   "cell_type": "code",
   "execution_count": 109,
   "metadata": {},
   "outputs": [
    {
     "name": "stderr",
     "output_type": "stream",
     "text": [
      "No handles with labels found to put in legend.\n"
     ]
    },
    {
     "data": {
      "image/png": "[encoded data removed]",
      "text/plain": [
       "<Figure size 1440x864 with 1 Axes>"
      ]
     },
     "metadata": {},
     "output_type": "display_data"
    }
   ],
   "source": [
    "histogram(X_train, 'rating_count')"
   ]
  },
  {
   "cell_type": "code",
   "execution_count": 110,
   "metadata": {},
   "outputs": [
    {
     "name": "stdout",
     "output_type": "stream",
     "text": [
      "Rating Count Skewness: 26.003731676838736\n"
     ]
    }
   ],
   "source": [
    "print(\"Rating Count Skewness: \" + str(X_train['rating_count'].skew()))"
   ]
  },
  {
   "cell_type": "markdown",
   "metadata": {},
   "source": [
    "## Number of pages Count"
   ]
  },
  {
   "cell_type": "code",
   "execution_count": 111,
   "metadata": {},
   "outputs": [
    {
     "name": "stderr",
     "output_type": "stream",
     "text": [
      "No handles with labels found to put in legend.\n"
     ]
    },
    {
     "data": {
      "image/png": "[encoded data removed]",
      "text/plain": [
       "<Figure size 1440x864 with 1 Axes>"
      ]
     },
     "metadata": {},
     "output_type": "display_data"
    }
   ],
   "source": [
    "histogram(X_train, 'number_of_pages')"
   ]
  },
  {
   "cell_type": "code",
   "execution_count": 112,
   "metadata": {},
   "outputs": [
    {
     "name": "stdout",
     "output_type": "stream",
     "text": [
      "Book Pages Skewness: 11.708073131496688\n"
     ]
    }
   ],
   "source": [
    "print(\"Book Pages Skewness: \" + str(X_train['number_of_pages'].skew()))"
   ]
  },
  {
   "cell_type": "markdown",
   "metadata": {},
   "source": [
    "### Observation"
   ]
  },
  {
   "cell_type": "markdown",
   "metadata": {},
   "source": [
    "I used histogram to check numerical data's distribution in training dataset. "
   ]
  },
  {
   "cell_type": "markdown",
   "metadata": {},
   "source": [
    "It can be observed that numerical data has quite positive skewess. This will affect on the efficience of linear regression. "
   ]
  },
  {
   "cell_type": "markdown",
   "metadata": {},
   "source": [
    "## Avg Rating vs Page Num"
   ]
  },
  {
   "cell_type": "code",
   "execution_count": 113,
   "metadata": {},
   "outputs": [
    {
     "name": "stderr",
     "output_type": "stream",
     "text": [
      "No handles with labels found to put in legend.\n"
     ]
    },
    {
     "data": {
      "image/png": "[encoded data removed]",
      "text/plain": [
       "<Figure size 864x576 with 1 Axes>"
      ]
     },
     "metadata": {},
     "output_type": "display_data"
    }
   ],
   "source": [
    "customized_scatterplot(y_train.average_rating, X_train.number_of_pages)"
   ]
  },
  {
   "cell_type": "markdown",
   "metadata": {},
   "source": [
    "## Avg Rating vs Rating Count  "
   ]
  },
  {
   "cell_type": "code",
   "execution_count": 114,
   "metadata": {},
   "outputs": [
    {
     "name": "stderr",
     "output_type": "stream",
     "text": [
      "No handles with labels found to put in legend.\n"
     ]
    },
    {
     "data": {
      "image/png": "[encoded data removed]",
      "text/plain": [
       "<Figure size 864x576 with 1 Axes>"
      ]
     },
     "metadata": {},
     "output_type": "display_data"
    }
   ],
   "source": [
    "customized_scatterplot(y_train.average_rating, X_train.rating_count)"
   ]
  },
  {
   "cell_type": "markdown",
   "metadata": {},
   "source": [
    "## Avg Rating vs Awards "
   ]
  },
  {
   "cell_type": "code",
   "execution_count": 115,
   "metadata": {},
   "outputs": [
    {
     "name": "stderr",
     "output_type": "stream",
     "text": [
      "No handles with labels found to put in legend.\n"
     ]
    },
    {
     "data": {
      "image/png": "[encoded data removed]",
      "text/plain": [
       "<Figure size 864x576 with 1 Axes>"
      ]
     },
     "metadata": {},
     "output_type": "display_data"
    }
   ],
   "source": [
    "customized_scatterplot(y_train.average_rating, X_train.awards)"
   ]
  },
  {
   "cell_type": "markdown",
   "metadata": {},
   "source": [
    "## Avg Rating vs Year Published "
   ]
  },
  {
   "cell_type": "code",
   "execution_count": 116,
   "metadata": {},
   "outputs": [
    {
     "name": "stderr",
     "output_type": "stream",
     "text": [
      "No handles with labels found to put in legend.\n"
     ]
    },
    {
     "data": {
      "image/png": "[encoded data removed]",
      "text/plain": [
       "<Figure size 864x576 with 1 Axes>"
      ]
     },
     "metadata": {},
     "output_type": "display_data"
    }
   ],
   "source": [
    "customized_scatterplot(y_train.average_rating, X_train.year_published) "
   ]
  },
  {
   "cell_type": "markdown",
   "metadata": {},
   "source": [
    "Average_rating is more gathered in modern period of years (2000s). \n",
    "\n",
    "Some outliers are seen in 0 and 1 rating scores. "
   ]
  },
  {
   "cell_type": "code",
   "execution_count": 117,
   "metadata": {},
   "outputs": [
    {
     "name": "stderr",
     "output_type": "stream",
     "text": [
      "No handles with labels found to put in legend.\n"
     ]
    },
    {
     "data": {
      "image/png": "[encoded data removed]",
      "text/plain": [
       "<Figure size 864x576 with 1 Axes>"
      ]
     },
     "metadata": {},
     "output_type": "display_data"
    }
   ],
   "source": [
    "customized_scatterplot(y_train.average_rating, X_train.review_count) "
   ]
  },
  {
   "cell_type": "markdown",
   "metadata": {},
   "source": [
    "\n",
    "\n",
    "\n",
    "\n",
    "Eventhough scatterplot is not the most suitable one to visualize categorical data, I use scatterplot graph to demonstrate apparent relationship between the target variable and other features, \n",
    "\n",
    "## Observations: \n",
    "\n",
    "- There are many outliers in two above scatterplots due to the skewness of numerical data\n",
    "\n",
    "- These graphs seem not follow any trends. I need to handle these skewness in dataset."
   ]
  },
  {
   "cell_type": "markdown",
   "metadata": {},
   "source": [
    "# Task 2: Feature Engineering "
   ]
  },
  {
   "cell_type": "markdown",
   "metadata": {},
   "source": [
    "# Fixing skewness "
   ]
  },
  {
   "cell_type": "code",
   "execution_count": 118,
   "metadata": {},
   "outputs": [],
   "source": [
    "from scipy.stats import skew"
   ]
  },
  {
   "cell_type": "code",
   "execution_count": 119,
   "metadata": {},
   "outputs": [
    {
     "data": {
      "text/plain": [
       "rating_count       24.695496\n",
       "review_count       14.331460\n",
       "number_of_pages    11.259385\n",
       "awards              6.497303\n",
       "id                  1.202380\n",
       "year_published     -6.741225\n",
       "dtype: float64"
      ]
     },
     "execution_count": 119,
     "metadata": {},
     "output_type": "execute_result"
    }
   ],
   "source": [
    "# finding skewness features in all_data to engineering\n",
    "numeric_feats = all_data.dtypes[all_data.dtypes != \"object\"].index\n",
    "\n",
    "skewed_feats = all_data[numeric_feats].apply(lambda x: skew(x)).sort_values(ascending=False)\n",
    "\n",
    "skewed_feats"
   ]
  },
  {
   "cell_type": "markdown",
   "metadata": {},
   "source": [
    "Due to 'award' and 'year_published' are cleaned and formated in previous part. Thus, I keep their original data."
   ]
  },
  {
   "cell_type": "code",
   "execution_count": 120,
   "metadata": {},
   "outputs": [],
   "source": [
    "skewed_feats = all_data[['review_count','rating_count','number_of_pages']]"
   ]
  },
  {
   "cell_type": "code",
   "execution_count": 121,
   "metadata": {},
   "outputs": [],
   "source": [
    "## FiX_training Skewed features using boxcox transformation. \n",
    "def fixing_skewness(df):\n",
    "    \"\"\"\n",
    "    This function takes in a dataframe and return fixed skewed dataframe\n",
    "    \"\"\"\n",
    "    ## Import necessary modules \n",
    "    from scipy.stats import skew\n",
    "    from scipy.special import boxcox1p\n",
    "    from scipy.stats import boxcox_normmax\n",
    "    \n",
    "    ## Getting all the data that are not of \"object\" type. \n",
    "    numeric_feats = df.dtypes[df.dtypes != \"object\"].index\n",
    "\n",
    "    # Check the skew of all numerical features\n",
    "    skewed_feats = df[numeric_feats].apply(lambda x: skew(x)).sort_values(ascending=False)\n",
    "    high_skew = skewed_feats[abs(skewed_feats) > 0.5]\n",
    "    skewed_features = high_skew.index\n",
    "\n",
    "    for feat in skewed_features:\n",
    "        df[feat] = boxcox1p(df[feat], boxcox_normmax(df[feat] + 1))\n",
    "\n",
    "\n",
    "fixing_skewness(skewed_feats)"
   ]
  },
  {
   "cell_type": "code",
   "execution_count": 122,
   "metadata": {},
   "outputs": [
    {
     "name": "stderr",
     "output_type": "stream",
     "text": [
      "No handles with labels found to put in legend.\n"
     ]
    },
    {
     "data": {
      "image/png": "[encoded data removed]",
      "text/plain": [
       "<Figure size 1440x864 with 1 Axes>"
      ]
     },
     "metadata": {},
     "output_type": "display_data"
    }
   ],
   "source": [
    "histogram(skewed_feats, 'review_count')"
   ]
  },
  {
   "cell_type": "code",
   "execution_count": 123,
   "metadata": {},
   "outputs": [
    {
     "name": "stdout",
     "output_type": "stream",
     "text": [
      "Review Count Skewness: 0.03592706226060209\n"
     ]
    }
   ],
   "source": [
    "print(\"Review Count Skewness: \" + str(skewed_feats['review_count'].skew()))"
   ]
  },
  {
   "cell_type": "code",
   "execution_count": 124,
   "metadata": {},
   "outputs": [
    {
     "name": "stderr",
     "output_type": "stream",
     "text": [
      "No handles with labels found to put in legend.\n"
     ]
    },
    {
     "data": {
      "image/png": "[encoded data removed]",
      "text/plain": [
       "<Figure size 1440x864 with 1 Axes>"
      ]
     },
     "metadata": {},
     "output_type": "display_data"
    }
   ],
   "source": [
    "histogram(skewed_feats, 'rating_count')"
   ]
  },
  {
   "cell_type": "code",
   "execution_count": 125,
   "metadata": {},
   "outputs": [
    {
     "name": "stdout",
     "output_type": "stream",
     "text": [
      "Rating Count Skewness: 0.019995804938089473\n"
     ]
    }
   ],
   "source": [
    "print(\"Rating Count Skewness: \" + str(skewed_feats['rating_count'].skew()))"
   ]
  },
  {
   "cell_type": "code",
   "execution_count": 126,
   "metadata": {},
   "outputs": [
    {
     "name": "stderr",
     "output_type": "stream",
     "text": [
      "No handles with labels found to put in legend.\n"
     ]
    },
    {
     "data": {
      "image/png": "[encoded data removed]",
      "text/plain": [
       "<Figure size 1440x864 with 1 Axes>"
      ]
     },
     "metadata": {},
     "output_type": "display_data"
    }
   ],
   "source": [
    "histogram(skewed_feats, 'number_of_pages')"
   ]
  },
  {
   "cell_type": "code",
   "execution_count": 127,
   "metadata": {},
   "outputs": [
    {
     "name": "stdout",
     "output_type": "stream",
     "text": [
      "Page Number Skewness: 0.2941106378534157\n"
     ]
    }
   ],
   "source": [
    "print(\"Page Number Skewness: \" + str(skewed_feats['number_of_pages'].skew()))"
   ]
  },
  {
   "cell_type": "code",
   "execution_count": 128,
   "metadata": {},
   "outputs": [
    {
     "data": {
      "text/plain": [
       "52199"
      ]
     },
     "execution_count": 128,
     "metadata": {},
     "output_type": "execute_result"
    }
   ],
   "source": [
    "len(skewed_feats)"
   ]
  },
  {
   "cell_type": "markdown",
   "metadata": {},
   "source": [
    "Now skewed features are more normally distributed and can be used for the models."
   ]
  },
  {
   "cell_type": "markdown",
   "metadata": {},
   "source": [
    "## Deleting features"
   ]
  },
  {
   "cell_type": "markdown",
   "metadata": {},
   "source": [
    "#### Drop skewed features "
   ]
  },
  {
   "cell_type": "code",
   "execution_count": 129,
   "metadata": {},
   "outputs": [],
   "source": [
    "all_data.drop(columns=['rating_count','review_count', \"number_of_pages\"],axis=1,inplace=True)"
   ]
  },
  {
   "cell_type": "code",
   "execution_count": 130,
   "metadata": {},
   "outputs": [
    {
     "data": {
      "text/html": [
       "<div>\n",
       "<style scoped>\n",
       "    .dataframe tbody tr th:only-of-type {\n",
       "        vertical-align: middle;\n",
       "    }\n",
       "\n",
       "    .dataframe tbody tr th {\n",
       "        vertical-align: top;\n",
       "    }\n",
       "\n",
       "    .dataframe thead th {\n",
       "        text-align: right;\n",
       "    }\n",
       "</style>\n",
       "<table border=\"1\" class=\"dataframe\">\n",
       "  <thead>\n",
       "    <tr style=\"text-align: right;\">\n",
       "      <th></th>\n",
       "      <th>id</th>\n",
       "      <th>series</th>\n",
       "      <th>year_published</th>\n",
       "      <th>publisher</th>\n",
       "      <th>genre</th>\n",
       "      <th>awards</th>\n",
       "      <th>description</th>\n",
       "    </tr>\n",
       "  </thead>\n",
       "  <tbody>\n",
       "    <tr>\n",
       "      <th>0</th>\n",
       "      <td>2533958</td>\n",
       "      <td>none</td>\n",
       "      <td>1975.0</td>\n",
       "      <td>macmillan</td>\n",
       "      <td>history</td>\n",
       "      <td>0</td>\n",
       "      <td>including hilarious tales of the people he enc...</td>\n",
       "    </tr>\n",
       "    <tr>\n",
       "      <th>1</th>\n",
       "      <td>16071790</td>\n",
       "      <td>none</td>\n",
       "      <td>2013.0</td>\n",
       "      <td>doubleday canada</td>\n",
       "      <td>mystery</td>\n",
       "      <td>0</td>\n",
       "      <td>a searing and sinister thriller for readers wh...</td>\n",
       "    </tr>\n",
       "  </tbody>\n",
       "</table>\n",
       "</div>"
      ],
      "text/plain": [
       "         id series  year_published         publisher    genre  awards  \\\n",
       "0   2533958   none          1975.0         macmillan  history       0   \n",
       "1  16071790   none          2013.0  doubleday canada  mystery       0   \n",
       "\n",
       "                                         description  \n",
       "0  including hilarious tales of the people he enc...  \n",
       "1  a searing and sinister thriller for readers wh...  "
      ]
     },
     "execution_count": 130,
     "metadata": {},
     "output_type": "execute_result"
    }
   ],
   "source": [
    "all_data.head(2)"
   ]
  },
  {
   "cell_type": "code",
   "execution_count": 131,
   "metadata": {},
   "outputs": [],
   "source": [
    "# join fixed skewed data\n",
    "all_data = all_data.join(skewed_feats)"
   ]
  },
  {
   "cell_type": "code",
   "execution_count": 132,
   "metadata": {},
   "outputs": [
    {
     "data": {
      "text/html": [
       "<div>\n",
       "<style scoped>\n",
       "    .dataframe tbody tr th:only-of-type {\n",
       "        vertical-align: middle;\n",
       "    }\n",
       "\n",
       "    .dataframe tbody tr th {\n",
       "        vertical-align: top;\n",
       "    }\n",
       "\n",
       "    .dataframe thead th {\n",
       "        text-align: right;\n",
       "    }\n",
       "</style>\n",
       "<table border=\"1\" class=\"dataframe\">\n",
       "  <thead>\n",
       "    <tr style=\"text-align: right;\">\n",
       "      <th></th>\n",
       "      <th>id</th>\n",
       "      <th>series</th>\n",
       "      <th>year_published</th>\n",
       "      <th>publisher</th>\n",
       "      <th>genre</th>\n",
       "      <th>awards</th>\n",
       "      <th>description</th>\n",
       "      <th>review_count</th>\n",
       "      <th>rating_count</th>\n",
       "      <th>number_of_pages</th>\n",
       "    </tr>\n",
       "  </thead>\n",
       "  <tbody>\n",
       "    <tr>\n",
       "      <th>0</th>\n",
       "      <td>2533958</td>\n",
       "      <td>none</td>\n",
       "      <td>1975.0</td>\n",
       "      <td>macmillan</td>\n",
       "      <td>history</td>\n",
       "      <td>0</td>\n",
       "      <td>including hilarious tales of the people he enc...</td>\n",
       "      <td>4.322761</td>\n",
       "      <td>7.873879</td>\n",
       "      <td>33.090681</td>\n",
       "    </tr>\n",
       "    <tr>\n",
       "      <th>1</th>\n",
       "      <td>16071790</td>\n",
       "      <td>none</td>\n",
       "      <td>2013.0</td>\n",
       "      <td>doubleday canada</td>\n",
       "      <td>mystery</td>\n",
       "      <td>0</td>\n",
       "      <td>a searing and sinister thriller for readers wh...</td>\n",
       "      <td>8.387966</td>\n",
       "      <td>12.991985</td>\n",
       "      <td>32.167972</td>\n",
       "    </tr>\n",
       "  </tbody>\n",
       "</table>\n",
       "</div>"
      ],
      "text/plain": [
       "         id series  year_published         publisher    genre  awards  \\\n",
       "0   2533958   none          1975.0         macmillan  history       0   \n",
       "1  16071790   none          2013.0  doubleday canada  mystery       0   \n",
       "\n",
       "                                         description  review_count  \\\n",
       "0  including hilarious tales of the people he enc...      4.322761   \n",
       "1  a searing and sinister thriller for readers wh...      8.387966   \n",
       "\n",
       "   rating_count  number_of_pages  \n",
       "0      7.873879        33.090681  \n",
       "1     12.991985        32.167972  "
      ]
     },
     "execution_count": 132,
     "metadata": {},
     "output_type": "execute_result"
    }
   ],
   "source": [
    "# dataset with fixed skewness\n",
    "all_data.head(2)"
   ]
  },
  {
   "cell_type": "markdown",
   "metadata": {},
   "source": [
    "Because of non-numerical features, I need to fit label encoding on train and test data seperatly. "
   ]
  },
  {
   "cell_type": "code",
   "execution_count": 133,
   "metadata": {},
   "outputs": [],
   "source": [
    "# Resplit all_data with skewd X_train\n",
    "from sklearn.model_selection import train_test_split\n",
    "\n",
    "X_train, X_test = train_test_split(all_data, test_size = 0.2, random_state = 0)"
   ]
  },
  {
   "cell_type": "code",
   "execution_count": 134,
   "metadata": {},
   "outputs": [
    {
     "data": {
      "text/plain": [
       "41759"
      ]
     },
     "execution_count": 134,
     "metadata": {},
     "output_type": "execute_result"
    }
   ],
   "source": [
    "len(X_train)"
   ]
  },
  {
   "cell_type": "code",
   "execution_count": 135,
   "metadata": {},
   "outputs": [
    {
     "data": {
      "text/plain": [
       "10440"
      ]
     },
     "execution_count": 135,
     "metadata": {},
     "output_type": "execute_result"
    }
   ],
   "source": [
    "len(X_test)"
   ]
  },
  {
   "cell_type": "markdown",
   "metadata": {},
   "source": [
    "# Label Encoding for non-numerical data"
   ]
  },
  {
   "cell_type": "code",
   "execution_count": 136,
   "metadata": {},
   "outputs": [],
   "source": [
    "# Encoding non-numerical columns using LabalEncoder\n",
    "from sklearn.preprocessing import LabelEncoder\n",
    "\n",
    "# initializing labelencoder\n",
    "le = LabelEncoder()"
   ]
  },
  {
   "cell_type": "markdown",
   "metadata": {},
   "source": [
    "## Series feature"
   ]
  },
  {
   "cell_type": "code",
   "execution_count": 137,
   "metadata": {},
   "outputs": [],
   "source": [
    "# encode 'series' feature in train set\n",
    "X_train['series_encoded'] = le.fit_transform(X_train['series'])\n",
    "\n",
    "# for any unseen label in train dataset\n",
    "# map them to 'none'\n",
    "X_test['series'] = X_test['series'].map(lambda s: 'none' if s not in le.classes_ else s)\n",
    "le.classes_ = np.append(le.classes_, 'none>')\n",
    "\n",
    "# encode 'series' feature in testing dataset\n",
    "# only call transform for the test\n",
    "X_test['series_encoded'] = le.transform(X_test['series'])"
   ]
  },
  {
   "cell_type": "markdown",
   "metadata": {},
   "source": [
    "## Publisher feature"
   ]
  },
  {
   "cell_type": "code",
   "execution_count": 138,
   "metadata": {},
   "outputs": [],
   "source": [
    "X_train['publisher_encoded'] = le.fit_transform(X_train['publisher'])\n",
    "\n",
    "#mapping unseen label to 'none'\n",
    "X_test['publisher'] = X_test['publisher'].map(lambda s: 'none' if s not in le.classes_ else s)\n",
    "le.classes_ = np.append(le.classes_, 'none')\n",
    "\n",
    "X_test['publisher_encoded'] = le.transform(X_test['publisher'])"
   ]
  },
  {
   "cell_type": "markdown",
   "metadata": {},
   "source": [
    "## Genre feature"
   ]
  },
  {
   "cell_type": "code",
   "execution_count": 139,
   "metadata": {},
   "outputs": [],
   "source": [
    "X_train['genre_encoded'] = le.fit_transform(X_train['genre'])\n",
    "\n",
    "#mapping unseen label to 'none'\n",
    "X_test['genre'] = X_test['genre'].map(lambda s: 'none' if s not in le.classes_ else s)\n",
    "le.classes_ = np.append(le.classes_, 'none')\n",
    "\n",
    "X_test['genre_encoded'] = le.transform(X_test['genre'])"
   ]
  },
  {
   "cell_type": "code",
   "execution_count": 140,
   "metadata": {},
   "outputs": [
    {
     "data": {
      "text/html": [
       "<div>\n",
       "<style scoped>\n",
       "    .dataframe tbody tr th:only-of-type {\n",
       "        vertical-align: middle;\n",
       "    }\n",
       "\n",
       "    .dataframe tbody tr th {\n",
       "        vertical-align: top;\n",
       "    }\n",
       "\n",
       "    .dataframe thead th {\n",
       "        text-align: right;\n",
       "    }\n",
       "</style>\n",
       "<table border=\"1\" class=\"dataframe\">\n",
       "  <thead>\n",
       "    <tr style=\"text-align: right;\">\n",
       "      <th></th>\n",
       "      <th>series</th>\n",
       "      <th>series_encoded</th>\n",
       "      <th>publisher</th>\n",
       "      <th>publisher_encoded</th>\n",
       "      <th>genre</th>\n",
       "      <th>genre_encoded</th>\n",
       "    </tr>\n",
       "  </thead>\n",
       "  <tbody>\n",
       "    <tr>\n",
       "      <th>29979</th>\n",
       "      <td>none</td>\n",
       "      <td>4917</td>\n",
       "      <td>harmony</td>\n",
       "      <td>3345</td>\n",
       "      <td>nonfiction</td>\n",
       "      <td>280</td>\n",
       "    </tr>\n",
       "    <tr>\n",
       "      <th>13617</th>\n",
       "      <td>none</td>\n",
       "      <td>4917</td>\n",
       "      <td>austral</td>\n",
       "      <td>624</td>\n",
       "      <td>cultural spain</td>\n",
       "      <td>115</td>\n",
       "    </tr>\n",
       "    <tr>\n",
       "      <th>48114</th>\n",
       "      <td>seductive nights</td>\n",
       "      <td>5854</td>\n",
       "      <td>lauren blakely books</td>\n",
       "      <td>4444</td>\n",
       "      <td>romance</td>\n",
       "      <td>345</td>\n",
       "    </tr>\n",
       "    <tr>\n",
       "      <th>17401</th>\n",
       "      <td>none</td>\n",
       "      <td>4917</td>\n",
       "      <td>melville house</td>\n",
       "      <td>4998</td>\n",
       "      <td>classics</td>\n",
       "      <td>72</td>\n",
       "    </tr>\n",
       "    <tr>\n",
       "      <th>38422</th>\n",
       "      <td>de kleine odessa</td>\n",
       "      <td>1760</td>\n",
       "      <td>van goor</td>\n",
       "      <td>8020</td>\n",
       "      <td>fantasy</td>\n",
       "      <td>169</td>\n",
       "    </tr>\n",
       "    <tr>\n",
       "      <th>9742</th>\n",
       "      <td>guardians of time</td>\n",
       "      <td>2903</td>\n",
       "      <td>bloomsbury children s books</td>\n",
       "      <td>1032</td>\n",
       "      <td>fantasy</td>\n",
       "      <td>169</td>\n",
       "    </tr>\n",
       "    <tr>\n",
       "      <th>22258</th>\n",
       "      <td>none</td>\n",
       "      <td>4917</td>\n",
       "      <td>vintage</td>\n",
       "      <td>8110</td>\n",
       "      <td>fiction</td>\n",
       "      <td>182</td>\n",
       "    </tr>\n",
       "    <tr>\n",
       "      <th>20490</th>\n",
       "      <td>none</td>\n",
       "      <td>4917</td>\n",
       "      <td>david c cook</td>\n",
       "      <td>1902</td>\n",
       "      <td>christian</td>\n",
       "      <td>63</td>\n",
       "    </tr>\n",
       "    <tr>\n",
       "      <th>792</th>\n",
       "      <td>wings</td>\n",
       "      <td>8804</td>\n",
       "      <td>harperteen</td>\n",
       "      <td>3478</td>\n",
       "      <td>fantasy</td>\n",
       "      <td>169</td>\n",
       "    </tr>\n",
       "    <tr>\n",
       "      <th>51401</th>\n",
       "      <td>none</td>\n",
       "      <td>4917</td>\n",
       "      <td>simon pulse</td>\n",
       "      <td>7088</td>\n",
       "      <td>young adult</td>\n",
       "      <td>432</td>\n",
       "    </tr>\n",
       "  </tbody>\n",
       "</table>\n",
       "</div>"
      ],
      "text/plain": [
       "                  series  series_encoded                    publisher  \\\n",
       "29979               none            4917                      harmony   \n",
       "13617               none            4917                      austral   \n",
       "48114   seductive nights            5854         lauren blakely books   \n",
       "17401               none            4917               melville house   \n",
       "38422   de kleine odessa            1760                     van goor   \n",
       "9742   guardians of time            2903  bloomsbury children s books   \n",
       "22258               none            4917                      vintage   \n",
       "20490               none            4917                 david c cook   \n",
       "792                wings            8804                   harperteen   \n",
       "51401               none            4917                  simon pulse   \n",
       "\n",
       "       publisher_encoded           genre  genre_encoded  \n",
       "29979               3345      nonfiction            280  \n",
       "13617                624  cultural spain            115  \n",
       "48114               4444         romance            345  \n",
       "17401               4998        classics             72  \n",
       "38422               8020         fantasy            169  \n",
       "9742                1032         fantasy            169  \n",
       "22258               8110         fiction            182  \n",
       "20490               1902       christian             63  \n",
       "792                 3478         fantasy            169  \n",
       "51401               7088     young adult            432  "
      ]
     },
     "execution_count": 140,
     "metadata": {},
     "output_type": "execute_result"
    }
   ],
   "source": [
    "X_train[['series','series_encoded','publisher','publisher_encoded','genre','genre_encoded']].sample(10)"
   ]
  },
  {
   "cell_type": "code",
   "execution_count": 141,
   "metadata": {},
   "outputs": [
    {
     "data": {
      "text/html": [
       "<div>\n",
       "<style scoped>\n",
       "    .dataframe tbody tr th:only-of-type {\n",
       "        vertical-align: middle;\n",
       "    }\n",
       "\n",
       "    .dataframe tbody tr th {\n",
       "        vertical-align: top;\n",
       "    }\n",
       "\n",
       "    .dataframe thead th {\n",
       "        text-align: right;\n",
       "    }\n",
       "</style>\n",
       "<table border=\"1\" class=\"dataframe\">\n",
       "  <thead>\n",
       "    <tr style=\"text-align: right;\">\n",
       "      <th></th>\n",
       "      <th>series</th>\n",
       "      <th>series_encoded</th>\n",
       "      <th>publisher</th>\n",
       "      <th>publisher_encoded</th>\n",
       "      <th>genre</th>\n",
       "      <th>genre_encoded</th>\n",
       "    </tr>\n",
       "  </thead>\n",
       "  <tbody>\n",
       "    <tr>\n",
       "      <th>8397</th>\n",
       "      <td>pretty little liars</td>\n",
       "      <td>5339</td>\n",
       "      <td>harperteen</td>\n",
       "      <td>3478</td>\n",
       "      <td>mystery</td>\n",
       "      <td>267</td>\n",
       "    </tr>\n",
       "    <tr>\n",
       "      <th>32186</th>\n",
       "      <td>none</td>\n",
       "      <td>4917</td>\n",
       "      <td>st  martin s press</td>\n",
       "      <td>7279</td>\n",
       "      <td>fiction</td>\n",
       "      <td>182</td>\n",
       "    </tr>\n",
       "    <tr>\n",
       "      <th>44818</th>\n",
       "      <td>the poldark saga</td>\n",
       "      <td>7675</td>\n",
       "      <td>fontana</td>\n",
       "      <td>2830</td>\n",
       "      <td>historical historical fiction</td>\n",
       "      <td>211</td>\n",
       "    </tr>\n",
       "    <tr>\n",
       "      <th>8311</th>\n",
       "      <td>none</td>\n",
       "      <td>4917</td>\n",
       "      <td>دار الفارابي</td>\n",
       "      <td>8895</td>\n",
       "      <td>novels</td>\n",
       "      <td>284</td>\n",
       "    </tr>\n",
       "    <tr>\n",
       "      <th>11024</th>\n",
       "      <td>none</td>\n",
       "      <td>4917</td>\n",
       "      <td>macmillan</td>\n",
       "      <td>4792</td>\n",
       "      <td>short stories</td>\n",
       "      <td>388</td>\n",
       "    </tr>\n",
       "    <tr>\n",
       "      <th>558</th>\n",
       "      <td>none</td>\n",
       "      <td>4917</td>\n",
       "      <td>quinta essência</td>\n",
       "      <td>6339</td>\n",
       "      <td>none</td>\n",
       "      <td>439</td>\n",
       "    </tr>\n",
       "    <tr>\n",
       "      <th>42445</th>\n",
       "      <td>none</td>\n",
       "      <td>4917</td>\n",
       "      <td>kessinger publishing</td>\n",
       "      <td>4244</td>\n",
       "      <td>short stories</td>\n",
       "      <td>388</td>\n",
       "    </tr>\n",
       "    <tr>\n",
       "      <th>47739</th>\n",
       "      <td>none</td>\n",
       "      <td>4917</td>\n",
       "      <td>putnam juvenile</td>\n",
       "      <td>6297</td>\n",
       "      <td>young adult</td>\n",
       "      <td>432</td>\n",
       "    </tr>\n",
       "    <tr>\n",
       "      <th>39299</th>\n",
       "      <td>queen of the orcs</td>\n",
       "      <td>5411</td>\n",
       "      <td>del rey</td>\n",
       "      <td>1966</td>\n",
       "      <td>fantasy</td>\n",
       "      <td>169</td>\n",
       "    </tr>\n",
       "    <tr>\n",
       "      <th>4786</th>\n",
       "      <td>none</td>\n",
       "      <td>4917</td>\n",
       "      <td>scribner</td>\n",
       "      <td>6882</td>\n",
       "      <td>fiction</td>\n",
       "      <td>182</td>\n",
       "    </tr>\n",
       "  </tbody>\n",
       "</table>\n",
       "</div>"
      ],
      "text/plain": [
       "                    series  series_encoded             publisher  \\\n",
       "8397   pretty little liars            5339            harperteen   \n",
       "32186                 none            4917    st  martin s press   \n",
       "44818     the poldark saga            7675               fontana   \n",
       "8311                  none            4917          دار الفارابي   \n",
       "11024                 none            4917             macmillan   \n",
       "558                   none            4917       quinta essência   \n",
       "42445                 none            4917  kessinger publishing   \n",
       "47739                 none            4917       putnam juvenile   \n",
       "39299    queen of the orcs            5411               del rey   \n",
       "4786                  none            4917              scribner   \n",
       "\n",
       "       publisher_encoded                          genre  genre_encoded  \n",
       "8397                3478                        mystery            267  \n",
       "32186               7279                        fiction            182  \n",
       "44818               2830  historical historical fiction            211  \n",
       "8311                8895                         novels            284  \n",
       "11024               4792                  short stories            388  \n",
       "558                 6339                           none            439  \n",
       "42445               4244                  short stories            388  \n",
       "47739               6297                    young adult            432  \n",
       "39299               1966                        fantasy            169  \n",
       "4786                6882                        fiction            182  "
      ]
     },
     "execution_count": 141,
     "metadata": {},
     "output_type": "execute_result"
    }
   ],
   "source": [
    "X_test[['series','series_encoded','publisher','publisher_encoded','genre','genre_encoded']].sample(10)"
   ]
  },
  {
   "cell_type": "markdown",
   "metadata": {},
   "source": [
    "# Combine X_train and y"
   ]
  },
  {
   "cell_type": "code",
   "execution_count": 142,
   "metadata": {},
   "outputs": [],
   "source": [
    "df = pd.merge(X_train, y_train)"
   ]
  },
  {
   "cell_type": "code",
   "execution_count": 143,
   "metadata": {},
   "outputs": [
    {
     "data": {
      "text/plain": [
       "41759"
      ]
     },
     "execution_count": 143,
     "metadata": {},
     "output_type": "execute_result"
    }
   ],
   "source": [
    "len(y_train)"
   ]
  },
  {
   "cell_type": "code",
   "execution_count": 144,
   "metadata": {},
   "outputs": [
    {
     "data": {
      "text/plain": [
       "id                0\n",
       "average_rating    0\n",
       "dtype: int64"
      ]
     },
     "execution_count": 144,
     "metadata": {},
     "output_type": "execute_result"
    }
   ],
   "source": [
    "y_train.isna().sum()"
   ]
  },
  {
   "cell_type": "code",
   "execution_count": 145,
   "metadata": {},
   "outputs": [],
   "source": [
    "# df = df.drop_duplicates()\n",
    "# df.reset_index(inplace=True, drop=True)"
   ]
  },
  {
   "cell_type": "code",
   "execution_count": 146,
   "metadata": {},
   "outputs": [
    {
     "data": {
      "text/plain": [
       "id                   0\n",
       "series               0\n",
       "year_published       0\n",
       "publisher            0\n",
       "genre                0\n",
       "awards               0\n",
       "description          0\n",
       "review_count         0\n",
       "rating_count         0\n",
       "number_of_pages      0\n",
       "series_encoded       0\n",
       "publisher_encoded    0\n",
       "genre_encoded        0\n",
       "average_rating       0\n",
       "dtype: int64"
      ]
     },
     "execution_count": 146,
     "metadata": {},
     "output_type": "execute_result"
    }
   ],
   "source": [
    "df.isna().sum()"
   ]
  },
  {
   "cell_type": "code",
   "execution_count": 147,
   "metadata": {},
   "outputs": [],
   "source": [
    "df.drop(columns=['id'],axis=1,inplace=True)"
   ]
  },
  {
   "cell_type": "code",
   "execution_count": 148,
   "metadata": {},
   "outputs": [
    {
     "data": {
      "text/html": [
       "<style  type=\"text/css\" >\n",
       "    #T_89432ed2_503c_11eb_880a_00155deb80cdrow0_col0 {\n",
       "            background-color:  #00441b;\n",
       "            color:  #f1f1f1;\n",
       "        }    #T_89432ed2_503c_11eb_880a_00155deb80cdrow0_col1 {\n",
       "            background-color:  #edf8ea;\n",
       "            color:  #000000;\n",
       "        }    #T_89432ed2_503c_11eb_880a_00155deb80cdrow0_col2 {\n",
       "            background-color:  #cfecc9;\n",
       "            color:  #000000;\n",
       "        }    #T_89432ed2_503c_11eb_880a_00155deb80cdrow0_col3 {\n",
       "            background-color:  #dbf1d5;\n",
       "            color:  #000000;\n",
       "        }    #T_89432ed2_503c_11eb_880a_00155deb80cdrow0_col4 {\n",
       "            background-color:  #c7e9c0;\n",
       "            color:  #000000;\n",
       "        }    #T_89432ed2_503c_11eb_880a_00155deb80cdrow0_col5 {\n",
       "            background-color:  #f5fbf3;\n",
       "            color:  #000000;\n",
       "        }    #T_89432ed2_503c_11eb_880a_00155deb80cdrow0_col6 {\n",
       "            background-color:  #f7fcf5;\n",
       "            color:  #000000;\n",
       "        }    #T_89432ed2_503c_11eb_880a_00155deb80cdrow0_col7 {\n",
       "            background-color:  #f2faf0;\n",
       "            color:  #000000;\n",
       "        }    #T_89432ed2_503c_11eb_880a_00155deb80cdrow0_col8 {\n",
       "            background-color:  #ecf8e8;\n",
       "            color:  #000000;\n",
       "        }    #T_89432ed2_503c_11eb_880a_00155deb80cdrow1_col0 {\n",
       "            background-color:  #e9f7e5;\n",
       "            color:  #000000;\n",
       "        }    #T_89432ed2_503c_11eb_880a_00155deb80cdrow1_col1 {\n",
       "            background-color:  #00441b;\n",
       "            color:  #f1f1f1;\n",
       "        }    #T_89432ed2_503c_11eb_880a_00155deb80cdrow1_col2 {\n",
       "            background-color:  #8bcf89;\n",
       "            color:  #000000;\n",
       "        }    #T_89432ed2_503c_11eb_880a_00155deb80cdrow1_col3 {\n",
       "            background-color:  #9fd899;\n",
       "            color:  #000000;\n",
       "        }    #T_89432ed2_503c_11eb_880a_00155deb80cdrow1_col4 {\n",
       "            background-color:  #e8f6e3;\n",
       "            color:  #000000;\n",
       "        }    #T_89432ed2_503c_11eb_880a_00155deb80cdrow1_col5 {\n",
       "            background-color:  #f3faf0;\n",
       "            color:  #000000;\n",
       "        }    #T_89432ed2_503c_11eb_880a_00155deb80cdrow1_col6 {\n",
       "            background-color:  #f1faee;\n",
       "            color:  #000000;\n",
       "        }    #T_89432ed2_503c_11eb_880a_00155deb80cdrow1_col7 {\n",
       "            background-color:  #f4fbf2;\n",
       "            color:  #000000;\n",
       "        }    #T_89432ed2_503c_11eb_880a_00155deb80cdrow1_col8 {\n",
       "            background-color:  #ecf8e8;\n",
       "            color:  #000000;\n",
       "        }    #T_89432ed2_503c_11eb_880a_00155deb80cdrow2_col0 {\n",
       "            background-color:  #d9f0d3;\n",
       "            color:  #000000;\n",
       "        }    #T_89432ed2_503c_11eb_880a_00155deb80cdrow2_col1 {\n",
       "            background-color:  #9ed798;\n",
       "            color:  #000000;\n",
       "        }    #T_89432ed2_503c_11eb_880a_00155deb80cdrow2_col2 {\n",
       "            background-color:  #00441b;\n",
       "            color:  #f1f1f1;\n",
       "        }    #T_89432ed2_503c_11eb_880a_00155deb80cdrow2_col3 {\n",
       "            background-color:  #005321;\n",
       "            color:  #f1f1f1;\n",
       "        }    #T_89432ed2_503c_11eb_880a_00155deb80cdrow2_col4 {\n",
       "            background-color:  #c0e6b9;\n",
       "            color:  #000000;\n",
       "        }    #T_89432ed2_503c_11eb_880a_00155deb80cdrow2_col5 {\n",
       "            background-color:  #f7fcf5;\n",
       "            color:  #000000;\n",
       "        }    #T_89432ed2_503c_11eb_880a_00155deb80cdrow2_col6 {\n",
       "            background-color:  #f4fbf1;\n",
       "            color:  #000000;\n",
       "        }    #T_89432ed2_503c_11eb_880a_00155deb80cdrow2_col7 {\n",
       "            background-color:  #f1faee;\n",
       "            color:  #000000;\n",
       "        }    #T_89432ed2_503c_11eb_880a_00155deb80cdrow2_col8 {\n",
       "            background-color:  #f7fcf5;\n",
       "            color:  #000000;\n",
       "        }    #T_89432ed2_503c_11eb_880a_00155deb80cdrow3_col0 {\n",
       "            background-color:  #ddf2d8;\n",
       "            color:  #000000;\n",
       "        }    #T_89432ed2_503c_11eb_880a_00155deb80cdrow3_col1 {\n",
       "            background-color:  #a9dca3;\n",
       "            color:  #000000;\n",
       "        }    #T_89432ed2_503c_11eb_880a_00155deb80cdrow3_col2 {\n",
       "            background-color:  #005221;\n",
       "            color:  #f1f1f1;\n",
       "        }    #T_89432ed2_503c_11eb_880a_00155deb80cdrow3_col3 {\n",
       "            background-color:  #00441b;\n",
       "            color:  #f1f1f1;\n",
       "        }    #T_89432ed2_503c_11eb_880a_00155deb80cdrow3_col4 {\n",
       "            background-color:  #bce4b5;\n",
       "            color:  #000000;\n",
       "        }    #T_89432ed2_503c_11eb_880a_00155deb80cdrow3_col5 {\n",
       "            background-color:  #f7fcf5;\n",
       "            color:  #000000;\n",
       "        }    #T_89432ed2_503c_11eb_880a_00155deb80cdrow3_col6 {\n",
       "            background-color:  #f3faf0;\n",
       "            color:  #000000;\n",
       "        }    #T_89432ed2_503c_11eb_880a_00155deb80cdrow3_col7 {\n",
       "            background-color:  #f5fbf2;\n",
       "            color:  #000000;\n",
       "        }    #T_89432ed2_503c_11eb_880a_00155deb80cdrow3_col8 {\n",
       "            background-color:  #f2faf0;\n",
       "            color:  #000000;\n",
       "        }    #T_89432ed2_503c_11eb_880a_00155deb80cdrow4_col0 {\n",
       "            background-color:  #c0e6b9;\n",
       "            color:  #000000;\n",
       "        }    #T_89432ed2_503c_11eb_880a_00155deb80cdrow4_col1 {\n",
       "            background-color:  #e8f6e3;\n",
       "            color:  #000000;\n",
       "        }    #T_89432ed2_503c_11eb_880a_00155deb80cdrow4_col2 {\n",
       "            background-color:  #afdfa8;\n",
       "            color:  #000000;\n",
       "        }    #T_89432ed2_503c_11eb_880a_00155deb80cdrow4_col3 {\n",
       "            background-color:  #b2e0ac;\n",
       "            color:  #000000;\n",
       "        }    #T_89432ed2_503c_11eb_880a_00155deb80cdrow4_col4 {\n",
       "            background-color:  #00441b;\n",
       "            color:  #f1f1f1;\n",
       "        }    #T_89432ed2_503c_11eb_880a_00155deb80cdrow4_col5 {\n",
       "            background-color:  #f4fbf1;\n",
       "            color:  #000000;\n",
       "        }    #T_89432ed2_503c_11eb_880a_00155deb80cdrow4_col6 {\n",
       "            background-color:  #f2faf0;\n",
       "            color:  #000000;\n",
       "        }    #T_89432ed2_503c_11eb_880a_00155deb80cdrow4_col7 {\n",
       "            background-color:  #f6fcf4;\n",
       "            color:  #000000;\n",
       "        }    #T_89432ed2_503c_11eb_880a_00155deb80cdrow4_col8 {\n",
       "            background-color:  #e5f5e1;\n",
       "            color:  #000000;\n",
       "        }    #T_89432ed2_503c_11eb_880a_00155deb80cdrow5_col0 {\n",
       "            background-color:  #f2faf0;\n",
       "            color:  #000000;\n",
       "        }    #T_89432ed2_503c_11eb_880a_00155deb80cdrow5_col1 {\n",
       "            background-color:  #f5fbf3;\n",
       "            color:  #000000;\n",
       "        }    #T_89432ed2_503c_11eb_880a_00155deb80cdrow5_col2 {\n",
       "            background-color:  #eef8ea;\n",
       "            color:  #000000;\n",
       "        }    #T_89432ed2_503c_11eb_880a_00155deb80cdrow5_col3 {\n",
       "            background-color:  #f2faf0;\n",
       "            color:  #000000;\n",
       "        }    #T_89432ed2_503c_11eb_880a_00155deb80cdrow5_col4 {\n",
       "            background-color:  #f5fbf3;\n",
       "            color:  #000000;\n",
       "        }    #T_89432ed2_503c_11eb_880a_00155deb80cdrow5_col5 {\n",
       "            background-color:  #00441b;\n",
       "            color:  #f1f1f1;\n",
       "        }    #T_89432ed2_503c_11eb_880a_00155deb80cdrow5_col6 {\n",
       "            background-color:  #eaf7e6;\n",
       "            color:  #000000;\n",
       "        }    #T_89432ed2_503c_11eb_880a_00155deb80cdrow5_col7 {\n",
       "            background-color:  #f7fcf5;\n",
       "            color:  #000000;\n",
       "        }    #T_89432ed2_503c_11eb_880a_00155deb80cdrow5_col8 {\n",
       "            background-color:  #e9f7e5;\n",
       "            color:  #000000;\n",
       "        }    #T_89432ed2_503c_11eb_880a_00155deb80cdrow6_col0 {\n",
       "            background-color:  #f7fcf5;\n",
       "            color:  #000000;\n",
       "        }    #T_89432ed2_503c_11eb_880a_00155deb80cdrow6_col1 {\n",
       "            background-color:  #f6fcf4;\n",
       "            color:  #000000;\n",
       "        }    #T_89432ed2_503c_11eb_880a_00155deb80cdrow6_col2 {\n",
       "            background-color:  #edf8e9;\n",
       "            color:  #000000;\n",
       "        }    #T_89432ed2_503c_11eb_880a_00155deb80cdrow6_col3 {\n",
       "            background-color:  #f1faee;\n",
       "            color:  #000000;\n",
       "        }    #T_89432ed2_503c_11eb_880a_00155deb80cdrow6_col4 {\n",
       "            background-color:  #f7fcf5;\n",
       "            color:  #000000;\n",
       "        }    #T_89432ed2_503c_11eb_880a_00155deb80cdrow6_col5 {\n",
       "            background-color:  #ecf8e8;\n",
       "            color:  #000000;\n",
       "        }    #T_89432ed2_503c_11eb_880a_00155deb80cdrow6_col6 {\n",
       "            background-color:  #00441b;\n",
       "            color:  #f1f1f1;\n",
       "        }    #T_89432ed2_503c_11eb_880a_00155deb80cdrow6_col7 {\n",
       "            background-color:  #f5fbf2;\n",
       "            color:  #000000;\n",
       "        }    #T_89432ed2_503c_11eb_880a_00155deb80cdrow6_col8 {\n",
       "            background-color:  #ebf7e7;\n",
       "            color:  #000000;\n",
       "        }    #T_89432ed2_503c_11eb_880a_00155deb80cdrow7_col0 {\n",
       "            background-color:  #eff9eb;\n",
       "            color:  #000000;\n",
       "        }    #T_89432ed2_503c_11eb_880a_00155deb80cdrow7_col1 {\n",
       "            background-color:  #f5fbf2;\n",
       "            color:  #000000;\n",
       "        }    #T_89432ed2_503c_11eb_880a_00155deb80cdrow7_col2 {\n",
       "            background-color:  #e7f6e2;\n",
       "            color:  #000000;\n",
       "        }    #T_89432ed2_503c_11eb_880a_00155deb80cdrow7_col3 {\n",
       "            background-color:  #eff9eb;\n",
       "            color:  #000000;\n",
       "        }    #T_89432ed2_503c_11eb_880a_00155deb80cdrow7_col4 {\n",
       "            background-color:  #f7fcf5;\n",
       "            color:  #000000;\n",
       "        }    #T_89432ed2_503c_11eb_880a_00155deb80cdrow7_col5 {\n",
       "            background-color:  #f6fcf4;\n",
       "            color:  #000000;\n",
       "        }    #T_89432ed2_503c_11eb_880a_00155deb80cdrow7_col6 {\n",
       "            background-color:  #f1faee;\n",
       "            color:  #000000;\n",
       "        }    #T_89432ed2_503c_11eb_880a_00155deb80cdrow7_col7 {\n",
       "            background-color:  #00441b;\n",
       "            color:  #f1f1f1;\n",
       "        }    #T_89432ed2_503c_11eb_880a_00155deb80cdrow7_col8 {\n",
       "            background-color:  #ebf7e7;\n",
       "            color:  #000000;\n",
       "        }    #T_89432ed2_503c_11eb_880a_00155deb80cdrow8_col0 {\n",
       "            background-color:  #f2faf0;\n",
       "            color:  #000000;\n",
       "        }    #T_89432ed2_503c_11eb_880a_00155deb80cdrow8_col1 {\n",
       "            background-color:  #f7fcf5;\n",
       "            color:  #000000;\n",
       "        }    #T_89432ed2_503c_11eb_880a_00155deb80cdrow8_col2 {\n",
       "            background-color:  #f7fcf5;\n",
       "            color:  #000000;\n",
       "        }    #T_89432ed2_503c_11eb_880a_00155deb80cdrow8_col3 {\n",
       "            background-color:  #f7fcf5;\n",
       "            color:  #000000;\n",
       "        }    #T_89432ed2_503c_11eb_880a_00155deb80cdrow8_col4 {\n",
       "            background-color:  #f0f9ec;\n",
       "            color:  #000000;\n",
       "        }    #T_89432ed2_503c_11eb_880a_00155deb80cdrow8_col5 {\n",
       "            background-color:  #f2faef;\n",
       "            color:  #000000;\n",
       "        }    #T_89432ed2_503c_11eb_880a_00155deb80cdrow8_col6 {\n",
       "            background-color:  #f1faee;\n",
       "            color:  #000000;\n",
       "        }    #T_89432ed2_503c_11eb_880a_00155deb80cdrow8_col7 {\n",
       "            background-color:  #f5fbf2;\n",
       "            color:  #000000;\n",
       "        }    #T_89432ed2_503c_11eb_880a_00155deb80cdrow8_col8 {\n",
       "            background-color:  #00441b;\n",
       "            color:  #f1f1f1;\n",
       "        }</style><table id=\"T_89432ed2_503c_11eb_880a_00155deb80cd\" ><thead>    <tr>        <th class=\"blank level0\" ></th>        <th class=\"col_heading level0 col0\" >year_published</th>        <th class=\"col_heading level0 col1\" >awards</th>        <th class=\"col_heading level0 col2\" >review_count</th>        <th class=\"col_heading level0 col3\" >rating_count</th>        <th class=\"col_heading level0 col4\" >number_of_pages</th>        <th class=\"col_heading level0 col5\" >series_encoded</th>        <th class=\"col_heading level0 col6\" >publisher_encoded</th>        <th class=\"col_heading level0 col7\" >genre_encoded</th>        <th class=\"col_heading level0 col8\" >average_rating</th>    </tr></thead><tbody>\n",
       "                <tr>\n",
       "                        <th id=\"T_89432ed2_503c_11eb_880a_00155deb80cdlevel0_row0\" class=\"row_heading level0 row0\" >year_published</th>\n",
       "                        <td id=\"T_89432ed2_503c_11eb_880a_00155deb80cdrow0_col0\" class=\"data row0 col0\" >1.000000</td>\n",
       "                        <td id=\"T_89432ed2_503c_11eb_880a_00155deb80cdrow0_col1\" class=\"data row0 col1\" >0.051800</td>\n",
       "                        <td id=\"T_89432ed2_503c_11eb_880a_00155deb80cdrow0_col2\" class=\"data row0 col2\" >0.135408</td>\n",
       "                        <td id=\"T_89432ed2_503c_11eb_880a_00155deb80cdrow0_col3\" class=\"data row0 col3\" >0.114440</td>\n",
       "                        <td id=\"T_89432ed2_503c_11eb_880a_00155deb80cdrow0_col4\" class=\"data row0 col4\" >0.235678</td>\n",
       "                        <td id=\"T_89432ed2_503c_11eb_880a_00155deb80cdrow0_col5\" class=\"data row0 col5\" >-0.017640</td>\n",
       "                        <td id=\"T_89432ed2_503c_11eb_880a_00155deb80cdrow0_col6\" class=\"data row0 col6\" >-0.053005</td>\n",
       "                        <td id=\"T_89432ed2_503c_11eb_880a_00155deb80cdrow0_col7\" class=\"data row0 col7\" >0.010004</td>\n",
       "                        <td id=\"T_89432ed2_503c_11eb_880a_00155deb80cdrow0_col8\" class=\"data row0 col8\" >-0.016778</td>\n",
       "            </tr>\n",
       "            <tr>\n",
       "                        <th id=\"T_89432ed2_503c_11eb_880a_00155deb80cdlevel0_row1\" class=\"row_heading level0 row1\" >awards</th>\n",
       "                        <td id=\"T_89432ed2_503c_11eb_880a_00155deb80cdrow1_col0\" class=\"data row1 col0\" >0.051800</td>\n",
       "                        <td id=\"T_89432ed2_503c_11eb_880a_00155deb80cdrow1_col1\" class=\"data row1 col1\" >1.000000</td>\n",
       "                        <td id=\"T_89432ed2_503c_11eb_880a_00155deb80cdrow1_col2\" class=\"data row1 col2\" >0.375972</td>\n",
       "                        <td id=\"T_89432ed2_503c_11eb_880a_00155deb80cdrow1_col3\" class=\"data row1 col3\" >0.338930</td>\n",
       "                        <td id=\"T_89432ed2_503c_11eb_880a_00155deb80cdrow1_col4\" class=\"data row1 col4\" >0.090404</td>\n",
       "                        <td id=\"T_89432ed2_503c_11eb_880a_00155deb80cdrow1_col5\" class=\"data row1 col5\" >-0.003934</td>\n",
       "                        <td id=\"T_89432ed2_503c_11eb_880a_00155deb80cdrow1_col6\" class=\"data row1 col6\" >-0.010394</td>\n",
       "                        <td id=\"T_89432ed2_503c_11eb_880a_00155deb80cdrow1_col7\" class=\"data row1 col7\" >-0.000673</td>\n",
       "                        <td id=\"T_89432ed2_503c_11eb_880a_00155deb80cdrow1_col8\" class=\"data row1 col8\" >-0.017514</td>\n",
       "            </tr>\n",
       "            <tr>\n",
       "                        <th id=\"T_89432ed2_503c_11eb_880a_00155deb80cdlevel0_row2\" class=\"row_heading level0 row2\" >review_count</th>\n",
       "                        <td id=\"T_89432ed2_503c_11eb_880a_00155deb80cdrow2_col0\" class=\"data row2 col0\" >0.135408</td>\n",
       "                        <td id=\"T_89432ed2_503c_11eb_880a_00155deb80cdrow2_col1\" class=\"data row2 col1\" >0.375972</td>\n",
       "                        <td id=\"T_89432ed2_503c_11eb_880a_00155deb80cdrow2_col2\" class=\"data row2 col2\" >1.000000</td>\n",
       "                        <td id=\"T_89432ed2_503c_11eb_880a_00155deb80cdrow2_col3\" class=\"data row2 col3\" >0.948936</td>\n",
       "                        <td id=\"T_89432ed2_503c_11eb_880a_00155deb80cdrow2_col4\" class=\"data row2 col4\" >0.260591</td>\n",
       "                        <td id=\"T_89432ed2_503c_11eb_880a_00155deb80cdrow2_col5\" class=\"data row2 col5\" >-0.032212</td>\n",
       "                        <td id=\"T_89432ed2_503c_11eb_880a_00155deb80cdrow2_col6\" class=\"data row2 col6\" >-0.024701</td>\n",
       "                        <td id=\"T_89432ed2_503c_11eb_880a_00155deb80cdrow2_col7\" class=\"data row2 col7\" >0.023502</td>\n",
       "                        <td id=\"T_89432ed2_503c_11eb_880a_00155deb80cdrow2_col8\" class=\"data row2 col8\" >-0.102971</td>\n",
       "            </tr>\n",
       "            <tr>\n",
       "                        <th id=\"T_89432ed2_503c_11eb_880a_00155deb80cdlevel0_row3\" class=\"row_heading level0 row3\" >rating_count</th>\n",
       "                        <td id=\"T_89432ed2_503c_11eb_880a_00155deb80cdrow3_col0\" class=\"data row3 col0\" >0.114440</td>\n",
       "                        <td id=\"T_89432ed2_503c_11eb_880a_00155deb80cdrow3_col1\" class=\"data row3 col1\" >0.338930</td>\n",
       "                        <td id=\"T_89432ed2_503c_11eb_880a_00155deb80cdrow3_col2\" class=\"data row3 col2\" >0.948936</td>\n",
       "                        <td id=\"T_89432ed2_503c_11eb_880a_00155deb80cdrow3_col3\" class=\"data row3 col3\" >1.000000</td>\n",
       "                        <td id=\"T_89432ed2_503c_11eb_880a_00155deb80cdrow3_col4\" class=\"data row3 col4\" >0.273292</td>\n",
       "                        <td id=\"T_89432ed2_503c_11eb_880a_00155deb80cdrow3_col5\" class=\"data row3 col5\" >-0.033162</td>\n",
       "                        <td id=\"T_89432ed2_503c_11eb_880a_00155deb80cdrow3_col6\" class=\"data row3 col6\" >-0.023873</td>\n",
       "                        <td id=\"T_89432ed2_503c_11eb_880a_00155deb80cdrow3_col7\" class=\"data row3 col7\" >-0.004157</td>\n",
       "                        <td id=\"T_89432ed2_503c_11eb_880a_00155deb80cdrow3_col8\" class=\"data row3 col8\" >-0.067534</td>\n",
       "            </tr>\n",
       "            <tr>\n",
       "                        <th id=\"T_89432ed2_503c_11eb_880a_00155deb80cdlevel0_row4\" class=\"row_heading level0 row4\" >number_of_pages</th>\n",
       "                        <td id=\"T_89432ed2_503c_11eb_880a_00155deb80cdrow4_col0\" class=\"data row4 col0\" >0.235678</td>\n",
       "                        <td id=\"T_89432ed2_503c_11eb_880a_00155deb80cdrow4_col1\" class=\"data row4 col1\" >0.090404</td>\n",
       "                        <td id=\"T_89432ed2_503c_11eb_880a_00155deb80cdrow4_col2\" class=\"data row4 col2\" >0.260591</td>\n",
       "                        <td id=\"T_89432ed2_503c_11eb_880a_00155deb80cdrow4_col3\" class=\"data row4 col3\" >0.273292</td>\n",
       "                        <td id=\"T_89432ed2_503c_11eb_880a_00155deb80cdrow4_col4\" class=\"data row4 col4\" >1.000000</td>\n",
       "                        <td id=\"T_89432ed2_503c_11eb_880a_00155deb80cdrow4_col5\" class=\"data row4 col5\" >-0.005020</td>\n",
       "                        <td id=\"T_89432ed2_503c_11eb_880a_00155deb80cdrow4_col6\" class=\"data row4 col6\" >-0.019287</td>\n",
       "                        <td id=\"T_89432ed2_503c_11eb_880a_00155deb80cdrow4_col7\" class=\"data row4 col7\" >-0.019580</td>\n",
       "                        <td id=\"T_89432ed2_503c_11eb_880a_00155deb80cdrow4_col8\" class=\"data row4 col8\" >0.033588</td>\n",
       "            </tr>\n",
       "            <tr>\n",
       "                        <th id=\"T_89432ed2_503c_11eb_880a_00155deb80cdlevel0_row5\" class=\"row_heading level0 row5\" >series_encoded</th>\n",
       "                        <td id=\"T_89432ed2_503c_11eb_880a_00155deb80cdrow5_col0\" class=\"data row5 col0\" >-0.017640</td>\n",
       "                        <td id=\"T_89432ed2_503c_11eb_880a_00155deb80cdrow5_col1\" class=\"data row5 col1\" >-0.003934</td>\n",
       "                        <td id=\"T_89432ed2_503c_11eb_880a_00155deb80cdrow5_col2\" class=\"data row5 col2\" >-0.032212</td>\n",
       "                        <td id=\"T_89432ed2_503c_11eb_880a_00155deb80cdrow5_col3\" class=\"data row5 col3\" >-0.033162</td>\n",
       "                        <td id=\"T_89432ed2_503c_11eb_880a_00155deb80cdrow5_col4\" class=\"data row5 col4\" >-0.005020</td>\n",
       "                        <td id=\"T_89432ed2_503c_11eb_880a_00155deb80cdrow5_col5\" class=\"data row5 col5\" >1.000000</td>\n",
       "                        <td id=\"T_89432ed2_503c_11eb_880a_00155deb80cdrow5_col6\" class=\"data row5 col6\" >0.045193</td>\n",
       "                        <td id=\"T_89432ed2_503c_11eb_880a_00155deb80cdrow5_col7\" class=\"data row5 col7\" >-0.023862</td>\n",
       "                        <td id=\"T_89432ed2_503c_11eb_880a_00155deb80cdrow5_col8\" class=\"data row5 col8\" >0.006253</td>\n",
       "            </tr>\n",
       "            <tr>\n",
       "                        <th id=\"T_89432ed2_503c_11eb_880a_00155deb80cdlevel0_row6\" class=\"row_heading level0 row6\" >publisher_encoded</th>\n",
       "                        <td id=\"T_89432ed2_503c_11eb_880a_00155deb80cdrow6_col0\" class=\"data row6 col0\" >-0.053005</td>\n",
       "                        <td id=\"T_89432ed2_503c_11eb_880a_00155deb80cdrow6_col1\" class=\"data row6 col1\" >-0.010394</td>\n",
       "                        <td id=\"T_89432ed2_503c_11eb_880a_00155deb80cdrow6_col2\" class=\"data row6 col2\" >-0.024701</td>\n",
       "                        <td id=\"T_89432ed2_503c_11eb_880a_00155deb80cdrow6_col3\" class=\"data row6 col3\" >-0.023873</td>\n",
       "                        <td id=\"T_89432ed2_503c_11eb_880a_00155deb80cdrow6_col4\" class=\"data row6 col4\" >-0.019287</td>\n",
       "                        <td id=\"T_89432ed2_503c_11eb_880a_00155deb80cdrow6_col5\" class=\"data row6 col5\" >0.045193</td>\n",
       "                        <td id=\"T_89432ed2_503c_11eb_880a_00155deb80cdrow6_col6\" class=\"data row6 col6\" >1.000000</td>\n",
       "                        <td id=\"T_89432ed2_503c_11eb_880a_00155deb80cdrow6_col7\" class=\"data row6 col7\" >-0.006746</td>\n",
       "                        <td id=\"T_89432ed2_503c_11eb_880a_00155deb80cdrow6_col8\" class=\"data row6 col8\" >-0.004562</td>\n",
       "            </tr>\n",
       "            <tr>\n",
       "                        <th id=\"T_89432ed2_503c_11eb_880a_00155deb80cdlevel0_row7\" class=\"row_heading level0 row7\" >genre_encoded</th>\n",
       "                        <td id=\"T_89432ed2_503c_11eb_880a_00155deb80cdrow7_col0\" class=\"data row7 col0\" >0.010004</td>\n",
       "                        <td id=\"T_89432ed2_503c_11eb_880a_00155deb80cdrow7_col1\" class=\"data row7 col1\" >-0.000673</td>\n",
       "                        <td id=\"T_89432ed2_503c_11eb_880a_00155deb80cdrow7_col2\" class=\"data row7 col2\" >0.023502</td>\n",
       "                        <td id=\"T_89432ed2_503c_11eb_880a_00155deb80cdrow7_col3\" class=\"data row7 col3\" >-0.004157</td>\n",
       "                        <td id=\"T_89432ed2_503c_11eb_880a_00155deb80cdrow7_col4\" class=\"data row7 col4\" >-0.019580</td>\n",
       "                        <td id=\"T_89432ed2_503c_11eb_880a_00155deb80cdrow7_col5\" class=\"data row7 col5\" >-0.023862</td>\n",
       "                        <td id=\"T_89432ed2_503c_11eb_880a_00155deb80cdrow7_col6\" class=\"data row7 col6\" >-0.006746</td>\n",
       "                        <td id=\"T_89432ed2_503c_11eb_880a_00155deb80cdrow7_col7\" class=\"data row7 col7\" >1.000000</td>\n",
       "                        <td id=\"T_89432ed2_503c_11eb_880a_00155deb80cdrow7_col8\" class=\"data row7 col8\" >-0.007393</td>\n",
       "            </tr>\n",
       "            <tr>\n",
       "                        <th id=\"T_89432ed2_503c_11eb_880a_00155deb80cdlevel0_row8\" class=\"row_heading level0 row8\" >average_rating</th>\n",
       "                        <td id=\"T_89432ed2_503c_11eb_880a_00155deb80cdrow8_col0\" class=\"data row8 col0\" >-0.016778</td>\n",
       "                        <td id=\"T_89432ed2_503c_11eb_880a_00155deb80cdrow8_col1\" class=\"data row8 col1\" >-0.017514</td>\n",
       "                        <td id=\"T_89432ed2_503c_11eb_880a_00155deb80cdrow8_col2\" class=\"data row8 col2\" >-0.102971</td>\n",
       "                        <td id=\"T_89432ed2_503c_11eb_880a_00155deb80cdrow8_col3\" class=\"data row8 col3\" >-0.067534</td>\n",
       "                        <td id=\"T_89432ed2_503c_11eb_880a_00155deb80cdrow8_col4\" class=\"data row8 col4\" >0.033588</td>\n",
       "                        <td id=\"T_89432ed2_503c_11eb_880a_00155deb80cdrow8_col5\" class=\"data row8 col5\" >0.006253</td>\n",
       "                        <td id=\"T_89432ed2_503c_11eb_880a_00155deb80cdrow8_col6\" class=\"data row8 col6\" >-0.004562</td>\n",
       "                        <td id=\"T_89432ed2_503c_11eb_880a_00155deb80cdrow8_col7\" class=\"data row8 col7\" >-0.007393</td>\n",
       "                        <td id=\"T_89432ed2_503c_11eb_880a_00155deb80cdrow8_col8\" class=\"data row8 col8\" >1.000000</td>\n",
       "            </tr>\n",
       "    </tbody></table>"
      ],
      "text/plain": [
       "<pandas.io.formats.style.Styler at 0x11bcaee4400>"
      ]
     },
     "execution_count": 148,
     "metadata": {},
     "output_type": "execute_result"
    }
   ],
   "source": [
    "# correlation analysis\n",
    "corrMatrix = df.corr()\n",
    "corrMatrix.style.background_gradient(cmap='Greens')"
   ]
  },
  {
   "cell_type": "code",
   "execution_count": 149,
   "metadata": {},
   "outputs": [
    {
     "data": {
      "text/plain": [
       "review_count         0.010603\n",
       "rating_count         0.004561\n",
       "number_of_pages      0.001128\n",
       "awards               0.000307\n",
       "year_published       0.000282\n",
       "genre_encoded        0.000055\n",
       "series_encoded       0.000039\n",
       "publisher_encoded    0.000021\n",
       "Name: average_rating, dtype: float64"
      ]
     },
     "execution_count": 149,
     "metadata": {},
     "output_type": "execute_result"
    }
   ],
   "source": [
    "(df.corr()**2)[\"average_rating\"].sort_values(ascending = False)[1:]"
   ]
  },
  {
   "cell_type": "markdown",
   "metadata": {},
   "source": [
    "## Observation:\n",
    "\n",
    "- Despite of doing some feature engineering, correlation is not enough efficient for the target variable 'avg_rating' at all.\n",
    "\n",
    "- Consequently, I will take feature extraction on 'description' feature. "
   ]
  },
  {
   "cell_type": "markdown",
   "metadata": {},
   "source": [
    "## Seperate label columns"
   ]
  },
  {
   "cell_type": "code",
   "execution_count": 150,
   "metadata": {},
   "outputs": [],
   "source": [
    "X_train = df.copy()\n",
    "del(X_train['average_rating'])\n",
    "y_train = df['average_rating']"
   ]
  },
  {
   "cell_type": "code",
   "execution_count": 151,
   "metadata": {},
   "outputs": [
    {
     "data": {
      "text/plain": [
       "0    4.42\n",
       "1    3.96\n",
       "Name: average_rating, dtype: float64"
      ]
     },
     "execution_count": 151,
     "metadata": {},
     "output_type": "execute_result"
    }
   ],
   "source": [
    "y_train.head(2)"
   ]
  },
  {
   "cell_type": "code",
   "execution_count": 152,
   "metadata": {},
   "outputs": [
    {
     "data": {
      "text/plain": [
       "33403"
      ]
     },
     "execution_count": 152,
     "metadata": {},
     "output_type": "execute_result"
    }
   ],
   "source": [
    "len(y_train)"
   ]
  },
  {
   "cell_type": "markdown",
   "metadata": {},
   "source": [
    "# Feature Extraction"
   ]
  },
  {
   "cell_type": "markdown",
   "metadata": {},
   "source": [
    "### Textual mining on 'decription' feature on X_train and y_train "
   ]
  },
  {
   "cell_type": "code",
   "execution_count": 153,
   "metadata": {},
   "outputs": [],
   "source": [
    "np.random.seed(0)"
   ]
  },
  {
   "cell_type": "code",
   "execution_count": 154,
   "metadata": {},
   "outputs": [],
   "source": [
    "from sklearn.model_selection import train_test_split\n",
    "\n",
    "X_train, X_val, y_train, y_val = train_test_split(X_train, y_train, test_size=0.2, random_state=0, shuffle=True)"
   ]
  },
  {
   "cell_type": "code",
   "execution_count": 155,
   "metadata": {},
   "outputs": [
    {
     "name": "stdout",
     "output_type": "stream",
     "text": [
      "(26722, 12)\n",
      "(6681, 12)\n",
      "(26722,)\n",
      "(6681,)\n"
     ]
    }
   ],
   "source": [
    "print(X_train.shape)\n",
    "print(X_val.shape)\n",
    "print(y_train.shape)\n",
    "print(y_val.shape)"
   ]
  },
  {
   "cell_type": "markdown",
   "metadata": {},
   "source": [
    "#### Tokenizing text function"
   ]
  },
  {
   "cell_type": "code",
   "execution_count": 156,
   "metadata": {},
   "outputs": [],
   "source": [
    "# lower, tokenize and stem\n",
    "def text_tokenize(text):\n",
    "    text = text.lower()\n",
    "    word_tokens = nltk.word_tokenize(text) \n",
    "    stop_words = set(stopwords.words('english'))\n",
    "    stop_words.update(['.', ',', '\"', \"'\", ':', ';', '(', ')', '[', ']', '{', '}'])\n",
    "    filtered_sentence = [w for w in word_tokens if not w in stop_words]  \n",
    "    stems = []\n",
    "    for item in filtered_sentence:\n",
    "        stems.append(PorterStemmer().stem(item))\n",
    "    return stems"
   ]
  },
  {
   "cell_type": "code",
   "execution_count": 157,
   "metadata": {},
   "outputs": [],
   "source": [
    "from sklearn.feature_extraction.text import TfidfVectorizer\n",
    "vectorizer = TfidfVectorizer(tokenizer=text_tokenize)"
   ]
  },
  {
   "cell_type": "code",
   "execution_count": 158,
   "metadata": {},
   "outputs": [
    {
     "name": "stdout",
     "output_type": "stream",
     "text": [
      "Wall time: 2min 31s\n"
     ]
    }
   ],
   "source": [
    "%%time\n",
    "# use fit_transform with the train set\n",
    "X_train_tfidf = vectorizer.fit_transform(X_train['description'])\n",
    "\n",
    "#call the transform with the test set\n",
    "X_val_tfidf = vectorizer.transform(X_val['description'])"
   ]
  },
  {
   "cell_type": "code",
   "execution_count": 159,
   "metadata": {},
   "outputs": [],
   "source": [
    "X_train_tfidf = X_train_tfidf[:, X_train_tfidf.getnnz(0) > 100]\n",
    "X_val_tfidf = X_val_tfidf[:, X_train_tfidf.getnnz(0) > 100]"
   ]
  },
  {
   "cell_type": "code",
   "execution_count": 160,
   "metadata": {},
   "outputs": [],
   "source": [
    "X_train_tfidf = pd.DataFrame(X_train_tfidf.todense())\n",
    "X_val_tfidf = pd.DataFrame(X_val_tfidf.todense())"
   ]
  },
  {
   "cell_type": "code",
   "execution_count": 161,
   "metadata": {},
   "outputs": [
    {
     "data": {
      "text/plain": [
       "(26722, 2673)"
      ]
     },
     "execution_count": 161,
     "metadata": {},
     "output_type": "execute_result"
    }
   ],
   "source": [
    "X_train_tfidf.shape"
   ]
  },
  {
   "cell_type": "code",
   "execution_count": 162,
   "metadata": {},
   "outputs": [
    {
     "data": {
      "text/plain": [
       "(6681, 2673)"
      ]
     },
     "execution_count": 162,
     "metadata": {},
     "output_type": "execute_result"
    }
   ],
   "source": [
    "X_val_tfidf.shape"
   ]
  },
  {
   "cell_type": "markdown",
   "metadata": {},
   "source": [
    "### Sentiment score  "
   ]
  },
  {
   "cell_type": "code",
   "execution_count": 163,
   "metadata": {},
   "outputs": [],
   "source": [
    "from nltk.sentiment.vader import SentimentIntensityAnalyzer\n",
    "sid = SentimentIntensityAnalyzer()"
   ]
  },
  {
   "cell_type": "code",
   "execution_count": 164,
   "metadata": {},
   "outputs": [],
   "source": [
    "# get the sentiment scores\n",
    "X_train_sent = X_train['description'].apply(lambda x: sid.polarity_scores(x))\n",
    "X_val_sent = X_val['description'].apply(lambda x: sid.polarity_scores(x))"
   ]
  },
  {
   "cell_type": "code",
   "execution_count": 165,
   "metadata": {},
   "outputs": [],
   "source": [
    "# convert to pd dataframes and transpose\n",
    "X_train_sent = pd.DataFrame.from_dict(dict(X_train_sent)).T.reset_index(drop=True)\n",
    "X_val_sent = pd.DataFrame.from_dict(dict(X_val_sent)).T.reset_index(drop=True)"
   ]
  },
  {
   "cell_type": "code",
   "execution_count": 166,
   "metadata": {},
   "outputs": [],
   "source": [
    "# concat 2 feature types\n",
    "X_train_combine = X_train_sent.join(X_train_tfidf)\n",
    "X_val_combine = X_val_sent.join(X_val_tfidf)"
   ]
  },
  {
   "cell_type": "code",
   "execution_count": 167,
   "metadata": {},
   "outputs": [
    {
     "data": {
      "text/plain": [
       "26722"
      ]
     },
     "execution_count": 167,
     "metadata": {},
     "output_type": "execute_result"
    }
   ],
   "source": [
    "len(X_train_combine)"
   ]
  },
  {
   "cell_type": "code",
   "execution_count": 168,
   "metadata": {},
   "outputs": [
    {
     "data": {
      "text/plain": [
       "6681"
      ]
     },
     "execution_count": 168,
     "metadata": {},
     "output_type": "execute_result"
    }
   ],
   "source": [
    "len(X_val_combine)"
   ]
  },
  {
   "cell_type": "code",
   "execution_count": 169,
   "metadata": {},
   "outputs": [
    {
     "data": {
      "text/plain": [
       "(26722,)"
      ]
     },
     "execution_count": 169,
     "metadata": {},
     "output_type": "execute_result"
    }
   ],
   "source": [
    "y_train.shape"
   ]
  },
  {
   "cell_type": "markdown",
   "metadata": {},
   "source": [
    "# Feature Selection summary"
   ]
  },
  {
   "cell_type": "markdown",
   "metadata": {},
   "source": [
    "According to feature engineering and feature extraction, in order to apply efficient features for the best model's result. I will select several observed features to train and predict.\n",
    "\n",
    "- Linear Regression:\n",
    "    - rating_count\n",
    "    - review_count \n",
    "- Xgboost Model: \n",
    "    - description"
   ]
  },
  {
   "cell_type": "code",
   "execution_count": 170,
   "metadata": {},
   "outputs": [
    {
     "data": {
      "text/html": [
       "<div>\n",
       "<style scoped>\n",
       "    .dataframe tbody tr th:only-of-type {\n",
       "        vertical-align: middle;\n",
       "    }\n",
       "\n",
       "    .dataframe tbody tr th {\n",
       "        vertical-align: top;\n",
       "    }\n",
       "\n",
       "    .dataframe thead th {\n",
       "        text-align: right;\n",
       "    }\n",
       "</style>\n",
       "<table border=\"1\" class=\"dataframe\">\n",
       "  <thead>\n",
       "    <tr style=\"text-align: right;\">\n",
       "      <th></th>\n",
       "      <th>year_published</th>\n",
       "      <th>awards</th>\n",
       "      <th>review_count</th>\n",
       "      <th>rating_count</th>\n",
       "      <th>number_of_pages</th>\n",
       "      <th>series_encoded</th>\n",
       "      <th>publisher_encoded</th>\n",
       "      <th>genre_encoded</th>\n",
       "    </tr>\n",
       "  </thead>\n",
       "  <tbody>\n",
       "    <tr>\n",
       "      <th>11855</th>\n",
       "      <td>2002.0</td>\n",
       "      <td>0</td>\n",
       "      <td>5.174993</td>\n",
       "      <td>12.538968</td>\n",
       "      <td>25.706636</td>\n",
       "      <td>2348</td>\n",
       "      <td>8170</td>\n",
       "      <td>384</td>\n",
       "    </tr>\n",
       "    <tr>\n",
       "      <th>27747</th>\n",
       "      <td>2017.0</td>\n",
       "      <td>0</td>\n",
       "      <td>5.722177</td>\n",
       "      <td>9.000810</td>\n",
       "      <td>31.325269</td>\n",
       "      <td>4917</td>\n",
       "      <td>5377</td>\n",
       "      <td>215</td>\n",
       "    </tr>\n",
       "  </tbody>\n",
       "</table>\n",
       "</div>"
      ],
      "text/plain": [
       "       year_published  awards  review_count  rating_count  number_of_pages  \\\n",
       "11855          2002.0       0      5.174993     12.538968        25.706636   \n",
       "27747          2017.0       0      5.722177      9.000810        31.325269   \n",
       "\n",
       "       series_encoded  publisher_encoded  genre_encoded  \n",
       "11855            2348               8170            384  \n",
       "27747            4917               5377            215  "
      ]
     },
     "execution_count": 170,
     "metadata": {},
     "output_type": "execute_result"
    }
   ],
   "source": [
    "# dropping object columns\n",
    "X_train = X_train[['year_published','awards','review_count','rating_count','number_of_pages','series_encoded','publisher_encoded','genre_encoded']]\n",
    "X_train.head(2)"
   ]
  },
  {
   "cell_type": "markdown",
   "metadata": {},
   "source": [
    "# Task 3: Data Modelling"
   ]
  },
  {
   "cell_type": "markdown",
   "metadata": {},
   "source": [
    "# Xgboost Model"
   ]
  },
  {
   "cell_type": "markdown",
   "metadata": {},
   "source": [
    "## Train the model on X_train and y_train"
   ]
  },
  {
   "cell_type": "code",
   "execution_count": 171,
   "metadata": {},
   "outputs": [],
   "source": [
    "import sklearn.metrics as metrics\n",
    "import xgboost"
   ]
  },
  {
   "cell_type": "code",
   "execution_count": 172,
   "metadata": {},
   "outputs": [
    {
     "data": {
      "text/plain": [
       "107.50123739242554"
      ]
     },
     "execution_count": 172,
     "metadata": {},
     "output_type": "execute_result"
    }
   ],
   "source": [
    "start = time.time()\n",
    "model = xgboost.XGBRegressor()\n",
    "model = model.fit(X_train_tfidf,y_train)\n",
    "stop = time.time()\n",
    "time_XG = stop - start\n",
    "time_XG"
   ]
  },
  {
   "cell_type": "code",
   "execution_count": 173,
   "metadata": {},
   "outputs": [],
   "source": [
    "y_pred = model.predict(X_val_tfidf)"
   ]
  },
  {
   "cell_type": "code",
   "execution_count": 174,
   "metadata": {},
   "outputs": [
    {
     "name": "stdout",
     "output_type": "stream",
     "text": [
      "MAE:  0.2597717684090735\n",
      "RMSE:  0.12819600680689158\n",
      "R2:  -84.76296249185704\n"
     ]
    }
   ],
   "source": [
    "# The mean absolute error\n",
    "MAE_XG = metrics.mean_absolute_error(y_pred, y_val)\n",
    "# The mean squared error\n",
    "RMSE_XG = metrics.mean_squared_error(y_pred, y_val)\n",
    "# The coefficient of determination: 1 is perfect prediction\n",
    "R2_XG = metrics.r2_score(y_pred, y_val)\n",
    "print(\"MAE: \", MAE_XG)\n",
    "print(\"RMSE: \", RMSE_XG)\n",
    "print(\"R2: \", R2_XG)"
   ]
  },
  {
   "cell_type": "markdown",
   "metadata": {},
   "source": [
    "## Retrain the model with sentiment scores"
   ]
  },
  {
   "cell_type": "code",
   "execution_count": 175,
   "metadata": {},
   "outputs": [
    {
     "data": {
      "text/plain": [
       "104.77424597740173"
      ]
     },
     "execution_count": 175,
     "metadata": {},
     "output_type": "execute_result"
    }
   ],
   "source": [
    "start = time.time()\n",
    "model = xgboost.XGBRegressor()\n",
    "model = model.fit(X_train_combine,y_train)\n",
    "stop = time.time()\n",
    "time_sent = stop - start\n",
    "time_sent"
   ]
  },
  {
   "cell_type": "code",
   "execution_count": 176,
   "metadata": {},
   "outputs": [],
   "source": [
    "# Make predictions using the testing set\n",
    "y_pred = model.predict(X_val_combine)"
   ]
  },
  {
   "cell_type": "code",
   "execution_count": 177,
   "metadata": {},
   "outputs": [
    {
     "name": "stdout",
     "output_type": "stream",
     "text": [
      "MAE:  0.2597717684090735\n",
      "RMSE:  0.12819600680689158\n",
      "R2:  -84.76296249185704\n"
     ]
    }
   ],
   "source": [
    "# The mean absolute error\n",
    "MAE_sent = metrics.mean_absolute_error(y_pred, y_val)\n",
    "# The mean squared error\n",
    "RMSE_sent = metrics.mean_squared_error(y_pred, y_val)\n",
    "# The coefficient of determination: 1 is perfect prediction\n",
    "R2_sent = metrics.r2_score(y_pred, y_val)\n",
    "print(\"MAE: \", MAE_sent)\n",
    "print(\"RMSE: \", RMSE_sent)\n",
    "print(\"R2: \", R2_sent)"
   ]
  },
  {
   "cell_type": "markdown",
   "metadata": {},
   "source": [
    "# Linear Regression"
   ]
  },
  {
   "cell_type": "markdown",
   "metadata": {},
   "source": [
    "## Fit the model with 'review_count' features"
   ]
  },
  {
   "cell_type": "code",
   "execution_count": 178,
   "metadata": {},
   "outputs": [],
   "source": [
    "# use fix training skeness features\n",
    "X_train_one = np.array(X_train['review_count'])\n",
    "y_train = np.array(y_train)"
   ]
  },
  {
   "cell_type": "code",
   "execution_count": 179,
   "metadata": {},
   "outputs": [
    {
     "data": {
      "text/plain": [
       "(26722,)"
      ]
     },
     "execution_count": 179,
     "metadata": {},
     "output_type": "execute_result"
    }
   ],
   "source": [
    "X_train_one.shape"
   ]
  },
  {
   "cell_type": "code",
   "execution_count": 180,
   "metadata": {},
   "outputs": [
    {
     "data": {
      "text/plain": [
       "(26722,)"
      ]
     },
     "execution_count": 180,
     "metadata": {},
     "output_type": "execute_result"
    }
   ],
   "source": [
    "y_train.shape"
   ]
  },
  {
   "cell_type": "code",
   "execution_count": 181,
   "metadata": {},
   "outputs": [],
   "source": [
    "# reshape to avoid errors\n",
    "X_train_one = X_train_one.reshape(len(X_train_one),1)\n",
    "y_train = y_train.reshape(len(y_train),1)"
   ]
  },
  {
   "cell_type": "code",
   "execution_count": 182,
   "metadata": {},
   "outputs": [],
   "source": [
    "#split into train and validation sets\n",
    "X_train, X_val, y_train, y_val = train_test_split(X_train_one, y_train, test_size=0.2, random_state=0, shuffle=True)"
   ]
  },
  {
   "cell_type": "code",
   "execution_count": 183,
   "metadata": {},
   "outputs": [
    {
     "data": {
      "text/plain": [
       "21377"
      ]
     },
     "execution_count": 183,
     "metadata": {},
     "output_type": "execute_result"
    }
   ],
   "source": [
    "len(X_train)"
   ]
  },
  {
   "cell_type": "code",
   "execution_count": 184,
   "metadata": {},
   "outputs": [
    {
     "data": {
      "text/plain": [
       "0.08199048042297363"
      ]
     },
     "execution_count": 184,
     "metadata": {},
     "output_type": "execute_result"
    }
   ],
   "source": [
    "model = linear_model.LinearRegression()\n",
    "start = time.time()\n",
    "model.fit(X_train, y_train)\n",
    "stop = time.time()\n",
    "time_SL = stop - start\n",
    "time_SL"
   ]
  },
  {
   "cell_type": "code",
   "execution_count": 185,
   "metadata": {},
   "outputs": [],
   "source": [
    "y_pred = model.predict(X_val)"
   ]
  },
  {
   "cell_type": "code",
   "execution_count": 186,
   "metadata": {},
   "outputs": [
    {
     "name": "stdout",
     "output_type": "stream",
     "text": [
      "MAE:  0.2571370094988154\n",
      "RMSE:  0.13037191559918093\n",
      "R2:  -106.85173871779178\n"
     ]
    }
   ],
   "source": [
    "# The mean absolute error\n",
    "MAE_SL = metrics.mean_absolute_error(y_pred, y_val)\n",
    "# The mean squared error\n",
    "RMSE_SL = metrics.mean_squared_error(y_pred, y_val)\n",
    "# The coefficient of determination: 1 is perfect prediction\n",
    "R2_SL = metrics.r2_score(y_pred, y_val)\n",
    "print(\"MAE: \", MAE_SL)\n",
    "print(\"RMSE: \", RMSE_SL)\n",
    "print(\"R2: \", R2_SL)"
   ]
  },
  {
   "cell_type": "markdown",
   "metadata": {},
   "source": [
    "# Multiple Linear Regression"
   ]
  },
  {
   "cell_type": "code",
   "execution_count": 187,
   "metadata": {},
   "outputs": [],
   "source": [
    "from sklearn.model_selection import train_test_split\n",
    "\n",
    "X_train, X_val, y_train, y_val = train_test_split(X_train, y_train, test_size=0.2, random_state=0)"
   ]
  },
  {
   "cell_type": "code",
   "execution_count": 188,
   "metadata": {},
   "outputs": [],
   "source": [
    "np.random.seed(0)"
   ]
  },
  {
   "cell_type": "code",
   "execution_count": 189,
   "metadata": {},
   "outputs": [
    {
     "data": {
      "text/plain": [
       "0.0010223388671875"
      ]
     },
     "execution_count": 189,
     "metadata": {},
     "output_type": "execute_result"
    }
   ],
   "source": [
    "model = linear_model.LinearRegression()\n",
    "start = time.time()\n",
    "model.fit(X_train, y_train)\n",
    "stop = time.time()\n",
    "time_ML = stop - start\n",
    "time_ML"
   ]
  },
  {
   "cell_type": "code",
   "execution_count": 190,
   "metadata": {},
   "outputs": [],
   "source": [
    "y_pred = model.predict(X_val)"
   ]
  },
  {
   "cell_type": "code",
   "execution_count": 191,
   "metadata": {},
   "outputs": [
    {
     "name": "stdout",
     "output_type": "stream",
     "text": [
      "MAE:  0.25939538657672556\n",
      "RMSE:  0.13098809878783368\n",
      "R2:  -114.66908180891188\n"
     ]
    }
   ],
   "source": [
    "# The mean absolute error\n",
    "MAE_ML = metrics.mean_absolute_error(y_pred, y_val)\n",
    "# The mean squared error\n",
    "RMSE_ML = metrics.mean_squared_error(y_pred, y_val)\n",
    "# The coefficient of determination: 1 is perfect prediction\n",
    "R2_ML = metrics.r2_score(y_pred, y_val)\n",
    "print(\"MAE: \", MAE_ML)\n",
    "print(\"RMSE: \", RMSE_ML)\n",
    "print(\"R2: \", R2_ML)"
   ]
  },
  {
   "cell_type": "markdown",
   "metadata": {},
   "source": [
    "# Polinomial Regression"
   ]
  },
  {
   "cell_type": "code",
   "execution_count": 192,
   "metadata": {},
   "outputs": [
    {
     "data": {
      "text/plain": [
       "0.03099846839904785"
      ]
     },
     "execution_count": 192,
     "metadata": {},
     "output_type": "execute_result"
    }
   ],
   "source": [
    "from sklearn.preprocessing import PolynomialFeatures\n",
    "from sklearn.pipeline import Pipeline\n",
    "model = Pipeline([('poly', PolynomialFeatures(degree=8)),\n",
    "                  ('linear', linear_model.LinearRegression())])\n",
    "\n",
    "start = time.time()\n",
    "model = model.fit(X_train,y_train)\n",
    "stop = time.time()\n",
    "time_PR = stop - start\n",
    "time_PR"
   ]
  },
  {
   "cell_type": "code",
   "execution_count": 193,
   "metadata": {},
   "outputs": [],
   "source": [
    "# Make predictions using the testing set\n",
    "y_pred = model.predict(X_val)"
   ]
  },
  {
   "cell_type": "code",
   "execution_count": 194,
   "metadata": {},
   "outputs": [
    {
     "name": "stdout",
     "output_type": "stream",
     "text": [
      "MAE:  0.25827367196360357\n",
      "RMSE:  0.12991408304258736\n",
      "R2:  -49.68076915279156\n"
     ]
    }
   ],
   "source": [
    "# The mean absolute error\n",
    "MAE_PR = metrics.mean_absolute_error(y_pred, y_val)\n",
    "# The mean squared error\n",
    "RMSE_PR = metrics.mean_squared_error(y_pred, y_val)\n",
    "# The coefficient of determination: 1 is perfect prediction\n",
    "R2_PR = metrics.r2_score(y_pred, y_val)\n",
    "print(\"MAE: \", MAE_PR)\n",
    "print(\"RMSE: \", RMSE_PR)\n",
    "print(\"R2: \", R2_PR)"
   ]
  },
  {
   "cell_type": "code",
   "execution_count": 195,
   "metadata": {},
   "outputs": [
    {
     "name": "stdout",
     "output_type": "stream",
     "text": [
      "                           Model      RMSE       MAE          R2  \\\n",
      "0                        XgBoost  0.128196  0.259772  -84.762962   \n",
      "1  XgBoost with Sentiment scores  0.128196  0.259772  -84.762962   \n",
      "2       Simple Linear Regression  0.130372  0.257137 -106.851739   \n",
      "3     Multiple Linear Regression  0.130988  0.259395 -114.669082   \n",
      "4          Polinomial Regression  0.129914  0.258274  -49.680769   \n",
      "\n",
      "   Training Time  \n",
      "0     107.501237  \n",
      "1     104.774246  \n",
      "2       0.081990  \n",
      "3       0.001022  \n",
      "4       0.030998  \n"
     ]
    }
   ],
   "source": [
    "# print result table\n",
    "table = {'Model': ['XgBoost','XgBoost with Sentiment scores','Simple Linear Regression','Multiple Linear Regression', 'Polinomial Regression'],     \n",
    "         \n",
    "         'RMSE': [RMSE_XG,RMSE_sent,RMSE_SL, RMSE_ML, RMSE_PR,],\n",
    "         'MAE': [ MAE_XG,MAE_sent,MAE_SL, MAE_ML, MAE_PR],\n",
    "         'R2': [ R2_XG,R2_sent,R2_SL, R2_ML, R2_PR],\n",
    "         'Training Time': [time_XG,time_sent,time_SL,time_ML,time_PR]\n",
    "        }\n",
    "Result_table = pd.DataFrame (table, columns = ['Model','RMSE','MAE','R2', 'Training Time'])\n",
    "print(Result_table)"
   ]
  },
  {
   "cell_type": "markdown",
   "metadata": {},
   "source": [
    "# Final Observations: "
   ]
  },
  {
   "cell_type": "markdown",
   "metadata": {},
   "source": [
    "According to the table of results: \n",
    "   - I have tried 5 models including TF-IDF, XgBoost and Linear Regression\n",
    "   - It can be seen that the most efficient model is Polyminal Regression to predict avg_rating scores. "
   ]
  },
  {
   "cell_type": "code",
   "execution_count": null,
   "metadata": {},
   "outputs": [],
   "source": []
  }
 ],
 "metadata": {
  "kernelspec": {
   "display_name": "Python 3",
   "language": "python",
   "name": "python3"
  },
  "language_info": {
   "codemirror_mode": {
    "name": "ipython",
    "version": 3
   },
   "file_extension": ".py",
   "mimetype": "text/x-python",
   "name": "python",
   "nbconvert_exporter": "python",
   "pygments_lexer": "ipython3",
   "version": "3.8.3"
  }
 },
 "nbformat": 4,
 "nbformat_minor": 4
}
